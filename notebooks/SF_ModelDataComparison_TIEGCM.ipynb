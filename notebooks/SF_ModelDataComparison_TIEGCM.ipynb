{
 "cells": [
  {
   "cell_type": "code",
   "execution_count": null,
   "id": "b357d738",
   "metadata": {},
   "outputs": [],
   "source": [
    "from kamodo_ccmc.flythrough import SatelliteFlythrough as SF\n",
    "\n",
    "# Set input values for RealFlight function call.\n",
    "model = 'TIEGCM'\n",
    "file_dir = 'C:/Users/rringuet/Kamodo_Data/TIEGCM/Uriel_Ramirez_012517_IT_1/'\n",
    "dataset = 'cnofs'\n",
    "start_utcts, end_utcts = 1426638000, 1426665600\n",
    "variable_list = ['T_i'] # list of desired variable names\n",
    "coord_type = 'GEO'  # GEO cartesian coordinates for the trajectory.\n",
    "results = SF.RealFlight(dataset, start_utcts, end_utcts, model, file_dir, \n",
    "                        variable_list, coord_type)\n",
    "\n",
    "# Functionalize the results\n",
    "kamodo_object = SF.WO.Functionalize_SFResults(model,results)\n",
    "kamodo_object"
   ]
  },
  {
   "cell_type": "code",
   "execution_count": null,
   "id": "d1a3e37a",
   "metadata": {},
   "outputs": [],
   "source": [
    "# Get CINDI data through HAPI\n",
    "from kamodo_ccmc.readers.hapi import HAPI\n",
    "\n",
    "server = 'https://cdaweb.gsfc.nasa.gov/hapi'\n",
    "dataset = 'CNOFS_CINDI_IVM_500MS'\n",
    "parameters = 'ionTemperature'\n",
    "start      = '2015-03-18T00:20:00'\n",
    "stop       = '2015-03-18T08:00:00'\n",
    "hapiCDA = HAPI(server, dataset, parameters, start, stop)"
   ]
  },
  {
   "cell_type": "code",
   "execution_count": null,
   "id": "a0ebde56",
   "metadata": {},
   "outputs": [],
   "source": [
    "# Add the new time series into the Kamodo object\n",
    "kamodo_object = SF.WO.Functionalize_TimeSeries(hapiCDA.tsarray, 'T_iCINDI', \n",
    "                                               'K', hapiCDA.ionTemperature(), \n",
    "                                               kamodo_object=kamodo_object)\n",
    "kamodo_object['DIFF'] = 'abs(T_iCINDI - T_i)'\n",
    "kamodo_object"
   ]
  },
  {
   "cell_type": "code",
   "execution_count": null,
   "id": "67f9b7da",
   "metadata": {},
   "outputs": [],
   "source": [
    "# Now we can plot model and data on the same figure with the difference\n",
    "kamodo_object.plot('T_i','T_iCINDI','DIFF')"
   ]
  }
 ],
 "metadata": {
  "kernelspec": {
   "display_name": "Python 3 (ipykernel)",
   "language": "python",
   "name": "python3"
  },
  "language_info": {
   "codemirror_mode": {
    "name": "ipython",
    "version": 3
   },
   "file_extension": ".py",
   "mimetype": "text/x-python",
   "name": "python",
   "nbconvert_exporter": "python",
   "pygments_lexer": "ipython3",
   "version": "3.7.13"
  }
 },
 "nbformat": 4,
 "nbformat_minor": 5
}
