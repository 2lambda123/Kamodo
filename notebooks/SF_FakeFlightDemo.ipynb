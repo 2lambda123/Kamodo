{
 "cells": [
  {
   "cell_type": "markdown",
   "id": "44a27d0f",
   "metadata": {},
   "source": [
    "# Demo notebook for Kamodo Flythrough \"FakeFlight\" function\n",
    "The FakeFlight function flies a user-designed trajectory through the chosen model data. The sample trajectory is created using a few input parameters as described in the output of block 2.\n",
    "You may run the notebook as is if you have the sample data file, but you must\n",
    "change the 'file_dir', 'output_name', and 'plot_output' variables in block 3 to have the correct file path. The output file must be deleted before rerunning the notebook."
   ]
  },
  {
   "cell_type": "code",
   "execution_count": null,
   "id": "statewide-animation",
   "metadata": {},
   "outputs": [],
   "source": [
    "# Import satellite flythrough code\n",
    "from kamodo_ccmc.flythrough import SatelliteFlythrough as SF\n",
    "import kamodo_ccmc.flythrough.model_wrapper as MW\n",
    "# The testing data file is available at https://ccmc.gsfc.nasa.gov/RoR_WWW/output_files/KAMODO_DEMO/"
   ]
  },
  {
   "cell_type": "code",
   "execution_count": null,
   "id": "9f2b28b9",
   "metadata": {
    "scrolled": true
   },
   "outputs": [],
   "source": [
    "help(SF.FakeFlight)"
   ]
  },
  {
   "cell_type": "code",
   "execution_count": null,
   "id": "reflected-aggregate",
   "metadata": {},
   "outputs": [],
   "source": [
    "# Choosing input values for FakeFlight function call\n",
    "model = 'TIEGCM'  # Choose which model and data to view the example for\n",
    "file_dir = 'C:/Users/rringuet/Kamodo_Data/TIEGCM/Data/'  # full file path to where the model output data is stored\n",
    "\n",
    "# Choose time range and cadence of fake trajectory\n",
    "start_utcts, end_utcts, n = 1068771600, 1069632000, 100.\n",
    "# The chosen time range should match the length of time in the model data files.\n",
    "# Time values found not to be contained in the model data are automatically discarded (see output of next block).\n",
    "\n",
    "variable_list = ['rho','u_n','T_e']  # list of desired variable names \n",
    "# Not all variables in the list will be available in the file(s) found.\n",
    "\n",
    "# Choose naming convention for output files\n",
    "output_name = 'C:/Users/rringuet/Kamodo_env/FakeFlightExample_TIEGCM.csv'\n",
    "plot_coord = 'GSE'  # coordinate system chosen for output plots\n",
    "# See https://sscweb.gsfc.nasa.gov/users_guide/Appendix_C.shtml for a description of coordinate types\n",
    "# Choose from any option available in SpacePy or AstroPy."
   ]
  },
  {
   "cell_type": "code",
   "execution_count": null,
   "id": "affecting-electronics",
   "metadata": {
    "scrolled": true
   },
   "outputs": [],
   "source": [
    "# Run FakeFlight with sample trajectory\n",
    "results = SF.FakeFlight(start_utcts, end_utcts, model, file_dir, variable_list, n=n, \n",
    "                        output_name=output_name, plot_coord=plot_coord)\n",
    "# Ppen plots in separate internet browser window for interactivity. Nothing will open here."
   ]
  },
  {
   "cell_type": "code",
   "execution_count": null,
   "id": "informed-biology",
   "metadata": {},
   "outputs": [],
   "source": []
  }
 ],
 "metadata": {
  "kernelspec": {
   "display_name": "Python 3 (ipykernel)",
   "language": "python",
   "name": "python3"
  },
  "language_info": {
   "codemirror_mode": {
    "name": "ipython",
    "version": 3
   },
   "file_extension": ".py",
   "mimetype": "text/x-python",
   "name": "python",
   "nbconvert_exporter": "python",
   "pygments_lexer": "ipython3",
   "version": "3.7.13"
  }
 },
 "nbformat": 4,
 "nbformat_minor": 5
}
