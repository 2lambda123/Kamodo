{
 "cells": [
  {
   "cell_type": "markdown",
   "id": "44a27d0f",
   "metadata": {},
   "source": [
    "# Demo notebook for Kamodo Flythrough search functions\n",
    "The search functions enable the user to determine what time ranges and variables are available in the data selected, and what models are currently incorporated into Kamodo. You may run the notebook as is if you have the sample data file, but you must change the 'file_dir' variable in block 5 to have the correct file path."
   ]
  },
  {
   "cell_type": "code",
   "execution_count": null,
   "id": "statewide-animation",
   "metadata": {},
   "outputs": [],
   "source": [
    "# import satellite flythrough wrapper\n",
    "import kamodo_ccmc.flythrough.model_wrapper as MW\n",
    "# The testing data file is available at https://ccmc.gsfc.nasa.gov/RoR_WWW/output_files/KAMODO_DEMO/"
   ]
  },
  {
   "cell_type": "code",
   "execution_count": null,
   "id": "precious-motivation",
   "metadata": {},
   "outputs": [],
   "source": [
    "# What models are possible?\n",
    "MW.Choose_Model('')"
   ]
  },
  {
   "cell_type": "code",
   "execution_count": null,
   "id": "built-salmon",
   "metadata": {},
   "outputs": [],
   "source": [
    "# Choose which model to view the example for, then execute the notebook\n",
    "model = 'TIEGCM'"
   ]
  },
  {
   "cell_type": "code",
   "execution_count": null,
   "id": "judicial-penny",
   "metadata": {
    "scrolled": true
   },
   "outputs": [],
   "source": [
    "# What are the variable names available from that model?\n",
    "import kamodo_ccmc.flythrough.model_wrapper as MW\n",
    "MW.Model_Variables('TIEGCM')\n",
    "# variable name, description, variable number, coordinate type, coordinate grid, list of coordinate names, units of data"
   ]
  },
  {
   "cell_type": "code",
   "execution_count": null,
   "id": "b7903c4f",
   "metadata": {},
   "outputs": [],
   "source": [
    "# What are the time ranges available in my data?\n",
    "file_dir = 'C:/Users/rringuet/Kamodo_Data/TIEGCM/Data/'  # full file path to where the model output data is stored\n",
    "# Change file_dir to match the file path for your data.\n",
    "MW.File_Times('TIEGCM', file_dir)\n",
    "# This function also automatically performs any data preparation needed."
   ]
  },
  {
   "cell_type": "code",
   "execution_count": null,
   "id": "eb89dd32",
   "metadata": {},
   "outputs": [],
   "source": [
    "# What are the variable names available in my data?\n",
    "file_dir = 'C:/Users/rringuet/Kamodo_Data/TIEGCM/Data/'  # full file path to where the model output data is stored\n",
    "MW.File_Variables('TIEGCM', file_dir)\n",
    "# variable name, description, variable number, coordinate type, coordinate grid, list of coordinate names, units of data"
   ]
  },
  {
   "cell_type": "code",
   "execution_count": null,
   "id": "informed-biology",
   "metadata": {},
   "outputs": [],
   "source": []
  }
 ],
 "metadata": {
  "kernelspec": {
   "display_name": "Python 3 (ipykernel)",
   "language": "python",
   "name": "python3"
  },
  "language_info": {
   "codemirror_mode": {
    "name": "ipython",
    "version": 3
   },
   "file_extension": ".py",
   "mimetype": "text/x-python",
   "name": "python",
   "nbconvert_exporter": "python",
   "pygments_lexer": "ipython3",
   "version": "3.7.13"
  }
 },
 "nbformat": 4,
 "nbformat_minor": 5
}
