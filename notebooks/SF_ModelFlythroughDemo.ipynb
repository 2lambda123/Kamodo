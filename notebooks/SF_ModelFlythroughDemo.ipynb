{
 "cells": [
  {
   "cell_type": "markdown",
   "id": "cadfb350",
   "metadata": {},
   "source": [
    "# Demo notebook for Kamodo Flythrough \"ModelFlythrough\" function\n",
    "The ModelFlythough function flies a user-supplied trajectory through the chosen model data. This is the function the other flythrough functions call once a trajectory is acquired.\n",
    "You may run the notebook as is if you have the sample data file, but you must\n",
    "change the 'file_dir', 'output_name', and 'plot_output' variables in block 3 to have the correct file path."
   ]
  },
  {
   "cell_type": "code",
   "execution_count": null,
   "id": "statewide-animation",
   "metadata": {},
   "outputs": [],
   "source": [
    "# Import satellite flythrough code\n",
    "from kamodo_ccmc.flythrough import SatelliteFlythrough as SF\n",
    "import kamodo_ccmc.flythrough.model_wrapper as MW\n",
    "# The testing data file is available at https://ccmc.gsfc.nasa.gov/RoR_WWW/output_files/KAMODO_DEMO/"
   ]
  },
  {
   "cell_type": "code",
   "execution_count": null,
   "id": "9f2b28b9",
   "metadata": {
    "scrolled": true
   },
   "outputs": [],
   "source": [
    "help(SF.ModelFlythrough)"
   ]
  },
  {
   "cell_type": "code",
   "execution_count": null,
   "id": "reflected-aggregate",
   "metadata": {},
   "outputs": [],
   "source": [
    "# Choosing input values for ModelFlythrough function call\n",
    "# ----------------------------  \n",
    "model = 'TIEGCM'  # Choose which model to view the example for\n",
    "file_dir = 'C:/Users/rringuet/Kamodo_Data/TIEGCM/Data/'  # full file path to where the model output data is stored\n",
    "variable_list = ['T_n','rho','TEC','W_Joule','HmF2']  # list of desired variable names \n",
    "# Not all variables in the list will be available in the file(s) found.\n",
    "coord_sys = 'GEO-sph'  # GEO spherical coordinates as the sample coordinate system for trajectory\n",
    "# See https://sscweb.gsfc.nasa.gov/users_guide/Appendix_C.shtml for a description of coordinate types\n",
    "# Choose from any option available in SpacePy.\n",
    "\n",
    "# Choose naming convention for output files\n",
    "output_name = 'C:/Users/rringuet/Kamodo_env/ModelFlythroughExample_TIEGCM.nc' \n",
    "plot_coord = 'GSE'  # coordinate system chosen for output plots"
   ]
  },
  {
   "cell_type": "code",
   "execution_count": null,
   "id": "4b4ff268",
   "metadata": {},
   "outputs": [],
   "source": [
    "# Option 1 for creating input trajectory coordinate arrays:\n",
    "# Create sample coordinate input arrays, geostationary-like orbit for simplicity (but much lower altitude)\n",
    "import numpy as np\n",
    "sat_time = np.linspace(1506039600,1506124800+86400*7,int(86400*7/30+1), dtype=int)  \n",
    "# Selected time range available in data @ 30 sec intervals\n",
    "# The chosen time range should match the length of time in the model data files.\n",
    "# Time values found not to be contained in the model data are automatically discarded (see output of block 10).\n",
    "\n",
    "sat_lon = np.repeat(0., int(86400*7/30+1))  #in degrees\n",
    "sat_lat = np.repeat(0., int(86400*7/30+1))  #in degrees\n",
    "sat_radius = np.repeat(1.08, int(86400*7/30+1))  #in R_earth (~500 km altitude)\n",
    "# if coord_grid is chosen to be cartesian ('car'), then lon, lat, radius -> x, y, z in the chosen coordinate system\n",
    "# coordinate arrays must all be the same length\n",
    "print(len(sat_time), len(sat_lon), len(sat_lat), len(sat_radius))\n",
    "\n",
    "# Convert sat_radius to km and print for sanity check\n",
    "from astropy.constants import R_earth\n",
    "sat_alt = sat_radius[0]*R_earth.value-R_earth.value  # in meters\n",
    "print(sat_alt/1000., 'km')  # Rough altitude printed in km"
   ]
  },
  {
   "cell_type": "code",
   "execution_count": null,
   "id": "2fb1d67a",
   "metadata": {},
   "outputs": [],
   "source": [
    "# Option 2 for creating input trajectory coordinate arrays:\n",
    "# Pull a real satellite trajectory and just change the time values to match the model data.\n",
    "help(SF.SatelliteTrajectory)"
   ]
  },
  {
   "cell_type": "code",
   "execution_count": null,
   "id": "eb7b0ab4",
   "metadata": {},
   "outputs": [],
   "source": [
    "# Demonstrate how to use the flythrough function to alter a real satellite trajectory\n",
    "# ---------------------------------------------------------------------------\n",
    "# The time series for each coordinate is returned in a dictionary\n",
    "# Use https://sscweb.gsfc.nasa.gov/ to find the satellite name and time range desired\n",
    "traj_dict, new_coord_sys = SF.SatelliteTrajectory('grace1', 1426660000.0, 1426880700.0, coord_type='GSE')\n",
    "\n",
    "# Change the time range by subtracting the appropriate value (the diff between the first in each)\n",
    "start1, start2 = min(sat_time), min(traj_dict['sat_time'])  # start1 can equal the minimum UTC timestamp from the csv file\n",
    "if start1>start2: \n",
    "    diff = start1-start2\n",
    "    new_time = traj_dict['sat_time']+diff\n",
    "if start1<start2: \n",
    "    diff = start2-start1\n",
    "    new_time = traj_dict['sat_time']-diff\n",
    "# The cartesian spatial coordinate time arrays are x=traj_dict['c1'], y=traj_dic['c2'], and z=traj_dict['c3']"
   ]
  },
  {
   "cell_type": "code",
   "execution_count": null,
   "id": "affecting-electronics",
   "metadata": {
    "scrolled": true
   },
   "outputs": [],
   "source": [
    "# Run ModelFlythrough with user-created trajectory\n",
    "# results = SF.ModelFlythrough(model, file_dir, variable_list, sat_time, sat_lon, \n",
    "#                            sat_lat, sat_radius, coord_sys,\n",
    "#                           output_name=output_name, plot_coord=plot_coord)\n",
    "\n",
    "# Run ModelFlythrough with altered grace1 trajectory from SSCWeb\n",
    "results = SF.ModelFlythrough(model, file_dir, variable_list, new_time, traj_dict['c1'], \n",
    "                            traj_dict['c2'], traj_dict['c3'], new_coord_sys,\n",
    "                           output_name=output_name, plot_coord=plot_coord)\n",
    "# Open plots in separate internet browser window for interactivity. Nothing will open here."
   ]
  },
  {
   "cell_type": "code",
   "execution_count": null,
   "id": "informed-biology",
   "metadata": {},
   "outputs": [],
   "source": []
  }
 ],
 "metadata": {
  "kernelspec": {
   "display_name": "Python 3 (ipykernel)",
   "language": "python",
   "name": "python3"
  },
  "language_info": {
   "codemirror_mode": {
    "name": "ipython",
    "version": 3
   },
   "file_extension": ".py",
   "mimetype": "text/x-python",
   "name": "python",
   "nbconvert_exporter": "python",
   "pygments_lexer": "ipython3",
   "version": "3.7.13"
  }
 },
 "nbformat": 4,
 "nbformat_minor": 5
}
