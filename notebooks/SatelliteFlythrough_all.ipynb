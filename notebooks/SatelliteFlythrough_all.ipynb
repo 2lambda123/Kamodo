{
 "cells": [
  {
   "cell_type": "code",
   "execution_count": 1,
   "id": "statewide-animation",
   "metadata": {},
   "outputs": [
    {
     "name": "stderr",
     "output_type": "stream",
     "text": [
      "C:\\Users\\rringuet\\.conda\\envs\\Kamodo_WinDev1\\lib\\site-packages\\spacepy\\time.py:2294: UserWarning: Leapseconds may be out of date. Use spacepy.toolbox.update(leapsecs=True)\n",
      "  warnings.warn('Leapseconds may be out of date.'\n"
     ]
    }
   ],
   "source": [
    "#import satellite flythrough code\n",
    "#%matplotlib widget  #make matplotlib plots interactive\n",
    "from kamodo.flythrough import SatelliteFlythrough as S\n",
    "import kamodo.flythrough.model_wrapper as MW"
   ]
  },
  {
   "cell_type": "code",
   "execution_count": 2,
   "id": "precious-motivation",
   "metadata": {},
   "outputs": [
    {
     "name": "stdout",
     "output_type": "stream",
     "text": [
      "Possible models are: {0: 'CTIPe', 1: 'GITM', 2: 'IRI', 3: 'SWMF_IE', 4: 'TIEGCM'}\n",
      "Integers or strings allowed.\n"
     ]
    }
   ],
   "source": [
    "#What models are possible?\n",
    "MW.Choose_Model('')"
   ]
  },
  {
   "cell_type": "code",
   "execution_count": 3,
   "id": "built-salmon",
   "metadata": {},
   "outputs": [],
   "source": [
    "#Choose which model to view the example for, then execute the notebook\n",
    "#This assumes the underlying model data files are available (!!!)\n",
    "model = 4"
   ]
  },
  {
   "cell_type": "code",
   "execution_count": 4,
   "id": "judicial-penny",
   "metadata": {},
   "outputs": [
    {
     "name": "stdout",
     "output_type": "stream",
     "text": [
      "\n",
      "The model accepts the standardized variable names listed below.\n",
      "-----------------------------------------------------------------------------------\n",
      "H_ilev : '['variable description', 0, 'GDZ', 'sph', ['time', 'lon', 'lat', 'ilev'], 'cm']'\n",
      "T_n : '['variable description', 1, 'GDZ', 'sph', ['time', 'lon', 'lat', 'ilev'], 'K']'\n",
      "psi_O2 : '['variable description', 2, 'GDZ', 'sph', ['time', 'lon', 'lat', 'ilev'], '']'\n",
      "psi_O : '['variable description', 3, 'GDZ', 'sph', ['time', 'lon', 'lat', 'ilev'], '']'\n",
      "psi_N2 : '['variable description', 4, 'GDZ', 'sph', ['time', 'lon', 'lat', 'ilev'], '']'\n",
      "psi_He : '['variable description', 5, 'GDZ', 'sph', ['time', 'lon', 'lat', 'ilev'], '']'\n",
      "psi_NO : '['variable description', 6, 'GDZ', 'sph', ['time', 'lon', 'lat', 'ilev'], '']'\n",
      "psi_N4S : '['variable description', 7, 'GDZ', 'sph', ['time', 'lon', 'lat', 'ilev'], '']'\n",
      "psi_N2D : '['variable description', 8, 'GDZ', 'sph', ['time', 'lon', 'lat', 'ilev'], '']'\n",
      "T_e : '['variable description', 9, 'GDZ', 'sph', ['time', 'lon', 'lat', 'ilev'], 'K']'\n",
      "T_i : '['variable description', 10, 'GDZ', 'sph', ['time', 'lon', 'lat', 'ilev'], 'K']'\n",
      "N_O2plus : '['variable description', 11, 'GDZ', 'sph', ['time', 'lon', 'lat', 'ilev'], '1/cm**3']'\n",
      "N_Oplus : '['variable description', 12, 'GDZ', 'sph', ['time', 'lon', 'lat', 'ilev'], '1/cm**3']'\n",
      "N_N2 : '['variable description', 13, 'GDZ', 'sph', ['time', 'lon', 'lat', 'ilev'], '1/cm**3']'\n",
      "Q_CO2cool : '['variable description', 14, 'GDZ', 'sph', ['time', 'lon', 'lat', 'ilev'], 'erg/g/s']'\n",
      "Q_NOcool : '['variable description', 15, 'GDZ', 'sph', ['time', 'lon', 'lat', 'ilev'], 'erg/g/s']'\n",
      "u_n : '['variable description', 16, 'GDZ', 'sph', ['time', 'lon', 'lat', 'ilev'], 'cm/s']'\n",
      "v_n : '['variable description', 17, 'GDZ', 'sph', ['time', 'lon', 'lat', 'ilev'], 'cm/s']'\n",
      "O2P_ELD : '['variable description', 18, 'GDZ', 'sph', ['time', 'lon', 'lat', 'ilev'], '']'\n",
      "N2P_ELD : '['variable description', 19, 'GDZ', 'sph', ['time', 'lon', 'lat', 'ilev'], '']'\n",
      "N_Nplus : '['variable description', 20, 'GDZ', 'sph', ['time', 'lon', 'lat', 'ilev'], '1/cm**3']'\n",
      "NOP_ELD : '['variable description', 21, 'GDZ', 'sph', ['time', 'lon', 'lat', 'ilev'], '']'\n",
      "Sigma_P : '['variable description', 22, 'GDZ', 'sph', ['time', 'lon', 'lat', 'ilev'], 'S/m']'\n",
      "Sigma_H : '['variable description', 23, 'GDZ', 'sph', ['time', 'lon', 'lat', 'ilev'], 'S/m']'\n",
      "Q_Joule : '['variable description', 24, 'GDZ', 'sph', ['time', 'lon', 'lat', 'ilev'], 'erg/g/s']'\n",
      "psi_ON2 : '['variable description', 25, 'GDZ', 'sph', ['time', 'lon', 'lat', 'ilev'], '']'\n",
      "N2D_ELD : '['variable description', 26, 'GDZ', 'sph', ['time', 'lon', 'lat', 'ilev'], '']'\n",
      "r_OtoN : '['variable description', 27, 'GDZ', 'sph', ['time', 'lon', 'lat', 'ilev'], '1/cm**3']'\n",
      "rho : '['variable description', 28, 'GDZ', 'sph', ['time', 'lon', 'lat', 'ilev1'], 'g/cm**3']'\n",
      "H_ilev1 : '['variable description', 29, 'GDZ', 'sph', ['time', 'lon', 'lat', 'ilev1'], 'cm']'\n",
      "H_geopot : '['variable description', 30, 'GDZ', 'sph', ['time', 'lon', 'lat', 'ilev1'], 'cm']'\n",
      "N_e : '['variable description', 31, 'GDZ', 'sph', ['time', 'lon', 'lat', 'ilev1'], '1/cm**3']'\n",
      "omega : '['variable description', 32, 'GDZ', 'sph', ['time', 'lon', 'lat', 'ilev1'], '1/s']'\n",
      "V : '['variable description', 33, 'GDZ', 'sph', ['time', 'lon', 'lat', 'ilev1'], 'V']'\n",
      "u_iExB : '['variable description', 34, 'GDZ', 'sph', ['time', 'lon', 'lat', 'ilev1'], 'cm/s']'\n",
      "v_iExB : '['variable description', 35, 'GDZ', 'sph', ['time', 'lon', 'lat', 'ilev1'], 'cm/s']'\n",
      "w_iExB : '['variable description', 36, 'GDZ', 'sph', ['time', 'lon', 'lat', 'ilev1'], 'cm/s']'\n",
      "H_mag : '['variable description', 37, 'MAG', 'sph', ['time', 'mlon', 'mlat', 'milev'], 'km']'\n",
      "TEC : '['variable description', 38, 'GDZ', 'sph', ['time', 'lon', 'lat'], '1/cm**2']'\n",
      "T_nLBC : '['variable description', 39, 'GDZ', 'sph', ['time', 'lon', 'lat'], 'K']'\n",
      "u_nLBC : '['variable description', 40, 'GDZ', 'sph', ['time', 'lon', 'lat'], 'cm/s']'\n",
      "v_nLBC : '['variable description', 41, 'GDZ', 'sph', ['time', 'lon', 'lat'], 'cm/s']'\n",
      "T_nLBCNM : '['variable description', 42, 'GDZ', 'sph', ['time', 'lon', 'lat'], 'K']'\n",
      "u_nLBCNM : '['variable description', 43, 'GDZ', 'sph', ['time', 'lon', 'lat'], 'cm/s']'\n",
      "v_nLBCNM : '['variable description', 44, 'GDZ', 'sph', ['time', 'lon', 'lat'], 'cm/s']'\n",
      "W_Joule : '['variable description', 45, 'GDZ', 'sph', ['time', 'lon', 'lat'], 'erg/cm**2/s']'\n",
      "Eflux_aurora : '['variable description', 46, 'GDZ', 'sph', ['time', 'lon', 'lat'], 'erg/cm**2/s']'\n",
      "HmF2 : '['variable description', 47, 'GDZ', 'sph', ['time', 'lon', 'lat'], 'km']'\n",
      "NmF2 : '['variable description', 48, 'GDZ', 'sph', ['time', 'lon', 'lat'], '1/cm**3']'\n",
      "\n"
     ]
    }
   ],
   "source": [
    "#What are the variable names available from that model?\n",
    "MW.Model_Variables(model)"
   ]
  },
  {
   "cell_type": "code",
   "execution_count": 5,
   "id": "reflected-aggregate",
   "metadata": {},
   "outputs": [
    {
     "name": "stdout",
     "output_type": "stream",
     "text": [
      "Attribute/Key names of return dictionary: dict_keys(['sat_time', 'c1', 'c2', 'c3'])\n",
      "(c1,c2,c3) = (lon, lat, alt) in (deg,deg,km) in the GDZ, sph coordinate system.sat_time contains the utc timestamps.\n"
     ]
    }
   ],
   "source": [
    "#Examples for all models (The times are different to match the model output time ranges.)\n",
    "#----------------------------  \n",
    "if model=='CTIPe' or model==0:\n",
    "    start_utcts, end_utcts, n = 1426660000.0, 1426880700.0, 2.\n",
    "\n",
    "elif model=='GITM' or model==1:\n",
    "    start_utcts, end_utcts, n = 1165968000.0-30000., 1166053801.0+1000., 2.\n",
    "                \n",
    "elif model=='IRI' or model==2:\n",
    "    start_utcts, end_utcts, n = 1495930160.0, 1496010000.0, 2.\n",
    "        \n",
    "elif model=='SWMF_IE' or model==3:\n",
    "    start_utcts, end_utcts, n = 1533081600.0-30000., 1533167760.0+1000., 2.\n",
    "    \n",
    "elif model=='TIEGCM' or model==4:\n",
    "    start_utcts, end_utcts, n = 974264400.0-300., 974592000.+3000., 20.\n",
    "\n",
    "plot_dir = 'C:/Users/rringuet/Kamodo_WinDev1/SatelliteFlythrough/'\n",
    "sat_dict, coord_type, coord_grid = S.SampleTrajectory(start_utcts, end_utcts, n=n)"
   ]
  },
  {
   "cell_type": "code",
   "execution_count": 6,
   "id": "affecting-electronics",
   "metadata": {},
   "outputs": [
    {
     "name": "stdout",
     "output_type": "stream",
     "text": [
      "Interpolating through model data...Some requested variables are not available: ['T_e']\n",
      "Some requested variables are not available: ['T_e']\n"
     ]
    },
    {
     "name": "stderr",
     "output_type": "stream",
     "text": [
      "c:\\users\\rringuet\\kamodo_windev1\\kamodo-master\\kamodo\\readers\\tiegcm_4D.py:277: UserWarning: WARNING: missing_value not used since it\n",
      "cannot be safely cast to variable data type\n",
      "  for key in gvar_list}  #store with key = standardized name\n"
     ]
    },
    {
     "name": "stdout",
     "output_type": "stream",
     "text": [
      "\n",
      "Best height resolution achieved: 0.00020 m\n",
      "Worst height resolution achieved: 19.92951 m\n",
      "\n",
      "\n",
      "Best height resolution achieved: 0.00549 m\n",
      "Worst height resolution achieved: 19.89405 m\n",
      "\n",
      "Some requested variables are not available: ['T_e']\n",
      "Some requested variables are not available: ['T_e']\n",
      "\n",
      "Best height resolution achieved: 0.00080 m\n",
      "Worst height resolution achieved: 19.70892 m\n",
      "\n",
      "\n",
      "Best height resolution achieved: 0.00325 m\n",
      "Worst height resolution achieved: 19.97705 m\n",
      "\n",
      "Some requested variables are not available: ['T_e']\n",
      "Some requested variables are not available: ['T_e']\n",
      "\n",
      "Best height resolution achieved: 0.00014 m\n",
      "Worst height resolution achieved: 19.72835 m\n",
      "\n",
      "\n",
      "Best height resolution achieved: 0.00456 m\n",
      "Worst height resolution achieved: 19.59518 m\n",
      "\n",
      "Some requested variables are not available: ['T_e']\n",
      "Some requested variables are not available: ['T_e']\n",
      "\n",
      "Best height resolution achieved: 0.00407 m\n",
      "Worst height resolution achieved: 19.84878 m\n",
      "\n",
      "\n",
      "Best height resolution achieved: 0.00108 m\n",
      "Worst height resolution achieved: 19.98073 m\n",
      "\n",
      "Some requested variables are not available: ['T_e']\n",
      "Some requested variables are not available: ['T_e']\n",
      "\n",
      "Best height resolution achieved: 0.00596 m\n",
      "Worst height resolution achieved: 19.01702 m\n",
      "\n",
      "\n",
      "Best height resolution achieved: 0.03113 m\n",
      "Worst height resolution achieved: 19.69907 m\n",
      "\n",
      "done in 48.44366 s.\n",
      "{'u_n': 'cm/s', 'rho': 'g/cm**3', 'utc_time': 's', 'net_idx': '', 'c1': 'deg', 'c2': 'deg', 'c3': 'km'}\n"
     ]
    }
   ],
   "source": [
    "#run satellite flythrough code (for CTIPe, choose parameters independent of pressure altitude)\n",
    "#Examples for all models\n",
    "#NOTE: data for different models should be kept in different directories\n",
    "#-----------------------------\n",
    "if model=='CTIPe' or model==0:\n",
    "    file_dir = 'C:/Users/rringuet/Kamodo_WinDev1/CTIPe/Data/'\n",
    "    variable_list = ['T_e','TEC']\n",
    "\n",
    "elif model=='GITM' or model==1:\n",
    "    file_dir = 'C:/Users/rringuet/Kamodo_WinDev1/GITM/Data/'\n",
    "    variable_list = ['T_n','TEC']\n",
    "    \n",
    "elif model=='IRI' or model==2:\n",
    "    file_dir = 'C:/Users/rringuet/Kamodo_WinDev1/IRI/Data/'\n",
    "    variable_list = ['T_e','TEC']       \n",
    "                \n",
    "elif model=='SWMF_IE' or model==3:\n",
    "    file_dir = 'C:/Users/rringuet/Kamodo_WinDev1/SWMF_IE/Data/'\n",
    "    variable_list = ['Q_Joule','rho_RT']\n",
    "    \n",
    "elif model=='TIEGCM' or model==4:  #all TIEGCM variables require conversion to pressure level\n",
    "    file_dir = 'C:/Users/rringuet/Kamodo_WinDev1/TIEGCM/Data/'\n",
    "    variable_list = ['rho','u_n','T_e']\n",
    "    \n",
    "results = S.ModelFlythrough(model, file_dir, variable_list, sat_dict['sat_time'], sat_dict['c1'], \n",
    "                            sat_dict['c2'], sat_dict['c3'], coord_type, coord_grid)"
   ]
  },
  {
   "cell_type": "code",
   "execution_count": 7,
   "id": "polyphonic-relative",
   "metadata": {},
   "outputs": [
    {
     "name": "stdout",
     "output_type": "stream",
     "text": [
      "Help on function FakeFlight in module kamodo.flythrough.SatelliteFlythrough:\n",
      "\n",
      "FakeFlight(start_time, stop_time, model, file_dir, variable_list, max_lat=65.0, min_lat=-65.0, lon_perorbit=363.0, max_height=450.0, min_height=400.0, p=0.01, n=2.0, high_res=20.0, verbose=False, csv_output='', plot_output='')\n",
      "    Generates a sample trajectory and then flies that trajectory through the \n",
      "    model data chosen.\n",
      "     \n",
      "    Parameters: \n",
      "        start_time: utc timestamp in seconds for start\n",
      "        stop_time: utc timestamp in seconds for stop\n",
      "        model: CTIPe, IRI, .... (integers allowed)\n",
      "        file_dir: complete path to where model data is stored\n",
      "        variable_list: list of standardized variable names desired. Integers allowed.\n",
      "        max_lat: maximum latitude for sample trajectory, in degrees (default=65.)\n",
      "        min_lat: minimum latitude for sample trajectory, in degrees (default=-65.)\n",
      "        lon_perorbit: the degrees of longitude per about 90 minute orbit \n",
      "            (set less than 360 for precession forward in longitude, set less \n",
      "            than 360 for precession backwards) (default=363.)\n",
      "        max_height: maximum starting height of orbit in km (default=450.)\n",
      "        min_height: minimum starting height of orbit in km (default=400.)\n",
      "        p: a rough precession variable, applied as an overall height decrease \n",
      "            as a percentage of the min_height value: p =  (default=0.01).  \n",
      "        n: the time cadence of the sample trajectory generated (default = 2 seconds)\n",
      "        high_res: the resolution of the height conversion to pressure level\n",
      "            in units of km\n",
      "        csv_output: complete path pluts filename (without the .csv) for the file to\n",
      "            write the results to.\n",
      "        plot_output: complete path pluts file naming convention (without the .html)\n",
      "            for the file to write the plots to.\n",
      "\n"
     ]
    }
   ],
   "source": [
    "#how to create sample trajectory and run flythrough code in one command\n",
    "help(S.FakeFlight)"
   ]
  },
  {
   "cell_type": "code",
   "execution_count": 8,
   "id": "distinguished-liverpool",
   "metadata": {},
   "outputs": [
    {
     "name": "stdout",
     "output_type": "stream",
     "text": [
      "Attribute/Key names of return dictionary: dict_keys(['sat_time', 'c1', 'c2', 'c3'])\n",
      "(c1,c2,c3) = (lon, lat, alt) in (deg,deg,km) in the GDZ, sph coordinate system.sat_time contains the utc timestamps.\n",
      "Interpolating through model data...Some requested variables are not available: ['T_e']\n",
      "Some requested variables are not available: ['T_e']\n",
      "\n",
      "Best height resolution achieved: 0.00371 m\n",
      "Worst height resolution achieved: 19.99583 m\n",
      "\n",
      "\n",
      "Best height resolution achieved: 0.00360 m\n",
      "Worst height resolution achieved: 19.98470 m\n",
      "\n",
      "Some requested variables are not available: ['T_e']\n",
      "Some requested variables are not available: ['T_e']\n",
      "\n",
      "Best height resolution achieved: 0.00370 m\n",
      "Worst height resolution achieved: 19.99828 m\n",
      "\n",
      "\n",
      "Best height resolution achieved: 0.00054 m\n",
      "Worst height resolution achieved: 19.97020 m\n",
      "\n",
      "Some requested variables are not available: ['T_e']\n",
      "Some requested variables are not available: ['T_e']\n",
      "\n",
      "Best height resolution achieved: 0.00493 m\n",
      "Worst height resolution achieved: 19.98603 m\n",
      "\n",
      "\n",
      "Best height resolution achieved: 0.00008 m\n",
      "Worst height resolution achieved: 19.99412 m\n",
      "\n",
      "Some requested variables are not available: ['T_e']\n",
      "Some requested variables are not available: ['T_e']\n",
      "\n",
      "Best height resolution achieved: 0.00160 m\n",
      "Worst height resolution achieved: 19.98337 m\n",
      "\n",
      "\n",
      "Best height resolution achieved: 0.00003 m\n",
      "Worst height resolution achieved: 19.90813 m\n",
      "\n",
      "Some requested variables are not available: ['T_e']\n",
      "Some requested variables are not available: ['T_e']\n",
      "\n",
      "Best height resolution achieved: 0.08567 m\n",
      "Worst height resolution achieved: 17.97727 m\n",
      "\n",
      "\n",
      "Best height resolution achieved: 0.01000 m\n",
      "Worst height resolution achieved: 17.39846 m\n",
      "\n",
      "done in 47.86946 s.\n",
      "{'u_n': 'cm/s', 'rho': 'g/cm**3', 'utc_time': 's', 'net_idx': '', 'c1': 'deg', 'c2': 'deg', 'c3': 'km'}\n",
      "Output saved in C:/Users/rringuet/Kamodo_WinDev1/TIEGCM/TIEGCM_FakeFlight.csv.\n",
      "Generating interactive plots...\n",
      "Converted from  GDZ sph to: GEO car ['R_E', 'R_E', 'R_E'] in 0.5214 seconds.\n",
      "-saving html div file:  C:/Users/rringuet/Kamodo_WinDev1/TIEGCM/TIEGCM_FakeFlight_rho_3D.html\n",
      "Converted from  GDZ sph to: GDZ sph ['deg', 'deg', 'km'] in 0.4115 seconds.\n",
      "-saving html div file:  C:/Users/rringuet/Kamodo_WinDev1/TIEGCM/TIEGCM_FakeFlight_rho_1D.html\n",
      "Converted from  GDZ sph to: GEO car ['R_E', 'R_E', 'R_E'] in 0.4387 seconds.\n",
      "-saving html div file:  C:/Users/rringuet/Kamodo_WinDev1/TIEGCM/TIEGCM_FakeFlight_u_n_3D.html\n",
      "Converted from  GDZ sph to: GDZ sph ['deg', 'deg', 'km'] in 0.4007 seconds.\n",
      "-saving html div file:  C:/Users/rringuet/Kamodo_WinDev1/TIEGCM/TIEGCM_FakeFlight_u_n_1D.html\n"
     ]
    }
   ],
   "source": [
    "#run FakeFlight (fly a sample satellite trajectory through the model)\n",
    "#output is to a csv file for reading from other languages, if desired\n",
    "#Example code for all models\n",
    "#----------------------------------\n",
    "model_str = MW.convert_model_string(model)\n",
    "output = 'C:/Users/rringuet/Kamodo_WinDev1/'+model_str+'/FakeFlight'\n",
    "results = S.FakeFlight(start_utcts, end_utcts, model, file_dir, variable_list, max_height=420., p=0.02, n=n,\n",
    "                      csv_output=output, plot_output=output)"
   ]
  },
  {
   "cell_type": "code",
   "execution_count": 9,
   "id": "attractive-sending",
   "metadata": {
    "scrolled": true
   },
   "outputs": [
    {
     "data": {
      "text/plain": [
       "{'utc_time': array([9.7426410e+08, 9.7426412e+08, 9.7426414e+08, ..., 9.7459496e+08,\n",
       "        9.7459498e+08, 9.7459500e+08]),\n",
       " 'c1': array([-180.        , -178.65547429, -177.31094858, ...,  101.14428191,\n",
       "         102.48880762,  103.83333333]),\n",
       " 'c2': array([ 65.        ,  64.98226959,  64.92908803, ...,  -7.1968623 ,\n",
       "         -8.70366892, -10.20572724]),\n",
       " 'c3': array([410.        , 410.23307086, 410.46601431, ..., 411.93948245,\n",
       "        411.91042853, 411.87596824]),\n",
       " 'net_idx': array([    0,     1,     2, ..., 16542, 16543, 16544]),\n",
       " 'rho': array([2.57527392e-15, 2.56400099e-15, 2.55317048e-15, ...,\n",
       "        2.06229512e-15, 2.10453910e-15, 2.14614118e-15]),\n",
       " 'u_n': array([ -8404.76967161,  -8503.82510379,  -8556.47388141, ...,\n",
       "        -10023.24763193, -10193.73563273, -10359.35351535])}"
      ]
     },
     "execution_count": 9,
     "metadata": {},
     "output_type": "execute_result"
    }
   ],
   "source": [
    "results"
   ]
  },
  {
   "cell_type": "code",
   "execution_count": 10,
   "id": "breeding-magnet",
   "metadata": {},
   "outputs": [
    {
     "name": "stdout",
     "output_type": "stream",
     "text": [
      "Attribute/Key names of return dictionary: dict_keys(['sat_time', 'c1', 'c2', 'c3'])\n"
     ]
    }
   ],
   "source": [
    "#run RealFlight (fly a real satellite trajectory through the model)\n",
    "#Examples for each model\n",
    "#------------------------------------\n",
    "    \n",
    "if model=='CTIPe' or model==0:\n",
    "    dataset = 'grace1'\n",
    "    \n",
    "elif model=='GITM' or model==1:\n",
    "    dataset = 'grace1'\n",
    "\n",
    "elif model=='IRI' or model==2:\n",
    "    dataset = 'grace1'\n",
    "    \n",
    "elif model=='SWMF_IE' or model==3:\n",
    "    dataset = 'swarma'\n",
    "    \n",
    "elif model=='TIEGCM' or model==4:   \n",
    "    dataset = 'champ'  \n",
    "\n",
    "sat_dict, coord_type, coord_grid = S.SatelliteTrajectory(dataset, start_utcts, end_utcts)#, 'GSE')    "
   ]
  },
  {
   "cell_type": "code",
   "execution_count": 11,
   "id": "aggressive-hampshire",
   "metadata": {},
   "outputs": [
    {
     "name": "stdout",
     "output_type": "stream",
     "text": [
      "Attribute/Key names of return dictionary: dict_keys(['sat_time', 'c1', 'c2', 'c3'])\n",
      "Converted from  GEO car to: GDZ sph ['deg', 'deg', 'km'] in 0.1494 seconds.\n",
      "Interpolating through model data...Some requested variables are not available: ['T_e']\n"
     ]
    },
    {
     "name": "stderr",
     "output_type": "stream",
     "text": [
      "c:\\users\\rringuet\\kamodo_windev1\\kamodo-master\\kamodo\\readers\\tiegcm_4D.py:277: UserWarning:\n",
      "\n",
      "WARNING: missing_value not used since it\n",
      "cannot be safely cast to variable data type\n",
      "\n"
     ]
    },
    {
     "name": "stdout",
     "output_type": "stream",
     "text": [
      "Some requested variables are not available: ['T_e']\n",
      "\n",
      "Best height resolution achieved: 0.00553 m\n",
      "Worst height resolution achieved: 19.98810 m\n",
      "\n",
      "\n",
      "Best height resolution achieved: 0.00166 m\n",
      "Worst height resolution achieved: 19.50847 m\n",
      "\n",
      "Some requested variables are not available: ['T_e']\n",
      "Some requested variables are not available: ['T_e']\n",
      "\n",
      "Best height resolution achieved: 0.00222 m\n",
      "Worst height resolution achieved: 19.70801 m\n",
      "\n",
      "\n",
      "Best height resolution achieved: 0.00937 m\n",
      "Worst height resolution achieved: 19.53763 m\n",
      "\n",
      "Some requested variables are not available: ['T_e']\n",
      "Some requested variables are not available: ['T_e']\n",
      "\n",
      "Best height resolution achieved: 0.00739 m\n",
      "Worst height resolution achieved: 19.91449 m\n",
      "\n",
      "\n",
      "Best height resolution achieved: 0.00105 m\n",
      "Worst height resolution achieved: 19.38699 m\n",
      "\n",
      "Some requested variables are not available: ['T_e']\n",
      "Some requested variables are not available: ['T_e']\n",
      "\n",
      "Best height resolution achieved: 0.00940 m\n",
      "Worst height resolution achieved: 19.70611 m\n",
      "\n",
      "\n",
      "Best height resolution achieved: 0.00047 m\n",
      "Worst height resolution achieved: 19.99412 m\n",
      "\n",
      "Some requested variables are not available: ['T_e']\n",
      "Some requested variables are not available: ['T_e']\n",
      "\n",
      "Best height resolution achieved: 0.30967 m\n",
      "Worst height resolution achieved: 19.50925 m\n",
      "\n",
      "\n",
      "Best height resolution achieved: 0.27534 m\n",
      "Worst height resolution achieved: 16.04604 m\n",
      "\n",
      "done in 17.49047 s.\n",
      "{'u_n': 'cm/s', 'rho': 'g/cm**3', 'utc_time': 's', 'net_idx': '', 'c1': 'R_E', 'c2': 'R_E', 'c3': 'R_E'}\n",
      "Output saved in C:/Users/rringuet/Kamodo_WinDev1/TIEGCM/TIEGCM_RealFlight.csv.\n",
      "Generating interactive plots...\n",
      "Converted from  GEO car to: GEO car ['R_E', 'R_E', 'R_E'] in 0.1290 seconds.\n",
      "-saving html div file:  C:/Users/rringuet/Kamodo_WinDev1/TIEGCM/TIEGCM_RealFlight_u_n_3D.html\n",
      "Converted from  GEO car to: GDZ sph ['deg', 'deg', 'km'] in 0.2273 seconds.\n",
      "-saving html div file:  C:/Users/rringuet/Kamodo_WinDev1/TIEGCM/TIEGCM_RealFlight_u_n_1D.html\n",
      "Converted from  GEO car to: GEO car ['R_E', 'R_E', 'R_E'] in 0.1348 seconds.\n",
      "-saving html div file:  C:/Users/rringuet/Kamodo_WinDev1/TIEGCM/TIEGCM_RealFlight_rho_3D.html\n",
      "Converted from  GEO car to: GDZ sph ['deg', 'deg', 'km'] in 0.1556 seconds.\n",
      "-saving html div file:  C:/Users/rringuet/Kamodo_WinDev1/TIEGCM/TIEGCM_RealFlight_rho_1D.html\n"
     ]
    }
   ],
   "source": [
    "#file_dir, model, and variable_list parameters were set in a previous block\n",
    "output = 'C:/Users/rringuet/Kamodo_WinDev1/'+model_str+'/RealFlight'\n",
    "sat_dict = S.RealFlight(dataset, start_utcts, end_utcts, model, file_dir, \n",
    "             variable_list, csv_output=output, plot_output=output)"
   ]
  },
  {
   "cell_type": "code",
   "execution_count": 12,
   "id": "matched-wildlife",
   "metadata": {},
   "outputs": [
    {
     "name": "stdout",
     "output_type": "stream",
     "text": [
      "Converted from  GEO car to: GDZ sph ['deg', 'deg', 'km'] in 0.1545 seconds.\n",
      "Interpolating through model data...\n",
      "Best height resolution achieved: 0.00553 m\n",
      "Worst height resolution achieved: 19.98810 m\n",
      "\n",
      "\n",
      "Best height resolution achieved: 0.00222 m\n",
      "Worst height resolution achieved: 19.70801 m\n",
      "\n",
      "\n",
      "Best height resolution achieved: 0.00739 m\n",
      "Worst height resolution achieved: 19.91449 m\n",
      "\n",
      "\n",
      "Best height resolution achieved: 0.00940 m\n",
      "Worst height resolution achieved: 19.70611 m\n",
      "\n",
      "\n",
      "Best height resolution achieved: 0.30967 m\n",
      "Worst height resolution achieved: 19.50925 m\n",
      "\n",
      "done in 8.33282 s.\n",
      "{'T_n': 'K', 'utc_time': 's', 'net_idx': '', 'c1': 'R_E', 'c2': 'R_E', 'c3': 'R_E'}\n",
      "Output saved in C:/Users/rringuet/Kamodo_WinDev1/TIEGCM/TIEGCM_RealFlight2.csv.\n",
      "Generating interactive plots...\n",
      "Converted from  GEO car to: GEO car ['R_E', 'R_E', 'R_E'] in 0.1307 seconds.\n",
      "-saving html div file:  C:/Users/rringuet/Kamodo_WinDev1/TIEGCM/TIEGCM_RealFlight2_T_n_3D.html\n",
      "Converted from  GEO car to: GDZ sph ['deg', 'deg', 'km'] in 0.1526 seconds.\n",
      "-saving html div file:  C:/Users/rringuet/Kamodo_WinDev1/TIEGCM/TIEGCM_RealFlight2_T_n_1D.html\n"
     ]
    }
   ],
   "source": [
    "#establish alternate variable list\n",
    "if model=='CTIPe' or model==0:\n",
    "    variable_list = ['rho']\n",
    "elif model=='GITM' or model==1:\n",
    "    variable_list = ['rho_n']\n",
    "elif model=='IRI' or model==2:\n",
    "    variable_list = ['N_e']       \n",
    "elif model=='SWMF_IE' or model==3:\n",
    "    variable_list = ['Sigma_P']\n",
    "elif model=='TIEGCM' or model==4:  #all TIEGCM variables require conversion to pressure level\n",
    "    variable_list = ['T_n']\n",
    "\n",
    "#demonstrate using a custom trajectory\n",
    "traj_file, file_type = 'C:/Users/rringuet/Kamodo_WinDev1/'+model_str+'/'+model_str+'_RealFlight.csv', 'csv'\n",
    "coord_type, coord_grid = 'GEO', 'car'\n",
    "test_results = S.MyFlight(traj_file, file_type, coord_type, coord_grid, model, file_dir, variable_list,\n",
    "               csv_output=output+'2', plot_output=output+'2')"
   ]
  },
  {
   "cell_type": "code",
   "execution_count": null,
   "id": "informed-biology",
   "metadata": {},
   "outputs": [],
   "source": []
  }
 ],
 "metadata": {
  "kernelspec": {
   "display_name": "Python 3",
   "language": "python",
   "name": "python3"
  },
  "language_info": {
   "codemirror_mode": {
    "name": "ipython",
    "version": 3
   },
   "file_extension": ".py",
   "mimetype": "text/x-python",
   "name": "python",
   "nbconvert_exporter": "python",
   "pygments_lexer": "ipython3",
   "version": "3.7.9"
  }
 },
 "nbformat": 4,
 "nbformat_minor": 5
}
