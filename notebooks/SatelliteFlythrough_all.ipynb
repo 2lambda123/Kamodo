{
 "cells": [
  {
   "cell_type": "code",
   "execution_count": 1,
   "id": "statewide-animation",
   "metadata": {},
   "outputs": [
    {
     "name": "stderr",
     "output_type": "stream",
     "text": [
      "C:\\Users\\rringuet\\.conda\\envs\\Kamodo_WinDev1\\lib\\site-packages\\spacepy\\time.py:2294: UserWarning: Leapseconds may be out of date. Use spacepy.toolbox.update(leapsecs=True)\n",
      "  warnings.warn('Leapseconds may be out of date.'\n"
     ]
    }
   ],
   "source": [
    "#import satellite flythrough code\n",
    "#%matplotlib widget  #make matplotlib plots interactive\n",
    "from kamodo.flythrough import SatelliteFlythrough as S\n",
    "import kamodo.flythrough.model_wrapper as MW"
   ]
  },
  {
   "cell_type": "code",
   "execution_count": 2,
   "id": "precious-motivation",
   "metadata": {},
   "outputs": [
    {
     "name": "stdout",
     "output_type": "stream",
     "text": [
      "Possible models are: {0: 'CTIPe', 1: 'GITM', 2: 'IRI', 3: 'SWMF_IE', 4: 'TIEGCM'}\n",
      "Integers or strings allowed.\n"
     ]
    }
   ],
   "source": [
    "#What models are possible?\n",
    "MW.Choose_Model('')"
   ]
  },
  {
   "cell_type": "code",
   "execution_count": 3,
   "id": "built-salmon",
   "metadata": {},
   "outputs": [],
   "source": [
    "#Choose which model to view the example for, then execute the notebook\n",
    "#This assumes the underlying model data files are available (!!!)\n",
    "model = 1"
   ]
  },
  {
   "cell_type": "code",
   "execution_count": 4,
   "id": "judicial-penny",
   "metadata": {},
   "outputs": [
    {
     "name": "stdout",
     "output_type": "stream",
     "text": [
      "\n",
      "The model accepts the standardized variable names listed below.\n",
      "-----------------------------------------------------------------------------------\n",
      "r_Ar : '['variable description', 0, 'SPH', 'sph', ['time', 'lon', 'lat', 'radius'], '']'\n",
      "rho_Ar : '['variable description', 1, 'SPH', 'sph', ['time', 'lon', 'lat', 'radius'], 'kg/m**3']'\n",
      "r_CH4 : '['variable description', 2, 'SPH', 'sph', ['time', 'lon', 'lat', 'radius'], '']'\n",
      "k : '['variable description', 3, 'SPH', 'sph', ['time', 'lon', 'lat', 'radius'], 'W/m/K']'\n",
      "Q_EUV : '['variable description', 4, 'SPH', 'sph', ['time', 'lon', 'lat', 'radius'], 'K per timestep']'\n",
      "rho_H : '['variable description', 5, 'SPH', 'sph', ['time', 'lon', 'lat', 'radius'], 'kg/m**3']'\n",
      "rho_Hplus : '['variable description', 6, 'SPH', 'sph', ['time', 'lon', 'lat', 'radius'], 'kg/m**3']'\n",
      "r_H2 : '['variable description', 7, 'SPH', 'sph', ['time', 'lon', 'lat', 'radius'], '']'\n",
      "r_HCN : '['variable description', 8, 'SPH', 'sph', ['time', 'lon', 'lat', 'radius'], '']'\n",
      "rho_He : '['variable description', 9, 'SPH', 'sph', ['time', 'lon', 'lat', 'radius'], 'kg/m**3']'\n",
      "rho_Heplus : '['variable description', 10, 'SPH', 'sph', ['time', 'lon', 'lat', 'radius'], 'kg/m**3']'\n",
      "HeatingEfficiency : '['variable description', 11, 'SPH', 'sph', ['time', 'lon', 'lat', 'radius'], '']'\n",
      "HeatBalanceTotal : '['variable description', 12, 'SPH', 'sph', ['time', 'lon', 'lat', 'radius'], '']'\n",
      "rho_N2 : '['variable description', 13, 'SPH', 'sph', ['time', 'lon', 'lat', 'radius'], 'kg/m**3']'\n",
      "rho_N2plus : '['variable description', 14, 'SPH', 'sph', ['time', 'lon', 'lat', 'radius'], 'kg/m**3']'\n",
      "rho_Nplus : '['variable description', 15, 'SPH', 'sph', ['time', 'lon', 'lat', 'radius'], 'kg/m**3']'\n",
      "rho_N2D : '['variable description', 16, 'SPH', 'sph', ['time', 'lon', 'lat', 'radius'], 'kg/m**3']'\n",
      "rho_N2P : '['variable description', 17, 'SPH', 'sph', ['time', 'lon', 'lat', 'radius'], 'kg/m**3']'\n",
      "rho_N4S : '['variable description', 18, 'SPH', 'sph', ['time', 'lon', 'lat', 'radius'], 'kg/m**3']'\n",
      "r_N2 : '['variable description', 19, 'SPH', 'sph', ['time', 'lon', 'lat', 'radius'], '']'\n",
      "rho_NO : '['variable description', 20, 'SPH', 'sph', ['time', 'lon', 'lat', 'radius'], 'kg/m**3']'\n",
      "rho_NOplus : '['variable description', 21, 'SPH', 'sph', ['time', 'lon', 'lat', 'radius'], 'kg/m**3']'\n",
      "rho_O2 : '['variable description', 22, 'SPH', 'sph', ['time', 'lon', 'lat', 'radius'], 'kg/m**3']'\n",
      "rho_O1D : '['variable description', 23, 'SPH', 'sph', ['time', 'lon', 'lat', 'radius'], 'kg/m**3']'\n",
      "rho_O2plus : '['variable description', 24, 'SPH', 'sph', ['time', 'lon', 'lat', 'radius'], 'kg/m**3']'\n",
      "rho_O2D : '['variable description', 25, 'SPH', 'sph', ['time', 'lon', 'lat', 'radius'], '1/m**3']'\n",
      "rho_Oplus2P : '['variable description', 26, 'SPH', 'sph', ['time', 'lon', 'lat', 'radius'], 'kg/m**3']'\n",
      "rho_O3P : '['variable description', 27, 'SPH', 'sph', ['time', 'lon', 'lat', 'radius'], 'kg/m**3']'\n",
      "rho_Oplus4SP : '['variable description', 28, 'SPH', 'sph', ['time', 'lon', 'lat', 'radius'], 'kg/m**3']'\n",
      "L_Rad : '['variable description', 29, 'SPH', 'sph', ['time', 'lon', 'lat', 'radius'], '']'\n",
      "rho_n : '['variable description', 30, 'SPH', 'sph', ['time', 'lon', 'lat', 'radius'], 'kg/m**3']'\n",
      "T_n : '['variable description', 31, 'SPH', 'sph', ['time', 'lon', 'lat', 'radius'], 'K']'\n",
      "vi_east : '['variable description', 32, 'SPH', 'sph', ['time', 'lon', 'lat', 'radius'], 'm/s']'\n",
      "vi_north : '['variable description', 33, 'SPH', 'sph', ['time', 'lon', 'lat', 'radius'], 'm/s']'\n",
      "vi_up : '['variable description', 34, 'SPH', 'sph', ['time', 'lon', 'lat', 'radius'], 'm/s']'\n",
      "vn_east : '['variable description', 35, 'SPH', 'sph', ['time', 'lon', 'lat', 'radius'], 'm/s']'\n",
      "vn_north : '['variable description', 36, 'SPH', 'sph', ['time', 'lon', 'lat', 'radius'], 'm/s']'\n",
      "vn_up : '['variable description', 37, 'SPH', 'sph', ['time', 'lon', 'lat', 'radius'], 'm/s']'\n",
      "v_N2_up : '['variable description', 38, 'SPH', 'sph', ['time', 'lon', 'lat', 'radius'], 'm/s']'\n",
      "v_N4S_up : '['variable description', 39, 'SPH', 'sph', ['time', 'lon', 'lat', 'radius'], 'm/s']'\n",
      "v_N_up : '['variable description', 40, 'SPH', 'sph', ['time', 'lon', 'lat', 'radius'], 'm/s']'\n",
      "v_O2_up : '['variable description', 41, 'SPH', 'sph', ['time', 'lon', 'lat', 'radius'], 'm/s']'\n",
      "v_O3P_up : '['variable description', 42, 'SPH', 'sph', ['time', 'lon', 'lat', 'radius'], 'm/s']'\n",
      "v_He_up : '['variable description', 43, 'SPH', 'sph', ['time', 'lon', 'lat', 'radius'], 'm/s']'\n",
      "N_e : '['variable description', 44, 'SPH', 'sph', ['time', 'lon', 'lat', 'radius'], '1/m**3']'\n",
      "ElectronAverageEnergy : '['variable description', 45, 'SPH', 'sph', ['time', 'lon', 'lat', 'radius'], 'J']'\n",
      "T_e : '['variable description', 46, 'SPH', 'sph', ['time', 'lon', 'lat', 'radius'], 'K']'\n",
      "T_i : '['variable description', 47, 'SPH', 'sph', ['time', 'lon', 'lat', 'radius'], 'K']'\n",
      "SolarZenithAngle : '['variable description', 48, 'SPH', 'sph', ['time', 'lon', 'lat'], 'radians']'\n",
      "rho_CO2 : '['variable description', 49, 'SPH', 'sph', ['time', 'lon', 'lat', 'radius'], 'kg/m**3']'\n",
      "DivJuFL : '['variable description', 50, 'SPH', 'sph', ['time', 'lon', 'lat', 'radius'], '']'\n",
      "DivJuAlt : '['variable description', 51, 'SPH', 'sph', ['time', 'lon', 'lat', 'radius'], '']'\n",
      "ElectronEnergyFlux : '['variable description', 52, 'SPH', 'sph', ['time', 'lon', 'lat', 'radius'], 'J/m**2']'\n",
      "Field Line Length : '['variable description', 53, 'SPH', 'sph', ['time', 'lon', 'lat', 'radius'], 'm']'\n",
      "sigma_P : '['variable description', 54, 'SPH', 'sph', ['time', 'lon', 'lat', 'radius'], 'S/m']'\n",
      "V : '['variable description', 57, 'SPH', 'sph', ['time', 'lon', 'lat', 'radius'], 'V']'\n",
      "sigma_H : '['variable description', 58, 'SPH', 'sph', ['time', 'lon', 'lat', 'radius'], 'S/m']'\n",
      "I_R2 : '['variable description', 59, 'SPH', 'sph', ['time', 'lon', 'lat', 'radius'], 'A/m**2']'\n",
      "I_R1 : '['variable description', 60, 'SPH', 'sph', ['time', 'lon', 'lat', 'radius'], 'A/m**2']'\n",
      "Ed1 : '['variable description', 61, 'SPH', 'sph', ['time', 'lon', 'lat', 'radius'], '']'\n",
      "Ed2 : '['variable description', 62, 'SPH', 'sph', ['time', 'lon', 'lat', 'radius'], '']'\n",
      "SolarLocalTime : '['variable description', 63, 'SPH', 'sph', ['time', 'lon', 'lat'], 'hr']'\n",
      "E_up : '['variable description', 64, 'SPH', 'sph', ['time', 'lon', 'lat', 'radius'], 'V/m']'\n",
      "E_east : '['variable description', 65, 'SPH', 'sph', ['time', 'lon', 'lat', 'radius'], 'V/m']'\n",
      "E_north : '['variable description', 66, 'SPH', 'sph', ['time', 'lon', 'lat', 'radius'], 'V/m']'\n",
      "E_mag : '['variable description', 67, 'SPH', 'sph', ['time', 'lon', 'lat', 'radius'], 'V/m']'\n",
      "B_up : '['variable description', 68, 'SPH', 'sph', ['time', 'lon', 'lat', 'radius'], 'nT']'\n",
      "B_east : '['variable description', 69, 'SPH', 'sph', ['time', 'lon', 'lat', 'radius'], 'nT']'\n",
      "B_north : '['variable description', 70, 'SPH', 'sph', ['time', 'lon', 'lat', 'radius'], 'nT']'\n",
      "B_mag : '['variable description', 71, 'SPH', 'sph', ['time', 'lon', 'lat', 'radius'], 'nT']'\n",
      "MagLat : '['variable description', 72, 'SPH', 'sph', ['time', 'lon', 'lat', 'radius'], 'deg']'\n",
      "MagLon : '['variable description', 73, 'SPH', 'sph', ['time', 'lon', 'lat', 'radius'], 'deg']'\n",
      "g : '['variable description', 74, 'SPH', 'sph', ['time', 'lon', 'lat', 'radius'], 'm/s**2']'\n",
      "GradP_east : '['variable description', 75, 'SPH', 'sph', ['time', 'lon', 'lat', 'radius'], 'Pa/m']'\n",
      "GradP_north : '['variable description', 76, 'SPH', 'sph', ['time', 'lon', 'lat', 'radius'], 'Pa/m']'\n",
      "GradP_up : '['variable description', 77, 'SPH', 'sph', ['time', 'lon', 'lat', 'radius'], 'Pa/m']'\n",
      "nu_in : '['variable description', 78, 'SPH', 'sph', ['time', 'lon', 'lat', 'radius'], '1/s']'\n",
      "ChemicalHeatingRate : '['variable description', 79, 'SPH', 'sph', ['time', 'lon', 'lat', 'radius'], '']'\n",
      "TotalAbsoluteEUV : '['variable description', 80, 'SPH', 'sph', ['time', 'lon', 'lat', 'radius'], 'K per timestep']'\n",
      "Q_Ocool : '['variable description', 81, 'SPH', 'sph', ['time', 'lon', 'lat', 'radius'], 'K per timestep']'\n",
      "Q_Joule : '['variable description', 82, 'SPH', 'sph', ['time', 'lon', 'lat', 'radius'], 'K per timestep']'\n",
      "Q_Auroral : '['variable description', 83, 'SPH', 'sph', ['time', 'lon', 'lat', 'radius'], 'K per timestep']'\n",
      "Q_PhotoE : '['variable description', 84, 'SPH', 'sph', ['time', 'lon', 'lat', 'radius'], 'K per timestep']'\n",
      "k_eddy : '['variable description', 85, 'SPH', 'sph', ['time', 'lon', 'lat', 'radius'], '']'\n",
      "k_adiabaticeddy : '['variable description', 86, 'SPH', 'sph', ['time', 'lon', 'lat', 'radius'], '']'\n",
      "Q_NOcool : '['variable description', 87, 'SPH', 'sph', ['time', 'lon', 'lat', 'radius'], 'K per timestep']'\n",
      "k_molecular : '['variable description', 88, 'SPH', 'sph', ['time', 'lon', 'lat', 'radius'], '']'\n",
      "NmF2 : '['variable description', 89, 'SPH', 'sph', ['time', 'lon', 'lat'], '']'\n",
      "hmF2 : '['variable description', 90, 'SPH', 'sph', ['time', 'lon', 'lat'], 'km']'\n",
      "TEC : '['variable description', 91, 'SPH', 'sph', ['time', 'lon', 'lat'], '10**16/m**2']'\n",
      "Phi_Joule : '['variable description', 92, 'SPH', 'sph', ['time', 'lon', 'lat'], 'W/m**2']'\n",
      "Phi_Q : '['variable description', 93, 'SPH', 'sph', ['time', 'lon', 'lat'], 'W/m**2']'\n",
      "Phi_EUV : '['variable description', 94, 'SPH', 'sph', ['time', 'lon', 'lat'], 'W/m**2']'\n",
      "Phi_NOCooling : '['variable description', 95, 'SPH', 'sph', ['time', 'lon', 'lat'], 'W/m**2']'\n",
      "\n"
     ]
    }
   ],
   "source": [
    "#What are the variable names available from that model?\n",
    "MW.Model_Variables(model)"
   ]
  },
  {
   "cell_type": "code",
   "execution_count": 5,
   "id": "reflected-aggregate",
   "metadata": {},
   "outputs": [
    {
     "name": "stdout",
     "output_type": "stream",
     "text": [
      "Attribute/Key names of return dictionary: dict_keys(['sat_time', 'c1', 'c2', 'c3'])\n",
      "(c1,c2,c3) = (lon, lat, alt) in (deg,deg,km) in the GDZ, sph coordinate system.sat_time contains the utc timestamps.\n"
     ]
    }
   ],
   "source": [
    "#Examples for all models (The times are different to match the model output time ranges.)\n",
    "#----------------------------  \n",
    "if model=='CTIPe' or model==0:\n",
    "    start_utcts, end_utcts, n = 1426660000.0, 1426880700.0, 2.\n",
    "\n",
    "elif model=='GITM' or model==1:\n",
    "    start_utcts, end_utcts, n = 1165968000.0-30000., 1166053801.0+1000., 2.\n",
    "                \n",
    "elif model=='IRI' or model==2:\n",
    "    start_utcts, end_utcts, n = 1495930160.0, 1496010000.0, 2.\n",
    "        \n",
    "elif model=='SWMF_IE' or model==3:\n",
    "    start_utcts, end_utcts, n = 1533081600.0-30000., 1533167760.0+1000., 2.\n",
    "    \n",
    "elif model=='TIEGCM' or model==4:\n",
    "    start_utcts, end_utcts, n = 974264400.0-300., 974592000.+3000., 1000.\n",
    "\n",
    "plot_dir = 'C:/Users/rringuet/Kamodo_WinDev1/SatelliteFlythrough/'\n",
    "sat_dict, coord_type, coord_grid = S.SampleTrajectory(start_utcts, end_utcts, n=n)"
   ]
  },
  {
   "cell_type": "code",
   "execution_count": 6,
   "id": "affecting-electronics",
   "metadata": {},
   "outputs": [
    {
     "name": "stdout",
     "output_type": "stream",
     "text": [
      "{'T_n': 'K', 'TEC': '10**16/m**2', 'utc_time': 's', 'net_idx': '', 'c1': 'deg', 'c2': 'deg', 'c3': 'km'}\n",
      "Files prepared for run.\n",
      "KAMODO IMPORTED!\n",
      "15199 data points are not in model output files and are excluded from the flythrough.\n",
      "Converted from: GDZ sph to: SPH sph ['deg', 'deg', 'R_E'] in 1.6395 seconds.\n",
      "Interpolating data...\n",
      "Done.\n",
      "\n"
     ]
    }
   ],
   "source": [
    "#run satellite flythrough code (for CTIPe, choose parameters independent of pressure altitude)\n",
    "#Examples for all models\n",
    "#NOTE: data for different models should be kept in different directories\n",
    "#-----------------------------\n",
    "if model=='CTIPe' or model==0:\n",
    "    file_dir = 'C:/Users/rringuet/Kamodo_WinDev1/CTIPe/Data/'\n",
    "    variable_list = ['T_e','TEC']\n",
    "\n",
    "elif model=='GITM' or model==1:\n",
    "    file_dir = 'C:/Users/rringuet/Kamodo_WinDev1/GITM/Data/'\n",
    "    variable_list = ['T_n','TEC']\n",
    "    \n",
    "elif model=='IRI' or model==2:\n",
    "    file_dir = 'C:/Users/rringuet/Kamodo_WinDev1/IRI/Data/'\n",
    "    variable_list = ['T_e','TEC']       \n",
    "                \n",
    "elif model=='SWMF_IE' or model==3:\n",
    "    file_dir = 'C:/Users/rringuet/Kamodo_WinDev1/SWMF_IE/Data/'\n",
    "    variable_list = ['Q_Joule','rho_RT']\n",
    "    \n",
    "elif model=='TIEGCM' or model==4:  #all TIEGCM variables require conversion to pressure level\n",
    "    file_dir = 'C:/Users/rringuet/Kamodo_WinDev1/TIEGCM/Data/'\n",
    "    variable_list = ['rho','T_e']\n",
    "    \n",
    "results = S.ModelFlythrough(model, file_dir, variable_list, sat_dict['sat_time'], sat_dict['c1'], \n",
    "                            sat_dict['c2'], sat_dict['c3'], coord_type, coord_grid)"
   ]
  },
  {
   "cell_type": "code",
   "execution_count": 7,
   "id": "polyphonic-relative",
   "metadata": {},
   "outputs": [
    {
     "name": "stdout",
     "output_type": "stream",
     "text": [
      "Help on function FakeFlight in module kamodo.flythrough.SatelliteFlythrough:\n",
      "\n",
      "FakeFlight(start_time, stop_time, model, file_dir, variable_list, max_lat=65.0, min_lat=-65.0, lon_perorbit=363.0, max_height=450.0, min_height=400.0, p=0.01, n=2.0, high_res=20.0, verbose=False, csv_output='', plot_output='')\n",
      "    Generates a sample trajectory and then flies that trajectory through the \n",
      "    model data chosen.\n",
      "     \n",
      "    Parameters: \n",
      "        start_time: utc timestamp in seconds for start\n",
      "        stop_time: utc timestamp in seconds for stop\n",
      "        model: CTIPe, IRI, .... (integers allowed)\n",
      "        file_dir: complete path to where model data is stored\n",
      "        variable_list: list of standardized variable names desired. Integers allowed.\n",
      "        max_lat: maximum latitude for sample trajectory, in degrees (default=65.)\n",
      "        min_lat: minimum latitude for sample trajectory, in degrees (default=-65.)\n",
      "        lon_perorbit: the degrees of longitude per about 90 minute orbit \n",
      "            (set less than 360 for precession forward in longitude, set less \n",
      "            than 360 for precession backwards) (default=363.)\n",
      "        max_height: maximum starting height of orbit in km (default=450.)\n",
      "        min_height: minimum starting height of orbit in km (default=400.)\n",
      "        p: a rough precession variable, applied as an overall height decrease \n",
      "            as a percentage of the min_height value: p =  (default=0.01).  \n",
      "        n: the time cadence of the sample trajectory generated (default = 2 seconds)\n",
      "        high_res: the resolution of the height conversion to pressure level\n",
      "            in units of km\n",
      "        csv_output: complete path pluts filename (without the .csv) for the file to\n",
      "            write the results to.\n",
      "        plot_output: complete path pluts file naming convention (without the .html)\n",
      "            for the file to write the plots to.\n",
      "\n"
     ]
    }
   ],
   "source": [
    "#how to create sample trajectory and run flythrough code in one command\n",
    "help(S.FakeFlight)"
   ]
  },
  {
   "cell_type": "code",
   "execution_count": 8,
   "id": "distinguished-liverpool",
   "metadata": {},
   "outputs": [
    {
     "name": "stdout",
     "output_type": "stream",
     "text": [
      "Attribute/Key names of return dictionary: dict_keys(['sat_time', 'c1', 'c2', 'c3'])\n",
      "(c1,c2,c3) = (lon, lat, alt) in (deg,deg,km) in the GDZ, sph coordinate system.sat_time contains the utc timestamps.\n",
      "{'T_n': 'K', 'TEC': '10**16/m**2', 'utc_time': 's', 'net_idx': '', 'c1': 'deg', 'c2': 'deg', 'c3': 'km'}\n",
      "Files prepared for run.\n",
      "KAMODO IMPORTED!\n",
      "15199 data points are not in model output files and are excluded from the flythrough.\n",
      "Converted from: GDZ sph to: SPH sph ['deg', 'deg', 'R_E'] in 1.6834 seconds.\n",
      "Interpolating data...\n",
      "Done.\n",
      "\n",
      "Output saved in C:/Users/rringuet/Kamodo_WinDev1/GITM/GITM_FakeFlight.csv.\n",
      "Generating interactive plots...\n",
      "Converted from: GDZ sph to: GEO car ['R_E', 'R_E', 'R_E'] in 1.2994 seconds.\n",
      "-saving html div file:  C:/Users/rringuet/Kamodo_WinDev1/GITM/GITM_FakeFlight_T_n_3D.html\n",
      "Converted from: GDZ sph to: GDZ sph ['deg', 'deg', 'km'] in 1.1151 seconds.\n",
      "-saving html div file:  C:/Users/rringuet/Kamodo_WinDev1/GITM/GITM_FakeFlight_T_n_1D.html\n",
      "Converted from: GDZ sph to: GEO car ['R_E', 'R_E', 'R_E'] in 1.2986 seconds.\n",
      "-saving html div file:  C:/Users/rringuet/Kamodo_WinDev1/GITM/GITM_FakeFlight_TEC_3D.html\n",
      "Converted from: GDZ sph to: GDZ sph ['deg', 'deg', 'km'] in 1.0660 seconds.\n",
      "-saving html div file:  C:/Users/rringuet/Kamodo_WinDev1/GITM/GITM_FakeFlight_TEC_1D.html\n"
     ]
    }
   ],
   "source": [
    "#run FakeFlight (fly a sample satellite trajectory through the model)\n",
    "#output is to a csv file for reading from other languages, if desired\n",
    "#Example code for all models\n",
    "#----------------------------------\n",
    "model_str = MW.convert_model_string(model)\n",
    "output = 'C:/Users/rringuet/Kamodo_WinDev1/'+model_str+'/FakeFlight'\n",
    "results = S.FakeFlight(start_utcts, end_utcts, model, file_dir, variable_list, max_height=420., p=0.02, n=n,\n",
    "                      csv_output=output, plot_output=output)"
   ]
  },
  {
   "cell_type": "code",
   "execution_count": 9,
   "id": "attractive-sending",
   "metadata": {
    "scrolled": true
   },
   "outputs": [
    {
     "data": {
      "text/plain": [
       "{'utc_time': array([1.1659680e+09, 1.1659680e+09, 1.1659680e+09, ..., 1.1660544e+09,\n",
       "        1.1660544e+09, 1.1660544e+09]),\n",
       " 'c1': array([36.7184655 , 36.8529134 , 36.98736129, ..., 84.59875034,\n",
       "        84.73319824, 84.86764614]),\n",
       " 'c2': array([-61.05121718, -60.99911416, -60.94668057, ..., -61.15443034,\n",
       "        -61.10298933, -61.05121718]),\n",
       " 'c3': array([404.51281853, 404.49082544, 404.46885106, ..., 398.63895086,\n",
       "        398.61692068, 398.59490898]),\n",
       " 'net_idx': array([15000, 15001, 15002, ..., 58198, 58199, 58200]),\n",
       " 'T_n': array([1163.43932508, 1163.37747785, 1163.31366689, ...,           nan,\n",
       "                  nan,           nan]),\n",
       " 'TEC': array([5.44382413, 5.43889823, 5.43399849, ...,        nan,        nan,\n",
       "               nan])}"
      ]
     },
     "execution_count": 9,
     "metadata": {},
     "output_type": "execute_result"
    }
   ],
   "source": [
    "results"
   ]
  },
  {
   "cell_type": "code",
   "execution_count": 10,
   "id": "breeding-magnet",
   "metadata": {},
   "outputs": [
    {
     "name": "stdout",
     "output_type": "stream",
     "text": [
      "Attribute/Key names of return dictionary: dict_keys(['sat_time', 'c1', 'c2', 'c3'])\n"
     ]
    }
   ],
   "source": [
    "#run RealFlight (fly a real satellite trajectory through the model)\n",
    "#Examples for each model\n",
    "#------------------------------------\n",
    "    \n",
    "if model=='CTIPe' or model==0:\n",
    "    dataset = 'grace1'\n",
    "    \n",
    "elif model=='GITM' or model==1:\n",
    "    dataset = 'grace1'\n",
    "\n",
    "elif model=='IRI' or model==2:\n",
    "    dataset = 'grace1'\n",
    "    \n",
    "elif model=='SWMF_IE' or model==3:\n",
    "    dataset = 'swarma'\n",
    "    \n",
    "elif model=='TIEGCM' or model==4:   \n",
    "    dataset = 'champ'  \n",
    "\n",
    "sat_dict, coord_type, coord_grid = S.SatelliteTrajectory(dataset, start_utcts, end_utcts)#, 'GSE')    "
   ]
  },
  {
   "cell_type": "code",
   "execution_count": 11,
   "id": "aggressive-hampshire",
   "metadata": {},
   "outputs": [
    {
     "name": "stdout",
     "output_type": "stream",
     "text": [
      "Attribute/Key names of return dictionary: dict_keys(['sat_time', 'c1', 'c2', 'c3'])\n",
      "{'T_n': 'K', 'TEC': '10**16/m**2', 'utc_time': 's', 'net_idx': '', 'c1': 'R_E', 'c2': 'R_E', 'c3': 'R_E'}\n",
      "Files prepared for run.\n",
      "KAMODO IMPORTED!\n",
      "505 data points are not in model output files and are excluded from the flythrough.\n",
      "Converted from: GEO car to: SPH sph ['deg', 'deg', 'R_E'] in 0.0531 seconds.\n",
      "Interpolating data...\n",
      "Done.\n",
      "\n",
      "Output saved in C:/Users/rringuet/Kamodo_WinDev1/GITM/GITM_RealFlight.csv.\n",
      "Generating interactive plots...\n",
      "Converted from: GEO car to: GEO car ['R_E', 'R_E', 'R_E'] in 0.0339 seconds.\n",
      "-saving html div file:  C:/Users/rringuet/Kamodo_WinDev1/GITM/GITM_RealFlight_T_n_3D.html\n",
      "Converted from: GEO car to: GDZ sph ['deg', 'deg', 'km'] in 0.0390 seconds.\n",
      "-saving html div file:  C:/Users/rringuet/Kamodo_WinDev1/GITM/GITM_RealFlight_T_n_1D.html\n",
      "Converted from: GEO car to: GEO car ['R_E', 'R_E', 'R_E'] in 0.0350 seconds.\n",
      "-saving html div file:  C:/Users/rringuet/Kamodo_WinDev1/GITM/GITM_RealFlight_TEC_3D.html\n",
      "Converted from: GEO car to: GDZ sph ['deg', 'deg', 'km'] in 0.0402 seconds.\n",
      "-saving html div file:  C:/Users/rringuet/Kamodo_WinDev1/GITM/GITM_RealFlight_TEC_1D.html\n"
     ]
    }
   ],
   "source": [
    "#file_dir, model, and variable_list parameters were set in a previous block\n",
    "output = 'C:/Users/rringuet/Kamodo_WinDev1/'+model_str+'/RealFlight'\n",
    "sat_dict = S.RealFlight(dataset, start_utcts, end_utcts, model, file_dir, \n",
    "             variable_list, csv_output=output, plot_output=output)"
   ]
  },
  {
   "cell_type": "code",
   "execution_count": 12,
   "id": "matched-wildlife",
   "metadata": {},
   "outputs": [
    {
     "name": "stdout",
     "output_type": "stream",
     "text": [
      "{'rho_n': 'kg/m**3', 'utc_time': 's', 'net_idx': '', 'c1': 'R_E', 'c2': 'R_E', 'c3': 'R_E'}\n",
      "Files prepared for run.\n",
      "KAMODO IMPORTED!\n",
      "Converted from: GEO car to: SPH sph ['deg', 'deg', 'R_E'] in 0.0398 seconds.\n",
      "Interpolating data...\n",
      "Done.\n",
      "\n",
      "Output saved in C:/Users/rringuet/Kamodo_WinDev1/GITM/GITM_RealFlight2.csv.\n",
      "Generating interactive plots...\n",
      "Converted from: GEO car to: GEO car ['R_E', 'R_E', 'R_E'] in 0.0347 seconds.\n",
      "-saving html div file:  C:/Users/rringuet/Kamodo_WinDev1/GITM/GITM_RealFlight2_rho_n_3D.html\n",
      "Converted from: GEO car to: GDZ sph ['deg', 'deg', 'km'] in 0.0406 seconds.\n",
      "-saving html div file:  C:/Users/rringuet/Kamodo_WinDev1/GITM/GITM_RealFlight2_rho_n_1D.html\n"
     ]
    }
   ],
   "source": [
    "#establish alternate variable list\n",
    "if model=='CTIPe' or model==0:\n",
    "    variable_list = ['rho']\n",
    "elif model=='GITM' or model==1:\n",
    "    variable_list = ['rho_n']\n",
    "elif model=='IRI' or model==2:\n",
    "    variable_list = ['N_e']       \n",
    "elif model=='SWMF_IE' or model==3:\n",
    "    variable_list = ['Sigma_P']\n",
    "elif model=='TIEGCM' or model==4:  #all TIEGCM variables require conversion to pressure level\n",
    "    variable_list = ['T_n']\n",
    "\n",
    "#demonstrate using a custom trajectory\n",
    "traj_file, file_type = 'C:/Users/rringuet/Kamodo_WinDev1/'+model_str+'/'+model_str+'_RealFlight.csv', 'csv'\n",
    "coord_type, coord_grid = 'GEO', 'car'\n",
    "test_results = S.MyFlight(traj_file, file_type, coord_type, coord_grid, model, file_dir, variable_list,\n",
    "               csv_output=output+'2', plot_output=output+'2')"
   ]
  },
  {
   "cell_type": "code",
   "execution_count": null,
   "id": "average-castle",
   "metadata": {},
   "outputs": [],
   "source": []
  }
 ],
 "metadata": {
  "kernelspec": {
   "display_name": "Python 3",
   "language": "python",
   "name": "python3"
  },
  "language_info": {
   "codemirror_mode": {
    "name": "ipython",
    "version": 3
   },
   "file_extension": ".py",
   "mimetype": "text/x-python",
   "name": "python",
   "nbconvert_exporter": "python",
   "pygments_lexer": "ipython3",
   "version": "3.7.9"
  }
 },
 "nbformat": 4,
 "nbformat_minor": 5
}
