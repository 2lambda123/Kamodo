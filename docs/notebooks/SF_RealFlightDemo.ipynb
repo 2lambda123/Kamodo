{
 "cells": [
  {
   "cell_type": "markdown",
   "id": "e9980461",
   "metadata": {},
   "source": [
    "# Demo notebook for Kamodo Flythrough \"RealFlight\" function\n",
    "The RealFlight function flies a real satellite trajectory through the chosen model data.\n",
    "You may run the notebook as is if you have the sample data file, but you must\n",
    "change the 'file_dir', 'output_name', and 'plot_output' variables in block 3 to have the correct file path."
   ]
  },
  {
   "cell_type": "code",
   "execution_count": null,
   "id": "statewide-animation",
   "metadata": {},
   "outputs": [],
   "source": [
    "# Import satellite flythrough code\n",
    "from kamodo_ccmc.flythrough import SatelliteFlythrough as SF\n",
    "import kamodo_ccmc.flythrough.model_wrapper as MW\n",
    "# The testing data file is available at https://ccmc.gsfc.nasa.gov/RoR_WWW/output_files/KAMODO_DEMO/"
   ]
  },
  {
   "cell_type": "code",
   "execution_count": null,
   "id": "9f2b28b9",
   "metadata": {
    "scrolled": true
   },
   "outputs": [],
   "source": [
    "help(SF.RealFlight)"
   ]
  },
  {
   "cell_type": "code",
   "execution_count": null,
   "id": "reflected-aggregate",
   "metadata": {},
   "outputs": [],
   "source": [
    "# Choosing input values for RealFlight function call\n",
    "# ----------------------------  \n",
    "model = 'TIEGCM'  # Choose which model to view the example for\n",
    "file_dir = 'C:/Users/rringuet/Kamodo_Data/TIEGCM/Data/'  # full file path to where the model output data is stored\n",
    "dataset = 'grace1'\n",
    "start_utcts, end_utcts = 1506039600, 1506124800\n",
    "# Use https://sscweb.gsfc.nasa.gov/ to find the satellite name and time range desired\n",
    "# The chosen time range should match the length of time in the model data files.\n",
    "# Time values found not to be contained in the model data are automatically discarded (see output of next block).\n",
    "\n",
    "variable_list = ['rho','u_n','T_e']  # list of desired variable names from above list.\n",
    "coord_type = 'GEO'  # GEO cartesian coordinates as the sample coordinate system for trajectory.\n",
    "# Choose from any option available in SpacePy.\n",
    "# See https://sscweb.gsfc.nasa.gov/users_guide/Appendix_C.shtml for a description of coordinate types\n",
    "\n",
    "# Choose naming convention for output files\n",
    "output_name = 'C:/Users/rringuet/Kamodo_env/RealFlightExample_TIEGCM.txt' #filename for DATA output\n",
    "plot_coord = 'GSE'  # coordinate system chosen for output plots"
   ]
  },
  {
   "cell_type": "code",
   "execution_count": null,
   "id": "affecting-electronics",
   "metadata": {
    "scrolled": true
   },
   "outputs": [],
   "source": [
    "# Run RealFlight with champ satellite trajectory\n",
    "results = SF.RealFlight(dataset, start_utcts, end_utcts, model, file_dir, variable_list, coord_type=coord_type, \n",
    "                        output_name=output_name, plot_coord=plot_coord)\n",
    "# Open plots in separate internet browser window for interactivity. Nothing will open here."
   ]
  },
  {
   "cell_type": "code",
   "execution_count": null,
   "id": "informed-biology",
   "metadata": {},
   "outputs": [],
   "source": []
  }
 ],
 "metadata": {
  "kernelspec": {
   "display_name": "Python 3 (ipykernel)",
   "language": "python",
   "name": "python3"
  },
  "language_info": {
   "codemirror_mode": {
    "name": "ipython",
    "version": 3
   },
   "file_extension": ".py",
   "mimetype": "text/x-python",
   "name": "python",
   "nbconvert_exporter": "python",
   "pygments_lexer": "ipython3",
   "version": "3.7.13"
  }
 },
 "nbformat": 4,
 "nbformat_minor": 5
}
