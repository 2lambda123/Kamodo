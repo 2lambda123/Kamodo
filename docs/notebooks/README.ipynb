{
 "cells": [
  {
   "cell_type": "markdown",
   "id": "e75ff371",
   "metadata": {},
   "source": [
    "# The CCMC Kamodo Analysis Suite\n",
    "## Vision Statement\n",
    "CCMC's Kamodo is an official NASA open-source python package built upon the functionalization of datasets. Once a dataset is functionalized in Kamodo, several important capabilities are then available to the user, including data analysis via function composition, automatic unit conversions, and publication quality graphics all using intuitive and simplistic syntax. By applying these capabilities to heliophysics model outputs, we aim to:\n",
    "-\tDrastically simplify the currently complex data utilization process for model outputs,\n",
    "-\tProvide interactive access to functionalized model outputs for users ranging in programming skill from beginners – via code-free interfaces and video tutorials – to advanced users – via thorough documentation, Jupyter notebook examples and sample workflows,\n",
    "-\tLayer multiple functionalities on top of the functionalized model outputs, all with model-agnostic and uniform syntax, including but not limited to:\n",
    "    - Flythrough tools,\n",
    "    - Vector field tracing (including magnetic field mapping),\n",
    "    - Coordinate conversions,\n",
    "    - Domain-specific interactive plots of publication quality,\n",
    "    - One- and two-way model coupling,\n",
    "    - Satellite constellation mission planning tools,\n",
    "    - Simulated imagery,\n",
    "    - and a line of sight calculation tool,\n",
    "-\tGreatly reduce the programming skill currently required outside of Kamodo to perform model validation studies and model-data comparisons,\n",
    "-\tEnable model output utilization both on the cloud and on personal laptops in a variety of methods (e.g. through HAPI and interactive calls from the command line),\n",
    "-\tStreamline the CCMC user workflow by becoming interoperable with other CCMC services (e.g. CAMEL and the various scoreboards),\n",
    "-\tExpand the number of possible model-coupling groupings at CCMC by functionalizing the process,\n",
    "-\tAnd become the next generation interface for CCMC users to interact with and analyze model outputs (e.g. through ROR and IR),\n",
    "\n",
    "...all while keeping the developed software open-source and freely available. The Kamodo team also supports the heliophysics community by pursuing interoperability with commonly-used python packages, collaborating with community members to add model outputs and new functionalities, and remaining involved with community events (e.g. conferences, challenges, and research support). As the library of supported model outputs types expands and new model-agnostic tools are added, CCMC-Kamodo will become a staple software package in the heliophysics community to transform current workflows into a more efficient and productive process. We are building the next generation of capability with CCMC’s Kamodo. Join us!"
   ]
  },
  {
   "cell_type": "markdown",
   "id": "06c4ac0a",
   "metadata": {},
   "source": [
    "## CCMC Kamodo Installation Instructions   "
   ]
  },
  {
   "cell_type": "markdown",
   "id": "3dee593e",
   "metadata": {},
   "source": [
    "### Conda prompt commands: \n",
    "- Move to the directory where you want the Kamodo package to be stored or if you wish to create a new environment, use this command:\n",
    "\n",
    "> conda create -n Kamodo_env python=3.7  \n",
    "\n",
    "- Add the packages needed by the CCMC readers to the desired environment (replace 'Kamodo_env' with your environment name):\n",
    "\n",
    "> conda install -n Kamodo_env -c conda-forge netCDF4 cdflib astropy ipython jupyter h5py sgp4\n",
    "\n",
    "- Activate the desired environment. \n",
    "\n",
    "> conda activate Kamodo_env\n",
    "\n",
    "- Install remaining dependencies:\n",
    "\n",
    "> python -m pip install --upgrade spacepy  \n",
    "> python -m pip install hapiclient    \n",
    "\n",
    "- Download CCMC Kamodo to the current directory:\n",
    "\n",
    "> git clone https://github.com/nasa/Kamodo.git\n",
    "\n",
    "- Install the CCMC Kamodo package. (Check the directory structure before using this command. The ./Kamodo directory should contain the kamodo_ccmc directory.)\n",
    "\n",
    "> python -m pip install ./Kamodo \n",
    "\n",
    "Note: Developers should install CCMC Kamodo with the -e option"
   ]
  },
  {
   "cell_type": "markdown",
   "id": "8b3693e3",
   "metadata": {},
   "source": [
    "### Testing commands from an ipython or notebook session"
   ]
  },
  {
   "cell_type": "code",
   "execution_count": 1,
   "id": "d9672e9a",
   "metadata": {},
   "outputs": [
    {
     "name": "stdout",
     "output_type": "stream",
     "text": [
      "\n",
      "The OpenGGCM_GM model accepts the standardized variable names listed below.\n",
      "-----------------------------------------------------------------------------------\n",
      "B_x : '['x component of magnetic field', 0, 'GSE', 'car', ['time', 'x', 'y', 'z'], 'nT']'\n",
      "B_y : '['y component of magnetic field', 1, 'GSE', 'car', ['time', 'x', 'y', 'z'], 'nT']'\n",
      "B_z : '['z component of magnetic field', 2, 'GSE', 'car', ['time', 'x', 'y', 'z'], 'nT']'\n",
      "E_x : '['x component of electric field', 6, 'GSE', 'car', ['time', 'x', 'x', 'x'], 'mV/m']'\n",
      "E_y : '['y component of electric field', 7, 'GSE', 'car', ['time', 'y', 'y', 'y'], 'mV/m']'\n",
      "E_z : '['z component of electric field', 8, 'GSE', 'car', ['time', 'z', 'z', 'z'], 'mV/m']'\n",
      "N_plasma : '['number density of plasma (hydrogen equivalent)', 12, 'GSE', 'car', ['time', 'x', 'y', 'z'], '1/cm**3']'\n",
      "P_plasma : '['plasma pressure', 14, 'GSE', 'car', ['time', 'x', 'y', 'z'], 'pPa']'\n",
      "eta : '['resistivity', 13, 'GSE', 'car', ['time', 'x', 'y', 'z'], 'm**2/s']'\n",
      "j_x : '['current density, x component', 15, 'GSE', 'car', ['time', 'x', 'y', 'z'], 'muA/m**2']'\n",
      "j_y : '['current density, y component', 16, 'GSE', 'car', ['time', 'x', 'y', 'z'], 'muA/m**2']'\n",
      "j_z : '['current density, z component', 17, 'GSE', 'car', ['time', 'x', 'y', 'z'], 'muA/m**2']'\n",
      "v_plasmax : '['x component of plasma velocity', 9, 'GSE', 'car', ['time', 'x', 'y', 'z'], 'km/s']'\n",
      "v_plasmay : '['y component of plasma velocity', 10, 'GSE', 'car', ['time', 'x', 'y', 'z'], 'km/s']'\n",
      "v_plasmaz : '['z component of plasma velocity', 11, 'GSE', 'car', ['time', 'x', 'y', 'z'], 'km/s']'\n",
      "\n"
     ]
    }
   ],
   "source": [
    "from kamodo import Kamodo\n",
    "k = Kamodo()  \n",
    "import kamodo_ccmc.flythrough.model_wrapper as MW  \n",
    "MW.Model_Variables('OpenGGCM_GM')"
   ]
  },
  {
   "cell_type": "markdown",
   "id": "f3802198",
   "metadata": {},
   "source": [
    "## Citation Requirements\n",
    "\n",
    "Use of CCMC's Kamodo in published work or in other development projects requires citing one or more of the publications below as indicated.\n",
    "\n",
    "### The Data functionalization function\n",
    "\n",
    "Ringuette, R., D. De Zeeuw, L. Rastaetter, A. Pembroke, O. Gerland, K. Garcia-Sage (2022). Kamodo’s model-agnostic satellite flythrough: Lowering the utilization barrier for heliophysics model outputs, Frontiers in Astronomy and Space Sciences, vol 9. http://dx.doi.org/10.3389/fspas.2022.1005977.\n",
    "\n",
    "### The model readers\n",
    "\n",
    "Ringuette, R., L. Rastaetter, D. De Zeeuw, A. Pembroke, and O. Gerland (2023). Simplifying model data access and utilization. Adv. Space. Res. under review.\n",
    "\n",
    "### The Flythrough functions\n",
    "\n",
    "Ringuette, R., D. De Zeeuw, L. Rastaetter, A. Pembroke, O. Gerland, K. Garcia-Sage (2022). Kamodo’s model-agnostic satellite flythrough: Lowering the utilization barrier for heliophysics model outputs, Frontiers in Astronomy and Space Sciences, vol 9. http://dx.doi.org/10.3389/fspas.2022.1005977.\n",
    "\n",
    "### The Constellation Mission planning tool\n",
    "\n",
    "Ringuette, R., L. Rastaetter, D. De Zeeuw, K. Garcia-Sage, R. Robinson, and O. Gerland (2022). Kamodo's Satellite Constellation Mission Planning Tool, poster presentation presented by L. Rastaetter at the 2022 Fall meeting of AGU, Dec 12-16, Chicago, IL, USA. https://doi.org/10.22541/essoar.167214257.73153757/v1."
   ]
  },
  {
   "cell_type": "markdown",
   "id": "1c6eada2",
   "metadata": {},
   "source": [
    "## Related websites\n",
    "CCMC's Kamodo webpage - https://ccmc.gsfc.nasa.gov/tools/kamodo/\n",
    "\n",
    "Ensemble's Kamodo-core Documentation page - https://ensemblegovservices.github.io/kamodo-core/"
   ]
  },
  {
   "cell_type": "markdown",
   "id": "3506f5b2",
   "metadata": {},
   "source": [
    "## The Kamodo team\n",
    "### Dr. Rebecca Ringuette\n",
    "ORCiD: https://orcid.org/0000-0003-0875-2023\n",
    "\n",
    "NASA Staff Page: https://ccmc.gsfc.nasa.gov/staff/rebecca-ringuette/\n",
    "\n",
    "### Dr. Lutz Rastaetter\n",
    "ORCiD: https://orcid.org/0000-0002-7343-4147\n",
    "\n",
    "NASA Staff Page: https://ccmc.gsfc.nasa.gov/staff/lutz-rastaetter/\n",
    "\n",
    "### Dr. Darren De Zeeuw\n",
    "ORCiD: https://orcid.org/0000-0002-4313-5998\n",
    "\n",
    "NASA Staff Page: https://ccmc.gsfc.nasa.gov/staff/darren-de-zeeuw/\n",
    "\n",
    "### Dr. Katherine Garcia-Sage\n",
    "ORCiD: https://orcid.org/0000-0001-6398-8755\n",
    "\n",
    "NASA Staff Page: https://ccmc.gsfc.nasa.gov/staff/katherine-garcia-sage/\n",
    "\n",
    "Note: Each NASA staff page includes links to email addresses."
   ]
  },
  {
   "cell_type": "markdown",
   "id": "f16e704f",
   "metadata": {},
   "source": [
    "## Open-Source License\n",
    "CCMC's Kamodo is an official NASA open source software package. For more details, go here: https://github.com/nasa/Kamodo/blob/master/LICENSE"
   ]
  }
 ],
 "metadata": {
  "kernelspec": {
   "display_name": "Python 3 (ipykernel)",
   "language": "python",
   "name": "python3"
  },
  "language_info": {
   "codemirror_mode": {
    "name": "ipython",
    "version": 3
   },
   "file_extension": ".py",
   "mimetype": "text/x-python",
   "name": "python",
   "nbconvert_exporter": "python",
   "pygments_lexer": "ipython3",
   "version": "3.7.16"
  }
 },
 "nbformat": 4,
 "nbformat_minor": 5
}
