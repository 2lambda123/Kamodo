{
 "cells": [
  {
   "cell_type": "markdown",
   "id": "e9980461",
   "metadata": {},
   "source": [
    "# Demo notebook for Kamodo Flythrough Input/Output functions\n",
    "The RealFlight function flies a real satellite trajectory through the chosen model data.\n",
    "You may run the notebook as is if you have the sample data file, but you must\n",
    "change the 'output_name' variable in block 1 to have the correct file path. This notebook also demonstrates how to functionalize the data returned from a file created by any of the Kamodo Flythrough functions."
   ]
  },
  {
   "cell_type": "code",
   "execution_count": null,
   "id": "affecting-electronics",
   "metadata": {},
   "outputs": [],
   "source": [
    "# Retrieve data from a file\n",
    "from kamodo_ccmc.flythrough import wrapper_output as WO\n",
    "output_name = 'C:/Users/rringuet/Kamodo_env/FakeFlightExample_TIEGCM.csv' \n",
    "results = WO.SF_read(output_name)\n",
    "# Open plots in separate internet browser window for interactivity. Nothing will open here."
   ]
  },
  {
   "cell_type": "code",
   "execution_count": null,
   "id": "informed-biology",
   "metadata": {},
   "outputs": [],
   "source": [
    "# The returned object is a nested dictionary of arrays.\n",
    "results"
   ]
  },
  {
   "cell_type": "code",
   "execution_count": null,
   "id": "49526d85",
   "metadata": {},
   "outputs": [],
   "source": [
    "help(WO.Functionalize_SFResults)"
   ]
  },
  {
   "cell_type": "code",
   "execution_count": null,
   "id": "5719fef2",
   "metadata": {},
   "outputs": [],
   "source": [
    "# This block shows how to functionalize the variable data in the flythrough results using a flythrough feature.\n",
    "# This command has been slightly simplified as compared to the version demonstrated in the video tutorial. The\n",
    "#   result is identical.\n",
    "kamodo_object = WO.Functionalize_SFResults(results['metadata']['model_used'],results) \n",
    "kamodo_object"
   ]
  },
  {
   "cell_type": "code",
   "execution_count": null,
   "id": "355014e5",
   "metadata": {},
   "outputs": [],
   "source": [
    "# Plot! Note the plot is interactive. \n",
    "kamodo_object.plot('rho')  "
   ]
  },
  {
   "cell_type": "code",
   "execution_count": null,
   "id": "8136ed90",
   "metadata": {},
   "outputs": [],
   "source": [
    "# Demonstrate unit conversion.\n",
    "# Convert the velocity components to cm/s and include in kamodo_object.\n",
    "kamodo_object['rho2[kg/m**3]'] = 'rho'\n",
    "# kamodo_object['v_ieast2[cm/s]'] = 'v_ieast'\n",
    "# kamodo_object['v_inorth2[cm/s]'] = 'v_inorth'\n",
    "# kamodo_object['v_iup2[cm/s]'] = 'v_iup'\n",
    "kamodo_object\n",
    "# Note the conversion factor is automatically calculated and included in the LaTeX representation."
   ]
  },
  {
   "cell_type": "code",
   "execution_count": null,
   "id": "0f42de0d",
   "metadata": {},
   "outputs": [],
   "source": [
    "# Plot the converted functions. Note the vertical axis and labels change. \n",
    "kamodo_object.plot('rho','rho2')  "
   ]
  },
  {
   "cell_type": "code",
   "execution_count": null,
   "id": "7b95774d",
   "metadata": {},
   "outputs": [],
   "source": [
    "help(WO.SF_write)"
   ]
  },
  {
   "cell_type": "code",
   "execution_count": null,
   "id": "2329e686",
   "metadata": {},
   "outputs": [],
   "source": [
    "# collect units and data into dictionaries, then write to a file\n",
    "filename = 'C:/Users/rringuet/Kamodo_env/RealFlightExample_GITM.txt'\n",
    "results_units = {key: results[key]['units'] for key in results.keys() if key != 'metadata'}\n",
    "results_data = {key: results[key]['data'] for key in results.keys() if key != 'metadata'}\n",
    "out_file = WO.SF_write(filename, results['metadata']['model_files'], results['metadata']['model_used'],\n",
    "         results_data, results_units, results['metadata']['coord_type']+'-'+results['metadata']['coord_grid'])"
   ]
  },
  {
   "cell_type": "code",
   "execution_count": null,
   "id": "8d645986",
   "metadata": {},
   "outputs": [],
   "source": []
  }
 ],
 "metadata": {
  "kernelspec": {
   "display_name": "Python 3 (ipykernel)",
   "language": "python",
   "name": "python3"
  },
  "language_info": {
   "codemirror_mode": {
    "name": "ipython",
    "version": 3
   },
   "file_extension": ".py",
   "mimetype": "text/x-python",
   "name": "python",
   "nbconvert_exporter": "python",
   "pygments_lexer": "ipython3",
   "version": "3.7.13"
  }
 },
 "nbformat": 4,
 "nbformat_minor": 5
}
