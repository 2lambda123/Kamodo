{
 "cells": [
  {
   "cell_type": "markdown",
   "metadata": {},
   "source": [
    "# Functionalizing a Modeled Dataset\n",
    "This section demonstrates the four syntax options for functionalizing a modeled dataset. For a list of model outputs currently supported by Kamodo, visit the 'Choosing a Model and Variable' section."
   ]
  },
  {
   "cell_type": "markdown",
   "metadata": {},
   "source": [
    "Important!\n",
    "- If you decide to add or remove data from the chosen file directory, you must remove the TIEGCM_list.txt and TIEGCM_times.txt files from the same directory and rerun the above command. The name changes with the model name (e.g. WACCMX_list.txt and WACCMX_times.txt for the WACCMX model, and so on)."
   ]
  },
  {
   "cell_type": "markdown",
   "metadata": {},
   "source": [
    "## Import the model-specific model reader object."
   ]
  },
  {
   "cell_type": "code",
   "execution_count": 1,
   "metadata": {},
   "outputs": [],
   "source": [
    "import kamodo_ccmc.flythrough.model_wrapper as MW\n",
    "file_dir = 'D:/GITM/jasoon_shim_071418_IT_1_tenth_oneday/'\n",
    "reader = MW.Model_Reader('GITM')"
   ]
  },
  {
   "cell_type": "code",
   "execution_count": 2,
   "metadata": {
    "scrolled": false
   },
   "outputs": [
    {
     "name": "stdout",
     "output_type": "stream",
     "text": [
      "Help on class MODEL in module kamodo_ccmc.readers.gitm_4Dcdf:\n",
      "\n",
      "class MODEL(kamodo.kamodo.Kamodo)\n",
      " |  MODEL(file_dir, variables_requested=[], filetime=False, verbose=False, gridded_int=True, printfiles=False, **kwargs)\n",
      " |  \n",
      " |  GITM model data reader.\n",
      " |  \n",
      " |  Inputs:\n",
      " |      file_dir: a string representing the file directory of the\n",
      " |          model output data.\n",
      " |          Note: This reader 'walks' the entire dataset in the directory.\n",
      " |      variables_requested = a list of variable name strings chosen from\n",
      " |          the model_varnames dictionary in this script, specifically the\n",
      " |          first item in the list associated with a given key.\n",
      " |          - If empty, the reader functionalizes all possible variables\n",
      " |              (default)\n",
      " |          - If 'all', the reader returns the model_varnames dictionary\n",
      " |              above for only the variables present in the given files.\n",
      " |      filetime = boolean (default = False)\n",
      " |          - If False, the script fully executes.\n",
      " |          - If True, the script only executes far enough to determine the\n",
      " |              time values associated with the chosen data.\n",
      " |      printfiles = boolean (default = False)\n",
      " |          - If False, the filenames associated with the data retrieved\n",
      " |              ARE NOT printed.\n",
      " |          - If True, the filenames associated with the data retrieved ARE\n",
      " |              printed.\n",
      " |      gridded_int = boolean (default = True)\n",
      " |          - If True, the variables chosen are functionalized in both the\n",
      " |              standard method and a gridded method.\n",
      " |          - If False, the variables chosen are functionalized in only the\n",
      " |              standard method.\n",
      " |      verbose = boolean (False)\n",
      " |          - If False, script execution and the underlying Kamodo\n",
      " |              execution is quiet except for specified messages.\n",
      " |          - If True, be prepared for a plethora of messages.\n",
      " |  All inputs are described in further detail in\n",
      " |      KamodoOnboardingInstructions.pdf.\n",
      " |  \n",
      " |  Returns: a kamodo object (see Kamodo core documentation) containing all\n",
      " |      requested variables in functionalized form.\n",
      " |  \n",
      " |  Method resolution order:\n",
      " |      MODEL\n",
      " |      kamodo.kamodo.Kamodo\n",
      " |      collections.UserDict\n",
      " |      collections.abc.MutableMapping\n",
      " |      collections.abc.Mapping\n",
      " |      collections.abc.Collection\n",
      " |      collections.abc.Sized\n",
      " |      collections.abc.Iterable\n",
      " |      collections.abc.Container\n",
      " |      builtins.object\n",
      " |  \n",
      " |  Methods defined here:\n",
      " |  \n",
      " |  __init__(self, file_dir, variables_requested=[], filetime=False, verbose=False, gridded_int=True, printfiles=False, **kwargs)\n",
      " |  \n",
      " |  register_variable(self, varname, gridded_int)\n",
      " |      Registers an interpolator with proper signature\n",
      " |  \n",
      " |  ----------------------------------------------------------------------\n",
      " |  Data and other attributes defined here:\n",
      " |  \n",
      " |  __abstractmethods__ = frozenset()\n",
      " |  \n",
      " |  ----------------------------------------------------------------------\n",
      " |  Methods inherited from kamodo.kamodo.Kamodo:\n",
      " |  \n",
      " |  __contains__(self, item)\n",
      " |  \n",
      " |  __delattr__(self, name)\n",
      " |      Implement delattr(self, name).\n",
      " |  \n",
      " |  __delitem__(self, key)\n",
      " |  \n",
      " |  __getattr__(self, name)\n",
      " |      Retrieves a given function as an attribute.\n",
      " |      \n",
      " |      **input** - **name** of function to retrieve\n",
      " |      \n",
      " |      **returns** the associated function\n",
      " |      \n",
      " |      Usage:\n",
      " |      \n",
      " |      ```py\n",
      " |      k = Kamodo(f='x^2-x-1')\n",
      " |      k.f\n",
      " |      ```\n",
      " |      The above renders as follows in a jupyter notebook\n",
      " |      \n",
      " |      $f{\\left(x \\right)} = x^{2} - x - 1$\n",
      " |  \n",
      " |  __getitem__(self, key)\n",
      " |      Given a symbol string, retrieves the corresponding function.\n",
      " |      \n",
      " |      input: **key** - string or function symbol\n",
      " |      \n",
      " |      \n",
      " |      ** returns**: the associated function\n",
      " |      \n",
      " |      ** usage **:\n",
      " |      \n",
      " |      Rretrieval by function name:\n",
      " |      \n",
      " |      ```python\n",
      " |          kobj['f'] = 'x^2-x-1'\n",
      " |          f = kobj['f']\n",
      " |          f(3) # returns 5\n",
      " |      ```\n",
      " |      \n",
      " |      It is also possible to retreive by function symbol:\n",
      " |      \n",
      " |      ```python\n",
      " |          from kamodo import sympify\n",
      " |          fsymbol = sympify('f') # converts str to symbol\n",
      " |      \n",
      " |          kobj['f'] = 'x^2-x-1'\n",
      " |          f = kobj[fsymbol]\n",
      " |          f(3) # returns 5\n",
      " |      ```\n",
      " |  \n",
      " |  __setitem__(self, sym_name, input_expr)\n",
      " |      Assigns a function or expression to a new symbol, performing\n",
      " |      automatic function composition and inserting unit conversions where appropriate.\n",
      " |      \n",
      " |      * ** sym_name ** - function symbol to associate with right-hand-side in one of the following formats:\n",
      " |          - f - a lone fuction symbol (alphabetic argument ordering)\n",
      " |          - f(z,x,y) - explicit argument ordering\n",
      " |          - f[kg] - output unit assignment\n",
      " |          - f(x[cm])[kg] - output and input unit assignment\n",
      " |      \n",
      " |      * ** input_expr ** - rhs string or kamodofied function, one of:\n",
      " |          * right-hand-side expression: python or latex str (e.g.`x^2-x-1`)\n",
      " |          * kamodofied function with appropriate .meta and .data attributers (see [@kamodofy](#kamodofy))\n",
      " |          * lambda function (having no meta or data attributes)\n",
      " |      \n",
      " |      Raises:\n",
      " |          - NameError when left-hand-side units incompatible with right-hand-side expression\n",
      " |      \n",
      " |      returns: None\n",
      " |      \n",
      " |      usage:\n",
      " |      \n",
      " |      Setting left-hand-side units will automatically trigger unit conversion\n",
      " |      \n",
      " |      ```py\n",
      " |      kobj = Kamodo()\n",
      " |      kobj['radius[m]'] = 'r'\n",
      " |      kobj['area[cm^2]'] = 'pi * radius^2'\n",
      " |      kobj\n",
      " |      ```\n",
      " |      \n",
      " |      The above `kobj` will render in a Jupyter notebook like this:\n",
      " |      \n",
      " |      $$\\operatorname{radius}{\\left(r \\right)}[m] = r$$\n",
      " |      \n",
      " |      $$\\operatorname{area}{\\left(r \\right)}[cm^{2}] = 10000 \\pi \\operatorname{radius}^{2}{\\left(r \\right)}$$\n",
      " |      \n",
      " |      Kamodo will raise an error if left-hand-side units are incompatible with the right-hand-side expression\n",
      " |      \n",
      " |      ```py\n",
      " |      kobj = Kamodo()\n",
      " |      kobj['area[cm^2]'] = 'x^2' # area has units of cm^2\n",
      " |      try:\n",
      " |          kobj['g(x)[kg]'] = 'area' # mass not compatible with square length\n",
      " |      except NameError as m:\n",
      " |          print(m)\n",
      " |      ```\n",
      " |      \n",
      " |      output:\n",
      " |      \n",
      " |      $$\\text{cannot convert area(x) [centimeter**2] length**2 to g(x)[kilogram] mass}$$\n",
      " |  \n",
      " |  check_or_replace_symbol(self, symbol, free_symbols, rhs_expr=None)\n",
      " |      Rules of replacement:\n",
      " |  \n",
      " |  detail(self)\n",
      " |      Constructs a pandas dataframe from signatures\n",
      " |      \n",
      " |      ** inputs ** - N/A\n",
      " |      \n",
      " |      ** returns ** - pandas dataframe\n",
      " |      \n",
      " |      usage:\n",
      " |      \n",
      " |      ```python\n",
      " |      k = Kamodo('rho(x[cm])[g/cm^3]=x^2', g = 'x+y')\n",
      " |      k.detail()\n",
      " |      ```\n",
      " |      outputs:\n",
      " |      \n",
      " |      \n",
      " |      <table border=\"1\" class=\"dataframe\">  <thead>    <tr style=\"text-align: right;\">      <th></th>      <th>symbol</th>      <th>units</th>      <th>lhs</th>      <th>rhs</th>      <th>arg_units</th>    </tr>  </thead>  <tbody>    <tr>      <th>rho</th>      <td>rho(x)</td>      <td>g/cm**3</td>      <td>rho(x)</td>      <td>x**2</td>      <td>{'x': 'cm'}</td>    </tr>    <tr>      <th>g</th>      <td>g(x, y)</td>      <td></td>      <td>g</td>      <td>x + y</td>      <td>{}</td>    </tr>  </tbody></table>\n",
      " |  \n",
      " |  evaluate(self, variable, *args, **kwargs)\n",
      " |      Evaluate a given function variable using kwargs.\n",
      " |      \n",
      " |      If the variable is not present, try to parse it as an equation and evaluate the expression.\n",
      " |      \n",
      " |      ** inputs **:\n",
      " |      \n",
      " |      * variable - str:\n",
      " |          * function string name to evaluate\n",
      " |          * semicolon delmitted list of equations, the last of which will be evaluated\n",
      " |      * args - not presently used\n",
      " |      * kwargs - key-word arguments passed to function (required)\n",
      " |      \n",
      " |      ** returns **: dictionary of input kwargs and output {variable: self.variable(**kwargs)}\n",
      " |      \n",
      " |      ** usage **:\n",
      " |      \n",
      " |      ```py\n",
      " |      k = Kamodo(f='x+y')\n",
      " |      \n",
      " |      result = k.evaluate('f', x=3, y=4)['f']\n",
      " |      assert k.f(3,4) == result\n",
      " |      assert k.evaluate('g=f+3', x=3, y=4)['g'] == result+3\n",
      " |      assert k.evaluate('g=f+3;h=g+2', x=3, y=4)['h'] == result+3+2\n",
      " |      ```\n",
      " |  \n",
      " |  figure(self, variable, indexing='ij', **kwargs)\n",
      " |      Generates a plotly figure for a single variable and keyword arguments\n",
      " |      \n",
      " |      ** inputs **:\n",
      " |      \n",
      " |      * variable: the name of a previously registered function\n",
      " |      * kwargs: {arg: values} to pass to registered function\n",
      " |      * indexing: determines order by which 2d matrices are given (affects contour_plot, carpet_plot, and plane)\n",
      " |      \n",
      " |      ** returns **: plotly [figure](https://plotly.com/python/figure-structure/) (dict-like)\n",
      " |      \n",
      " |      raises: SyntaxError if variable not found\n",
      " |  \n",
      " |  func_latex(self, key, mode='equation')\n",
      " |      get a latex string for a given function key\n",
      " |  \n",
      " |  parse_key(self, sym_name)\n",
      " |      parses the symbol name\n",
      " |      sym_name must be a string\n",
      " |      returns: symbol, args, unit_dict, lhs_expr\n",
      " |  \n",
      " |  parse_value(self, rhs_expr, local_dict)\n",
      " |      returns an expression from string\n",
      " |  \n",
      " |  plot(self, *variables, plot_partial={}, **figures)\n",
      " |      Generates a plotly figure from multiple variables and keyword arguments\n",
      " |      \n",
      " |      ** inputs **:\n",
      " |      \n",
      " |      * variable: the name of a previously registered function\n",
      " |      * plot_partial: dict(dict) of {varname: {arg: values}} partial arguments to fix\n",
      " |      * figures: dict {variable: {arg: values}} to pass to registered function\n",
      " |      \n",
      " |      ** returns **: plotly [figure](https://plotly.com/python/figure-structure/) (dict-like).\n",
      " |      When run in a jupyter notebook, an inline plotly figure will be displayed.\n",
      " |      \n",
      " |      ** raises **:\n",
      " |      \n",
      " |      * TypeError when required function arguments are not specified\n",
      " |      * KeyError when no plotting function can be associated with input/output shapes\n",
      " |      \n",
      " |      ** usage **:\n",
      " |      \n",
      " |      ```python\n",
      " |      k = Kamodo(\n",
      " |          f=lambda x=np.array([2,3,4]): x**2-x-1,\n",
      " |          g='sin(x)')\n",
      " |      \n",
      " |      k.plot('f') # plots f using default arguments for f\n",
      " |      \n",
      " |      k.plot(f={x:[3,4,5]}, g={x{-2, 3, 4}}) # plots f at x=[3,4,5] and g at [-2,3,4]\n",
      " |      ```\n",
      " |      \n",
      " |      Use the `plot_partial` keyword to lower the dimensionality of a function by fixing some of its variables:\n",
      " |      \n",
      " |      ```python\n",
      " |      from kamodo import kamodofy, gridify, Kamodo\n",
      " |      from scipy.interpolate import RegularGridInterpolator\n",
      " |      import numpy as np\n",
      " |      \n",
      " |      # define sample coordinate and data arrays\n",
      " |      t, lon, lat, ht = np.linspace(0.,24.,10),\n",
      " |          np.linspace(0.,360.,20),\n",
      " |          np.linspace(-90.,90.,50),\n",
      " |          np.linspace(100.,10000.,250)\n",
      " |      \n",
      " |      variable = np.reshape(\n",
      " |          np.linspace(0., np.pi, 2500000), # data\n",
      " |          (10, 20, 50, 250)) # match coordinate arrays\n",
      " |      \n",
      " |      # define and kamodofy interpolating function\n",
      " |      rgi = RegularGridInterpolator((t, lon, lat, ht), variable, bounds_error = False, fill_value=np.NaN)\n",
      " |      \n",
      " |      @kamodofy(units='m/s', data=variable)\n",
      " |      def interpolator(xvec):\n",
      " |          return rgi(xvec)\n",
      " |      \n",
      " |      #gridify same function\n",
      " |      interpolator_grid = kamodofy(gridify(interpolator, time = t, lon=lon, lat = lat,  height = ht), units='m/s', data=variable, arg_units={'time':'hr','lon':'deg','lat':'deg','height':'km'})\n",
      " |      \n",
      " |      #register in a new kamodo object\n",
      " |      kamodo_object = Kamodo()\n",
      " |      kamodo_object['v'] = interpolator\n",
      " |      kamodo_object['v_ijkl'] = interpolator_grid # 4 dimensional\n",
      " |      kamodo_object\n",
      " |      \n",
      " |      kamodo_object.plot(v_ijkl = {'time':10.,'lat':90.})\n",
      " |      ```\n",
      " |      \n",
      " |      The above line raises an Error: not supported: out_dim ('N', 'M'), arg_dims [(1,), ('N',), (1,), ('M',)]\n",
      " |      \n",
      " |      Since there is no straight-foward way to plot a high-dimensional function, we can use `plot_partial` instead\n",
      " |      to get a lower-dimensional slice instead: \n",
      " |      \n",
      " |      ```python\n",
      " |      kamodo_object.plot('v_ijkl', plot_partial={'v_ijkl': {'lon':10.,'lat':90.}})\n",
      " |      ```\n",
      " |      \n",
      " |      See also [@partial](#partial) decorator to fix a function's arguments at registration time.\n",
      " |  \n",
      " |  register_function(self, func, lhs_symbol, lhs_expr, lhs_units)\n",
      " |  \n",
      " |  register_rpc_field(self, key)\n",
      " |  \n",
      " |  register_signature(self, symbol, units, lhs_expr, rhs_expr, arg_units)\n",
      " |  \n",
      " |  register_symbol(self, symbol)\n",
      " |  \n",
      " |  serve(self, host='localhost', port='60000', certfile=None, keyfile=None)\n",
      " |      Serve registered functions using Kamodo-RPC spec\n",
      " |      \n",
      " |      Uses asyncio and capnp proto \n",
      " |      \n",
      " |      ** inputs **:\n",
      " |      \n",
      " |      * host - str: localhost, ipv4 or ipv6 address (localhost by default)\n",
      " |      * port - str: port to serve from\n",
      " |      * certfile - certficicate to authenticate clients\n",
      " |      * keyfile - private key file to authenticate\n",
      " |      \n",
      " |      ** returns **: None\n",
      " |      \n",
      " |      ** usage **:\n",
      " |      \n",
      " |      ```py\n",
      " |      k = Kamodo(f='x+y')\n",
      " |      \n",
      " |      k.serve() # start rpc server\n",
      " |      ```\n",
      " |      \n",
      " |      see kamodo/rpc/kamodo.capnp\n",
      " |  \n",
      " |  simulate(self, **kwargs)\n",
      " |  \n",
      " |  solve(self, fprime, interval, y0, dense_output=True, events=None, vectorized=True)\n",
      " |  \n",
      " |  to_latex(self, keys=None, mode='equation')\n",
      " |      Generate list of LaTeX-formated formulas\n",
      " |      \n",
      " |      ** inputs **:\n",
      " |      \n",
      " |      * keys - (optional) list(str) of registered functions to generate LaTeX from\n",
      " |      \n",
      " |      * mode - (optional) string determines to wrap formulas\n",
      " |          * 'equation' (default) wraps formulas in `begin{equation} ... end{equation}`\n",
      " |      \n",
      " |          * 'inline': wraps formulas in dollar signs\n",
      " |      \n",
      " |      ** returns **: LaTeX-formated string\n",
      " |      \n",
      " |      Note: This function does not need to be called directly for rendering in jupyter\n",
      " |      because the _repr_latex_ method is automatically attached.\n",
      " |  \n",
      " |  to_rpc_meta(self, key)\n",
      " |      create rpc metadata\n",
      " |  \n",
      " |  update_unit_registry(self, func, arg_units)\n",
      " |      Inserts unit functions into registry\n",
      " |  \n",
      " |  validate_function(self, lhs_expr, rhs_expr)\n",
      " |  \n",
      " |  vectorize_function(self, symbol, rhs_expr, composition)\n",
      " |  \n",
      " |  ----------------------------------------------------------------------\n",
      " |  Methods inherited from collections.UserDict:\n",
      " |  \n",
      " |  __copy__(self)\n",
      " |  \n",
      " |  __iter__(self)\n",
      " |  \n",
      " |  __len__(self)\n",
      " |  \n",
      " |  __repr__(self)\n",
      " |      Return repr(self).\n",
      " |  \n",
      " |  copy(self)\n",
      " |  \n",
      " |  ----------------------------------------------------------------------\n",
      " |  Class methods inherited from collections.UserDict:\n",
      " |  \n",
      " |  fromkeys(iterable, value=None) from abc.ABCMeta\n",
      " |  \n",
      " |  ----------------------------------------------------------------------\n",
      " |  Data descriptors inherited from collections.UserDict:\n",
      " |  \n",
      " |  __dict__\n",
      " |      dictionary for instance variables (if defined)\n",
      " |  \n",
      " |  __weakref__\n",
      " |      list of weak references to the object (if defined)\n",
      " |  \n",
      " |  ----------------------------------------------------------------------\n",
      " |  Methods inherited from collections.abc.MutableMapping:\n",
      " |  \n",
      " |  clear(self)\n",
      " |      D.clear() -> None.  Remove all items from D.\n",
      " |  \n",
      " |  pop(self, key, default=<object object at 0x0000020280A09120>)\n",
      " |      D.pop(k[,d]) -> v, remove specified key and return the corresponding value.\n",
      " |      If key is not found, d is returned if given, otherwise KeyError is raised.\n",
      " |  \n",
      " |  popitem(self)\n",
      " |      D.popitem() -> (k, v), remove and return some (key, value) pair\n",
      " |      as a 2-tuple; but raise KeyError if D is empty.\n",
      " |  \n",
      " |  setdefault(self, key, default=None)\n",
      " |      D.setdefault(k[,d]) -> D.get(k,d), also set D[k]=d if k not in D\n",
      " |  \n",
      " |  update(*args, **kwds)\n",
      " |      D.update([E, ]**F) -> None.  Update D from mapping/iterable E and F.\n",
      " |      If E present and has a .keys() method, does:     for k in E: D[k] = E[k]\n",
      " |      If E present and lacks .keys() method, does:     for (k, v) in E: D[k] = v\n",
      " |      In either case, this is followed by: for k, v in F.items(): D[k] = v\n",
      " |  \n",
      " |  ----------------------------------------------------------------------\n",
      " |  Methods inherited from collections.abc.Mapping:\n",
      " |  \n",
      " |  __eq__(self, other)\n",
      " |      Return self==value.\n",
      " |  \n",
      " |  get(self, key, default=None)\n",
      " |      D.get(k[,d]) -> D[k] if k in D, else d.  d defaults to None.\n",
      " |  \n",
      " |  items(self)\n",
      " |      D.items() -> a set-like object providing a view on D's items\n",
      " |  \n",
      " |  keys(self)\n",
      " |      D.keys() -> a set-like object providing a view on D's keys\n",
      " |  \n",
      " |  values(self)\n",
      " |      D.values() -> an object providing a view on D's values\n",
      " |  \n",
      " |  ----------------------------------------------------------------------\n",
      " |  Data and other attributes inherited from collections.abc.Mapping:\n",
      " |  \n",
      " |  __hash__ = None\n",
      " |  \n",
      " |  __reversed__ = None\n",
      " |  \n",
      " |  ----------------------------------------------------------------------\n",
      " |  Class methods inherited from collections.abc.Collection:\n",
      " |  \n",
      " |  __subclasshook__(C) from abc.ABCMeta\n",
      " |      Abstract classes can override this to customize issubclass().\n",
      " |      \n",
      " |      This is invoked early on by abc.ABCMeta.__subclasscheck__().\n",
      " |      It should return True, False or NotImplemented.  If it returns\n",
      " |      NotImplemented, the normal algorithm is used.  Otherwise, it\n",
      " |      overrides the normal algorithm (and the outcome is cached).\n",
      "\n"
     ]
    }
   ],
   "source": [
    "# The documentation for all the readers is mostly the same.\n",
    "# Some have unique components based on the custom logic required in those cases.\n",
    "help(reader)"
   ]
  },
  {
   "cell_type": "markdown",
   "metadata": {},
   "source": [
    "## Default functionalization method"
   ]
  },
  {
   "cell_type": "code",
   "execution_count": 3,
   "metadata": {
    "scrolled": false
   },
   "outputs": [
    {
     "data": {
      "text/latex": [
       "\\begin{equation}\\operatorname{SZA}{\\left(\\vec{r}_{GDZsph3D} \\right)}[radians] = \\lambda{\\left(\\vec{r}_{GDZsph3D} \\right)}\\end{equation} \\begin{equation}\\operatorname{SZA_{ijk}}(time[hr],lon[deg],lat[deg])[radians] = \\lambda{\\left(time,lon,lat \\right)}\\end{equation} \\begin{equation}\\operatorname{SLT}{\\left(\\vec{r}_{GDZsph3D} \\right)}[hr] = \\lambda{\\left(\\vec{r}_{GDZsph3D} \\right)}\\end{equation} \\begin{equation}\\operatorname{SLT_{ijk}}(time[hr],lon[deg],lat[deg])[hr] = \\lambda{\\left(time,lon,lat \\right)}\\end{equation} \\begin{equation}\\operatorname{TEC}{\\left(\\vec{r}_{GDZsph3D} \\right)}[\\frac{10000000000000000}{m^{2}}] = \\lambda{\\left(\\vec{r}_{GDZsph3D} \\right)}\\end{equation} \\begin{equation}\\operatorname{TEC_{ijk}}(time[hr],lon[deg],lat[deg])[\\frac{10000000000000000}{m^{2}}] = \\lambda{\\left(time,lon,lat \\right)}\\end{equation} \\begin{equation}\\rho_{N2}{\\left(\\vec{r}_{GDZsph4D} \\right)}[\\frac{kg}{m^{3}}] = \\lambda{\\left(\\vec{r}_{GDZsph4D} \\right)}\\end{equation} \\begin{equation}\\rho_{N2 ijk}(time[hr],lon[deg],lat[deg],height[km])[\\frac{kg}{m^{3}}] = \\lambda{\\left(time,lon,lat,height \\right)}\\end{equation} \\begin{equation}\\rho_{N2+}{\\left(\\vec{r}_{GDZsph4D} \\right)}[\\frac{kg}{m^{3}}] = \\lambda{\\left(\\vec{r}_{GDZsph4D} \\right)}\\end{equation} \\begin{equation}\\rho_{N2+ ijk}(time[hr],lon[deg],lat[deg],height[km])[\\frac{kg}{m^{3}}] = \\lambda{\\left(time,lon,lat,height \\right)}\\end{equation} \\begin{equation}\\rho_{NO}{\\left(\\vec{r}_{GDZsph4D} \\right)}[\\frac{kg}{m^{3}}] = \\lambda{\\left(\\vec{r}_{GDZsph4D} \\right)}\\end{equation} \\begin{equation}\\rho_{NO ijk}(time[hr],lon[deg],lat[deg],height[km])[\\frac{kg}{m^{3}}] = \\lambda{\\left(time,lon,lat,height \\right)}\\end{equation} \\begin{equation}\\rho_{NO+}{\\left(\\vec{r}_{GDZsph4D} \\right)}[\\frac{kg}{m^{3}}] = \\lambda{\\left(\\vec{r}_{GDZsph4D} \\right)}\\end{equation} \\begin{equation}\\rho_{NO+ ijk}(time[hr],lon[deg],lat[deg],height[km])[\\frac{kg}{m^{3}}] = \\lambda{\\left(time,lon,lat,height \\right)}\\end{equation} \\begin{equation}\\rho_{O2}{\\left(\\vec{r}_{GDZsph4D} \\right)}[\\frac{kg}{m^{3}}] = \\lambda{\\left(\\vec{r}_{GDZsph4D} \\right)}\\end{equation} \\begin{equation}\\rho_{O2 ijk}(time[hr],lon[deg],lat[deg],height[km])[\\frac{kg}{m^{3}}] = \\lambda{\\left(time,lon,lat,height \\right)}\\end{equation} \\begin{equation}\\rho_{O2+}{\\left(\\vec{r}_{GDZsph4D} \\right)}[\\frac{kg}{m^{3}}] = \\lambda{\\left(\\vec{r}_{GDZsph4D} \\right)}\\end{equation} \\begin{equation}\\rho_{O2+ ijk}(time[hr],lon[deg],lat[deg],height[km])[\\frac{kg}{m^{3}}] = \\lambda{\\left(time,lon,lat,height \\right)}\\end{equation} \\begin{equation}\\rho_{O3P}{\\left(\\vec{r}_{GDZsph4D} \\right)}[\\frac{kg}{m^{3}}] = \\lambda{\\left(\\vec{r}_{GDZsph4D} \\right)}\\end{equation} \\begin{equation}\\rho_{O3P ijk}(time[hr],lon[deg],lat[deg],height[km])[\\frac{kg}{m^{3}}] = \\lambda{\\left(time,lon,lat,height \\right)}\\end{equation} \\begin{equation}\\rho_{O+4S4P}{\\left(\\vec{r}_{GDZsph4D} \\right)}[\\frac{kg}{m^{3}}] = \\lambda{\\left(\\vec{r}_{GDZsph4D} \\right)}\\end{equation} \\begin{equation}\\rho_{O+4S4P ijk}(time[hr],lon[deg],lat[deg],height[km])[\\frac{kg}{m^{3}}] = \\lambda{\\left(time,lon,lat,height \\right)}\\end{equation} \\begin{equation}\\rho_{n}{\\left(\\vec{r}_{GDZsph4D} \\right)}[\\frac{kg}{m^{3}}] = \\lambda{\\left(\\vec{r}_{GDZsph4D} \\right)}\\end{equation} \\begin{equation}\\rho_{n ijk}(time[hr],lon[deg],lat[deg],height[km])[\\frac{kg}{m^{3}}] = \\lambda{\\left(time,lon,lat,height \\right)}\\end{equation} \\begin{equation}\\operatorname{T_{n}}{\\left(\\vec{r}_{GDZsph4D} \\right)}[K] = \\lambda{\\left(\\vec{r}_{GDZsph4D} \\right)}\\end{equation} \\begin{equation}\\operatorname{T_{n ijk}}(time[hr],lon[deg],lat[deg],height[km])[K] = \\lambda{\\left(time,lon,lat,height \\right)}\\end{equation} \\begin{equation}\\operatorname{v_{ieast}}{\\left(\\vec{r}_{GDZsph4D} \\right)}[m / s] = \\lambda{\\left(\\vec{r}_{GDZsph4D} \\right)}\\end{equation} \\begin{equation}\\operatorname{v_{ieast ijk}}(time[hr],lon[deg],lat[deg],height[km])[m / s] = \\lambda{\\left(time,lon,lat,height \\right)}\\end{equation} \\begin{equation}\\operatorname{v_{inorth}}{\\left(\\vec{r}_{GDZsph4D} \\right)}[m / s] = \\lambda{\\left(\\vec{r}_{GDZsph4D} \\right)}\\end{equation} \\begin{equation}\\operatorname{v_{inorth ijk}}(time[hr],lon[deg],lat[deg],height[km])[m / s] = \\lambda{\\left(time,lon,lat,height \\right)}\\end{equation} \\begin{equation}\\operatorname{v_{iup}}{\\left(\\vec{r}_{GDZsph4D} \\right)}[m / s] = \\lambda{\\left(\\vec{r}_{GDZsph4D} \\right)}\\end{equation} \\begin{equation}\\operatorname{v_{iup ijk}}(time[hr],lon[deg],lat[deg],height[km])[m / s] = \\lambda{\\left(time,lon,lat,height \\right)}\\end{equation} \\begin{equation}\\operatorname{v_{neast}}{\\left(\\vec{r}_{GDZsph4D} \\right)}[m / s] = \\lambda{\\left(\\vec{r}_{GDZsph4D} \\right)}\\end{equation} \\begin{equation}\\operatorname{v_{neast ijk}}(time[hr],lon[deg],lat[deg],height[km])[m / s] = \\lambda{\\left(time,lon,lat,height \\right)}\\end{equation} \\begin{equation}\\operatorname{v_{nnorth}}{\\left(\\vec{r}_{GDZsph4D} \\right)}[m / s] = \\lambda{\\left(\\vec{r}_{GDZsph4D} \\right)}\\end{equation} \\begin{equation}\\operatorname{v_{nnorth ijk}}(time[hr],lon[deg],lat[deg],height[km])[m / s] = \\lambda{\\left(time,lon,lat,height \\right)}\\end{equation} \\begin{equation}\\operatorname{v_{nup}}{\\left(\\vec{r}_{GDZsph4D} \\right)}[m / s] = \\lambda{\\left(\\vec{r}_{GDZsph4D} \\right)}\\end{equation} \\begin{equation}\\operatorname{v_{nup ijk}}(time[hr],lon[deg],lat[deg],height[km])[m / s] = \\lambda{\\left(time,lon,lat,height \\right)}\\end{equation}"
      ],
      "text/plain": [
       "{SZA(rvec_GDZsph3D): <function time_interp.<locals>.interp at 0x000002028E032318>, SZA: <function time_interp.<locals>.interp at 0x000002028E032318>, SZA_ijk(time, lon, lat): <function gridify.<locals>.decorator_gridify.<locals>.wrapped at 0x000002028E032708>, SZA_ijk: <function gridify.<locals>.decorator_gridify.<locals>.wrapped at 0x000002028E032708>, SLT(rvec_GDZsph3D): <function time_interp.<locals>.interp at 0x0000020285BD28B8>, SLT: <function time_interp.<locals>.interp at 0x0000020285BD28B8>, SLT_ijk(time, lon, lat): <function gridify.<locals>.decorator_gridify.<locals>.wrapped at 0x00000202872839D8>, SLT_ijk: <function gridify.<locals>.decorator_gridify.<locals>.wrapped at 0x00000202872839D8>, TEC(rvec_GDZsph3D): <function time_interp.<locals>.interp at 0x000002028E1E5318>, TEC: <function time_interp.<locals>.interp at 0x000002028E1E5318>, TEC_ijk(time, lon, lat): <function gridify.<locals>.decorator_gridify.<locals>.wrapped at 0x000002028E1E5558>, TEC_ijk: <function gridify.<locals>.decorator_gridify.<locals>.wrapped at 0x000002028E1E5558>, rho_N2(rvec_GDZsph4D): <function time_interp.<locals>.interp at 0x000002028E1E5F78>, rho_N2: <function time_interp.<locals>.interp at 0x000002028E1E5F78>, rho_N2_ijk(time, lon, lat, height): <function gridify.<locals>.decorator_gridify.<locals>.wrapped at 0x000002028E1B7288>, rho_N2_ijk: <function gridify.<locals>.decorator_gridify.<locals>.wrapped at 0x000002028E1B7288>, rho_N2plus(rvec_GDZsph4D): <function time_interp.<locals>.interp at 0x000002028E1B7DC8>, rho_N2plus: <function time_interp.<locals>.interp at 0x000002028E1B7DC8>, rho_N2plus_ijk(time, lon, lat, height): <function gridify.<locals>.decorator_gridify.<locals>.wrapped at 0x000002028E1F1048>, rho_N2plus_ijk: <function gridify.<locals>.decorator_gridify.<locals>.wrapped at 0x000002028E1F1048>, rho_NO(rvec_GDZsph4D): <function time_interp.<locals>.interp at 0x000002028E1F19D8>, rho_NO: <function time_interp.<locals>.interp at 0x000002028E1F19D8>, rho_NO_ijk(time, lon, lat, height): <function gridify.<locals>.decorator_gridify.<locals>.wrapped at 0x000002028E1F1C18>, rho_NO_ijk: <function gridify.<locals>.decorator_gridify.<locals>.wrapped at 0x000002028E1F1C18>, rho_NOplus(rvec_GDZsph4D): <function time_interp.<locals>.interp at 0x000002028E04D678>, rho_NOplus: <function time_interp.<locals>.interp at 0x000002028E04D678>, rho_NOplus_ijk(time, lon, lat, height): <function gridify.<locals>.decorator_gridify.<locals>.wrapped at 0x000002028E04D828>, rho_NOplus_ijk: <function gridify.<locals>.decorator_gridify.<locals>.wrapped at 0x000002028E04D828>, rho_O2(rvec_GDZsph4D): <function time_interp.<locals>.interp at 0x000002028E1EC318>, rho_O2: <function time_interp.<locals>.interp at 0x000002028E1EC318>, rho_O2_ijk(time, lon, lat, height): <function gridify.<locals>.decorator_gridify.<locals>.wrapped at 0x000002028E1EC558>, rho_O2_ijk: <function gridify.<locals>.decorator_gridify.<locals>.wrapped at 0x000002028E1EC558>, rho_O2plus(rvec_GDZsph4D): <function time_interp.<locals>.interp at 0x000002028E1ECF78>, rho_O2plus: <function time_interp.<locals>.interp at 0x000002028E1ECF78>, rho_O2plus_ijk(time, lon, lat, height): <function gridify.<locals>.decorator_gridify.<locals>.wrapped at 0x000002028E1EB1F8>, rho_O2plus_ijk: <function gridify.<locals>.decorator_gridify.<locals>.wrapped at 0x000002028E1EB1F8>, rho_O3P(rvec_GDZsph4D): <function time_interp.<locals>.interp at 0x000002028E1EBC18>, rho_O3P: <function time_interp.<locals>.interp at 0x000002028E1EBC18>, rho_O3P_ijk(time, lon, lat, height): <function gridify.<locals>.decorator_gridify.<locals>.wrapped at 0x000002028E1EBDC8>, rho_O3P_ijk: <function gridify.<locals>.decorator_gridify.<locals>.wrapped at 0x000002028E1EBDC8>, rho_Oplus4S4P(rvec_GDZsph4D): <function time_interp.<locals>.interp at 0x000002028E2058B8>, rho_Oplus4S4P: <function time_interp.<locals>.interp at 0x000002028E2058B8>, rho_Oplus4S4P_ijk(time, lon, lat, height): <function gridify.<locals>.decorator_gridify.<locals>.wrapped at 0x000002028E205A68>, rho_Oplus4S4P_ijk: <function gridify.<locals>.decorator_gridify.<locals>.wrapped at 0x000002028E205A68>, rho_n(rvec_GDZsph4D): <function time_interp.<locals>.interp at 0x000002028E206558>, rho_n: <function time_interp.<locals>.interp at 0x000002028E206558>, rho_n_ijk(time, lon, lat, height): <function gridify.<locals>.decorator_gridify.<locals>.wrapped at 0x000002028E206798>, rho_n_ijk: <function gridify.<locals>.decorator_gridify.<locals>.wrapped at 0x000002028E206798>, T_n(rvec_GDZsph4D): <function time_interp.<locals>.interp at 0x000002028E1D21F8>, T_n: <function time_interp.<locals>.interp at 0x000002028E1D21F8>, T_n_ijk(time, lon, lat, height): <function gridify.<locals>.decorator_gridify.<locals>.wrapped at 0x000002028E1D2438>, T_n_ijk: <function gridify.<locals>.decorator_gridify.<locals>.wrapped at 0x000002028E1D2438>, v_ieast(rvec_GDZsph4D): <function time_interp.<locals>.interp at 0x000002028E1D2E58>, v_ieast: <function time_interp.<locals>.interp at 0x000002028E1D2E58>, v_ieast_ijk(time, lon, lat, height): <function gridify.<locals>.decorator_gridify.<locals>.wrapped at 0x000002028E2251F8>, v_ieast_ijk: <function gridify.<locals>.decorator_gridify.<locals>.wrapped at 0x000002028E2251F8>, v_inorth(rvec_GDZsph4D): <function time_interp.<locals>.interp at 0x000002028E225AF8>, v_inorth: <function time_interp.<locals>.interp at 0x000002028E225AF8>, v_inorth_ijk(time, lon, lat, height): <function gridify.<locals>.decorator_gridify.<locals>.wrapped at 0x000002028E225CA8>, v_inorth_ijk: <function gridify.<locals>.decorator_gridify.<locals>.wrapped at 0x000002028E225CA8>, v_iup(rvec_GDZsph4D): <function time_interp.<locals>.interp at 0x000002028E22A798>, v_iup: <function time_interp.<locals>.interp at 0x000002028E22A798>, v_iup_ijk(time, lon, lat, height): <function gridify.<locals>.decorator_gridify.<locals>.wrapped at 0x000002028E22A948>, v_iup_ijk: <function gridify.<locals>.decorator_gridify.<locals>.wrapped at 0x000002028E22A948>, v_neast(rvec_GDZsph4D): <function time_interp.<locals>.interp at 0x000002028E221438>, v_neast: <function time_interp.<locals>.interp at 0x000002028E221438>, v_neast_ijk(time, lon, lat, height): <function gridify.<locals>.decorator_gridify.<locals>.wrapped at 0x000002028E221678>, v_neast_ijk: <function gridify.<locals>.decorator_gridify.<locals>.wrapped at 0x000002028E221678>, v_nnorth(rvec_GDZsph4D): <function time_interp.<locals>.interp at 0x000002028E22C0D8>, v_nnorth: <function time_interp.<locals>.interp at 0x000002028E22C0D8>, v_nnorth_ijk(time, lon, lat, height): <function gridify.<locals>.decorator_gridify.<locals>.wrapped at 0x000002028E22C318>, v_nnorth_ijk: <function gridify.<locals>.decorator_gridify.<locals>.wrapped at 0x000002028E22C318>, v_nup(rvec_GDZsph4D): <function time_interp.<locals>.interp at 0x000002028E22CD38>, v_nup: <function time_interp.<locals>.interp at 0x000002028E22CD38>, v_nup_ijk(time, lon, lat, height): <function gridify.<locals>.decorator_gridify.<locals>.wrapped at 0x000002028E246048>, v_nup_ijk: <function gridify.<locals>.decorator_gridify.<locals>.wrapped at 0x000002028E246048>}"
      ]
     },
     "execution_count": 3,
     "metadata": {},
     "output_type": "execute_result"
    }
   ],
   "source": [
    "# This default function call functionalizes all the variables in the data,\n",
    "# including gridded versions for visualization.\n",
    "# TIEGCM has a data type error due to a file creation error.\n",
    "kamodo_object_default = reader(file_dir)  # (gridded_int=True is default)\n",
    "kamodo_object_default"
   ]
  },
  {
   "cell_type": "markdown",
   "metadata": {},
   "source": [
    "## Functionalization method 1\n",
    "Functionalize all variables, excluding the gridded versions."
   ]
  },
  {
   "cell_type": "code",
   "execution_count": 4,
   "metadata": {},
   "outputs": [
    {
     "data": {
      "text/latex": [
       "\\begin{equation}\\operatorname{SZA}{\\left(\\vec{r}_{GDZsph3D} \\right)}[radians] = \\lambda{\\left(\\vec{r}_{GDZsph3D} \\right)}\\end{equation} \\begin{equation}\\operatorname{SLT}{\\left(\\vec{r}_{GDZsph3D} \\right)}[hr] = \\lambda{\\left(\\vec{r}_{GDZsph3D} \\right)}\\end{equation} \\begin{equation}\\operatorname{TEC}{\\left(\\vec{r}_{GDZsph3D} \\right)}[\\frac{10000000000000000}{m^{2}}] = \\lambda{\\left(\\vec{r}_{GDZsph3D} \\right)}\\end{equation} \\begin{equation}\\rho_{N2}{\\left(\\vec{r}_{GDZsph4D} \\right)}[\\frac{kg}{m^{3}}] = \\lambda{\\left(\\vec{r}_{GDZsph4D} \\right)}\\end{equation} \\begin{equation}\\rho_{N2+}{\\left(\\vec{r}_{GDZsph4D} \\right)}[\\frac{kg}{m^{3}}] = \\lambda{\\left(\\vec{r}_{GDZsph4D} \\right)}\\end{equation} \\begin{equation}\\rho_{NO}{\\left(\\vec{r}_{GDZsph4D} \\right)}[\\frac{kg}{m^{3}}] = \\lambda{\\left(\\vec{r}_{GDZsph4D} \\right)}\\end{equation} \\begin{equation}\\rho_{NO+}{\\left(\\vec{r}_{GDZsph4D} \\right)}[\\frac{kg}{m^{3}}] = \\lambda{\\left(\\vec{r}_{GDZsph4D} \\right)}\\end{equation} \\begin{equation}\\rho_{O2}{\\left(\\vec{r}_{GDZsph4D} \\right)}[\\frac{kg}{m^{3}}] = \\lambda{\\left(\\vec{r}_{GDZsph4D} \\right)}\\end{equation} \\begin{equation}\\rho_{O2+}{\\left(\\vec{r}_{GDZsph4D} \\right)}[\\frac{kg}{m^{3}}] = \\lambda{\\left(\\vec{r}_{GDZsph4D} \\right)}\\end{equation} \\begin{equation}\\rho_{O3P}{\\left(\\vec{r}_{GDZsph4D} \\right)}[\\frac{kg}{m^{3}}] = \\lambda{\\left(\\vec{r}_{GDZsph4D} \\right)}\\end{equation} \\begin{equation}\\rho_{O+4S4P}{\\left(\\vec{r}_{GDZsph4D} \\right)}[\\frac{kg}{m^{3}}] = \\lambda{\\left(\\vec{r}_{GDZsph4D} \\right)}\\end{equation} \\begin{equation}\\rho_{n}{\\left(\\vec{r}_{GDZsph4D} \\right)}[\\frac{kg}{m^{3}}] = \\lambda{\\left(\\vec{r}_{GDZsph4D} \\right)}\\end{equation} \\begin{equation}\\operatorname{T_{n}}{\\left(\\vec{r}_{GDZsph4D} \\right)}[K] = \\lambda{\\left(\\vec{r}_{GDZsph4D} \\right)}\\end{equation} \\begin{equation}\\operatorname{v_{ieast}}{\\left(\\vec{r}_{GDZsph4D} \\right)}[m / s] = \\lambda{\\left(\\vec{r}_{GDZsph4D} \\right)}\\end{equation} \\begin{equation}\\operatorname{v_{inorth}}{\\left(\\vec{r}_{GDZsph4D} \\right)}[m / s] = \\lambda{\\left(\\vec{r}_{GDZsph4D} \\right)}\\end{equation} \\begin{equation}\\operatorname{v_{iup}}{\\left(\\vec{r}_{GDZsph4D} \\right)}[m / s] = \\lambda{\\left(\\vec{r}_{GDZsph4D} \\right)}\\end{equation} \\begin{equation}\\operatorname{v_{neast}}{\\left(\\vec{r}_{GDZsph4D} \\right)}[m / s] = \\lambda{\\left(\\vec{r}_{GDZsph4D} \\right)}\\end{equation} \\begin{equation}\\operatorname{v_{nnorth}}{\\left(\\vec{r}_{GDZsph4D} \\right)}[m / s] = \\lambda{\\left(\\vec{r}_{GDZsph4D} \\right)}\\end{equation} \\begin{equation}\\operatorname{v_{nup}}{\\left(\\vec{r}_{GDZsph4D} \\right)}[m / s] = \\lambda{\\left(\\vec{r}_{GDZsph4D} \\right)}\\end{equation}"
      ],
      "text/plain": [
       "{SZA(rvec_GDZsph3D): <function time_interp.<locals>.interp at 0x000002028E2598B8>, SZA: <function time_interp.<locals>.interp at 0x000002028E2598B8>, SLT(rvec_GDZsph3D): <function time_interp.<locals>.interp at 0x000002028E259F78>, SLT: <function time_interp.<locals>.interp at 0x000002028E259F78>, TEC(rvec_GDZsph3D): <function time_interp.<locals>.interp at 0x000002028E2935E8>, TEC: <function time_interp.<locals>.interp at 0x000002028E2935E8>, rho_N2(rvec_GDZsph4D): <function time_interp.<locals>.interp at 0x000002028E293B88>, rho_N2: <function time_interp.<locals>.interp at 0x000002028E293B88>, rho_N2plus(rvec_GDZsph4D): <function time_interp.<locals>.interp at 0x000002028E2551F8>, rho_N2plus: <function time_interp.<locals>.interp at 0x000002028E2551F8>, rho_NO(rvec_GDZsph4D): <function time_interp.<locals>.interp at 0x000002028E255828>, rho_NO: <function time_interp.<locals>.interp at 0x000002028E255828>, rho_NOplus(rvec_GDZsph4D): <function time_interp.<locals>.interp at 0x000002028E255E58>, rho_NOplus: <function time_interp.<locals>.interp at 0x000002028E255E58>, rho_O2(rvec_GDZsph4D): <function time_interp.<locals>.interp at 0x000002028E2434C8>, rho_O2: <function time_interp.<locals>.interp at 0x000002028E2434C8>, rho_O2plus(rvec_GDZsph4D): <function time_interp.<locals>.interp at 0x000002028E243AF8>, rho_O2plus: <function time_interp.<locals>.interp at 0x000002028E243AF8>, rho_O3P(rvec_GDZsph4D): <function time_interp.<locals>.interp at 0x000002028E21F168>, rho_O3P: <function time_interp.<locals>.interp at 0x000002028E21F168>, rho_Oplus4S4P(rvec_GDZsph4D): <function time_interp.<locals>.interp at 0x000002028E21F798>, rho_Oplus4S4P: <function time_interp.<locals>.interp at 0x000002028E21F798>, rho_n(rvec_GDZsph4D): <function time_interp.<locals>.interp at 0x000002028E21FDC8>, rho_n: <function time_interp.<locals>.interp at 0x000002028E21FDC8>, T_n(rvec_GDZsph4D): <function time_interp.<locals>.interp at 0x000002028E27B438>, T_n: <function time_interp.<locals>.interp at 0x000002028E27B438>, v_ieast(rvec_GDZsph4D): <function time_interp.<locals>.interp at 0x000002028E27BA68>, v_ieast: <function time_interp.<locals>.interp at 0x000002028E27BA68>, v_inorth(rvec_GDZsph4D): <function time_interp.<locals>.interp at 0x000002028E29B0D8>, v_inorth: <function time_interp.<locals>.interp at 0x000002028E29B0D8>, v_iup(rvec_GDZsph4D): <function time_interp.<locals>.interp at 0x000002028E29B708>, v_iup: <function time_interp.<locals>.interp at 0x000002028E29B708>, v_neast(rvec_GDZsph4D): <function time_interp.<locals>.interp at 0x000002028E29BD38>, v_neast: <function time_interp.<locals>.interp at 0x000002028E29BD38>, v_nnorth(rvec_GDZsph4D): <function time_interp.<locals>.interp at 0x000002028E28D3A8>, v_nnorth: <function time_interp.<locals>.interp at 0x000002028E28D3A8>, v_nup(rvec_GDZsph4D): <function time_interp.<locals>.interp at 0x000002028E28D9D8>, v_nup: <function time_interp.<locals>.interp at 0x000002028E28D9D8>}"
      ]
     },
     "execution_count": 4,
     "metadata": {},
     "output_type": "execute_result"
    }
   ],
   "source": [
    "kamodo_object_1 = reader(file_dir, gridded_int=False)\n",
    "kamodo_object_1"
   ]
  },
  {
   "cell_type": "markdown",
   "metadata": {},
   "source": [
    "## Functionalization method 2\n",
    "Load a single or multiple variables with the gridded versions.\n",
    "\n",
    "Note:\n",
    "- Requesting variables that are NOT in the list above triggers a printed message: '... name not recognized'.\n",
    "- Requesting variables that ARE in the list above but not in the file triggers a printed message: '...not available'."
   ]
  },
  {
   "cell_type": "code",
   "execution_count": 5,
   "metadata": {},
   "outputs": [
    {
     "name": "stdout",
     "output_type": "stream",
     "text": [
      "Some requested variables are not available in the files found:\n",
      " dict_keys(['2DANC', '3DLST']) ['T_i']\n"
     ]
    },
    {
     "data": {
      "text/latex": [
       "\\begin{equation}\\operatorname{T_{n}}{\\left(\\vec{r}_{GDZsph4D} \\right)}[K] = \\lambda{\\left(\\vec{r}_{GDZsph4D} \\right)}\\end{equation} \\begin{equation}\\operatorname{T_{n ijk}}(time[hr],lon[deg],lat[deg],height[km])[K] = \\lambda{\\left(time,lon,lat,height \\right)}\\end{equation}"
      ],
      "text/plain": [
       "{T_n(rvec_GDZsph4D): <function time_interp.<locals>.interp at 0x000002028E284558>, T_n: <function time_interp.<locals>.interp at 0x000002028E284558>, T_n_ijk(time, lon, lat, height): <function gridify.<locals>.decorator_gridify.<locals>.wrapped at 0x000002028E284798>, T_n_ijk: <function gridify.<locals>.decorator_gridify.<locals>.wrapped at 0x000002028E284798>}"
      ]
     },
     "execution_count": 5,
     "metadata": {},
     "output_type": "execute_result"
    }
   ],
   "source": [
    "# This is the most common method to functionalize the desired data.\n",
    "kamodo_object_2 = reader(file_dir, variables_requested=['T_n', 'T_i'])\n",
    "kamodo_object_2"
   ]
  },
  {
   "cell_type": "markdown",
   "metadata": {},
   "source": [
    "## Functionalization method 3\n",
    "Load a single or multiple variables without the gridded version(s)."
   ]
  },
  {
   "cell_type": "code",
   "execution_count": 6,
   "metadata": {},
   "outputs": [
    {
     "name": "stdout",
     "output_type": "stream",
     "text": [
      "Some requested variables are not available in the files found:\n",
      " dict_keys(['2DANC', '3DLST']) ['T_i']\n"
     ]
    },
    {
     "data": {
      "text/latex": [
       "\\begin{equation}\\operatorname{T_{n}}{\\left(\\vec{r}_{GDZsph4D} \\right)}[K] = \\lambda{\\left(\\vec{r}_{GDZsph4D} \\right)}\\end{equation}"
      ],
      "text/plain": [
       "{T_n(rvec_GDZsph4D): <function time_interp.<locals>.interp at 0x000002028E2B8678>, T_n: <function time_interp.<locals>.interp at 0x000002028E2B8678>}"
      ]
     },
     "execution_count": 6,
     "metadata": {},
     "output_type": "execute_result"
    }
   ],
   "source": [
    "# This is what is used in Kamodo's flythrough.\n",
    "kamodo_object_3 = reader(file_dir, variables_requested=['T_n', 'T_i'], gridded_int=False)\n",
    "kamodo_object_3"
   ]
  },
  {
   "cell_type": "markdown",
   "metadata": {},
   "source": [
    "## Interacting with a Kamodo object"
   ]
  },
  {
   "cell_type": "code",
   "execution_count": 7,
   "metadata": {},
   "outputs": [
    {
     "data": {
      "text/plain": [
       "datetime.datetime(2015, 3, 17, 0, 0, tzinfo=datetime.timezone.utc)"
      ]
     },
     "execution_count": 7,
     "metadata": {},
     "output_type": "execute_result"
    }
   ],
   "source": [
    "# Show the datetime object for midnight of the first day of the dataset.\n",
    "kamodo_object_default.filedate"
   ]
  },
  {
   "cell_type": "code",
   "execution_count": 8,
   "metadata": {},
   "outputs": [
    {
     "name": "stdout",
     "output_type": "stream",
     "text": [
      "The minimum and maximum values for each variable and coordinate are:\n",
      "T_n:\n",
      "time: [0.0, 23.83333396911621, 'hr']\n",
      "lon: [-180.0, 180.0, 'deg']\n",
      "lat: [-90.0, 90.0, 'deg']\n",
      "height: [96.62001037597656, 640.3912963867188, 'km']\n",
      "\n",
      "T_n_ijk:\n",
      "time: [0.0, 23.833334, 'hr']\n",
      "lon: [-180.0, 180.0, 'deg']\n",
      "lat: [-90.0, 90.0, 'deg']\n",
      "height: [96.62001, 640.3913, 'km']\n"
     ]
    }
   ],
   "source": [
    "# Print the maxima, minima, and units of each coordinate grid.\n",
    "MW.Coord_Range(kamodo_object_default, ['T_n', 'T_n_ijk'])"
   ]
  },
  {
   "cell_type": "code",
   "execution_count": 9,
   "metadata": {},
   "outputs": [
    {
     "name": "stdout",
     "output_type": "stream",
     "text": [
      "Time slice index 135 added from file.\n",
      "Time slice index 136 added from file.\n",
      "Time slice index 137 added from file.\n",
      "Time slice index 138 added from file.\n"
     ]
    },
    {
     "data": {
      "text/plain": [
       "array([1184.29853082, 1184.16026839])"
      ]
     },
     "execution_count": 9,
     "metadata": {},
     "output_type": "execute_result"
    }
   ],
   "source": [
    "# Example of interpolation command for two points for a regular function.\n",
    "# This is the method used in CCMC Kamodo's flythrough.\n",
    "kamodo_object_default['T_n']([[22.5, -20.5, -20.5, 350.], [22.7, -20.5, -20.5, 350.]])"
   ]
  },
  {
   "cell_type": "code",
   "execution_count": 10,
   "metadata": {},
   "outputs": [
    {
     "data": {
      "text/plain": [
       "array([1184.29853082, 1184.16026839])"
      ]
     },
     "execution_count": 10,
     "metadata": {},
     "output_type": "execute_result"
    }
   ],
   "source": [
    "# Example of interpolation command for a gridded function.\n",
    "# The value will be the same two values as the previous block's result.\n",
    "# The gridded functions slice through the data at the values given.\n",
    "kamodo_object_default['T_n_ijk'](time=[22.5, 22.7], lon=-20.5, lat=-20.5, height=350.)"
   ]
  },
  {
   "cell_type": "markdown",
   "metadata": {},
   "source": [
    "An example of Kamodo's default 2D plot.\n",
    "```py\n",
    "kamodo_object_default.plot('T_n_ijk', plot_partial={'T_n_ijk': {'time': 22.5, 'height': 350.}})\n",
    "```\n",
    "![Screenshot](Files/FunctionalizeModeledData_ExamplePlot.png)"
   ]
  },
  {
   "cell_type": "code",
   "execution_count": null,
   "metadata": {},
   "outputs": [],
   "source": []
  }
 ],
 "metadata": {
  "kernelspec": {
   "display_name": "Python 3 (ipykernel)",
   "language": "python",
   "name": "python3"
  },
  "language_info": {
   "codemirror_mode": {
    "name": "ipython",
    "version": 3
   },
   "file_extension": ".py",
   "mimetype": "text/x-python",
   "name": "python",
   "nbconvert_exporter": "python",
   "pygments_lexer": "ipython3",
   "version": "3.7.16"
  }
 },
 "nbformat": 4,
 "nbformat_minor": 2
}
