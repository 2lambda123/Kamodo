{
 "cells": [
  {
   "cell_type": "code",
   "execution_count": null,
   "id": "b357d738",
   "metadata": {
    "scrolled": true
   },
   "outputs": [],
   "source": [
    "from kamodo_ccmc.flythrough import SatelliteFlythrough as SF\n",
    "import datetime as dt\n",
    "\n",
    "# Set input values for RealFlight function call.\n",
    "model = 'TIEGCM'\n",
    "file_dir = 'C:/Users/rringuet/Kamodo_Data/TIEGCM/Uriel_Ramirez_012517_IT_1/'\n",
    "dataset = 'cnofs'\n",
    "start_utcts = dt.datetime(2015, 3, 18, 0).replace(tzinfo=dt.timezone.utc).timestamp()\n",
    "end_utcts = dt.datetime(2015, 3, 21, 0).replace(tzinfo=dt.timezone.utc).timestamp()-1\n",
    "variable_list = ['T_i'] # list of desired variable names\n",
    "coord_type = 'GEO'  # GEO cartesian coordinates for the trajectory.\n",
    "results = SF.RealFlight(dataset, start_utcts, end_utcts, model, file_dir, \n",
    "                        variable_list, coord_type)\n",
    "\n",
    "# Functionalize the results\n",
    "kamodo_object = SF.WO.Functionalize_SFResults(model,results)\n",
    "kamodo_object"
   ]
  },
  {
   "cell_type": "code",
   "execution_count": null,
   "id": "d1a3e37a",
   "metadata": {},
   "outputs": [],
   "source": [
    "# Get CINDI data through HAPI\n",
    "from kamodo_ccmc.readers.hapi import HAPI\n",
    "\n",
    "server = 'https://cdaweb.gsfc.nasa.gov/hapi'\n",
    "dataset = 'CNOFS_CINDI_IVM_500MS'\n",
    "parameters = 'ionTemperature'\n",
    "start      = dt.datetime.utcfromtimestamp(start_utcts).isoformat('T')\n",
    "stop       = dt.datetime.utcfromtimestamp(end_utcts).isoformat('T')\n",
    "hapiCDA = HAPI(server, dataset, parameters, start, stop)\n",
    "\n",
    "# Add the new time series into the Kamodo object\n",
    "kamodo_object = SF.WO.Functionalize_TimeSeries(hapiCDA.tsarray, 'T_iCINDI', \n",
    "                                               'K', hapiCDA.ionTemperature(), \n",
    "                                               kamodo_object=kamodo_object)\n",
    "kamodo_object['DIFF'] = 'abs(T_iCINDI - T_i)'  # Analyze.\n",
    "kamodo_object"
   ]
  },
  {
   "cell_type": "code",
   "execution_count": null,
   "id": "67f9b7da",
   "metadata": {},
   "outputs": [],
   "source": [
    "# Now we can plot model and data on the same figure with the difference\n",
    "kamodo_object.plot('T_i','T_iCINDI','DIFF')"
   ]
  },
  {
   "cell_type": "code",
   "execution_count": null,
   "id": "c85c2b28",
   "metadata": {},
   "outputs": [],
   "source": []
  }
 ],
 "metadata": {
  "kernelspec": {
   "display_name": "Python 3 (ipykernel)",
   "language": "python",
   "name": "python3"
  },
  "language_info": {
   "codemirror_mode": {
    "name": "ipython",
    "version": 3
   },
   "file_extension": ".py",
   "mimetype": "text/x-python",
   "name": "python",
   "nbconvert_exporter": "python",
   "pygments_lexer": "ipython3",
   "version": "3.7.13"
  }
 },
 "nbformat": 4,
 "nbformat_minor": 5
}
