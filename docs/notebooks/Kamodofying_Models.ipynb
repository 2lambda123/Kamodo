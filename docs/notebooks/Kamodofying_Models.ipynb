{
 "cells": [
  {
   "cell_type": "markdown",
   "metadata": {},
   "source": [
    "## Kamodofication requirements\n",
    "\n",
    "To Kamodofy models and data representing physical quantities, we need to define a set of functions representing the interpolation of each physical variable having the following properties:\n",
    "\n",
    "* A function name and arguments that follows kamodo's [Syntax](../Syntax/) conventions \n",
    "* Default arrays for input arguments\n",
    "* A meta attribute containing:\n",
    "    * 'units' - physical units of the values returned by the function\n",
    "    * 'citation' - How the model or data source should be cited\n",
    "    * 'equation' - LaTeX representation of this model/data source (if available)\n",
    "    * 'hidden_args' - A list of function arguments that should not be rendered\n",
    "* A data attribute - The array holding the variable (if available)\n",
    "* Any docstrings that provide further context"
   ]
  },
  {
   "cell_type": "markdown",
   "metadata": {},
   "source": [
    "## Kamodofying Model Readers\n",
    "\n",
    "Model Readers load data from disk (or server) and provide methods for interpolation. We require that for each variable of interest, the model reader should provide at least one interpolation method that satisfies all of the above requirements. Each model reader will:\n",
    "\n",
    "1. Open/close files\n",
    "2. Manage state variables\n",
    "3. Initialize interpolators\n",
    "4. Kamodofy interpolators\n",
    "5. Register functions"
   ]
  },
  {
   "cell_type": "code",
   "execution_count": 68,
   "metadata": {},
   "outputs": [
    {
     "name": "stdout",
     "output_type": "stream",
     "text": [
      "opening myfile.dat\n"
     ]
    }
   ],
   "source": [
    "from scipy.interpolate import RegularGridInterpolator\n",
    "from kamodo.kamodo import Kamodo, kamodofy\n",
    "\n",
    "class MyModel(Kamodo): # the only change\n",
    "    def __init__(self, filename, **kwargs):\n",
    "        # perform any necessary I/O\n",
    "        print('opening {}'.format(filename))\n",
    "        self.filename = filename\n",
    "        self.missing_value = np.NAN\n",
    "        \n",
    "        # store any data needed for interpolation\n",
    "        self.x = np.linspace(1, 4, 11)\n",
    "        self.y = np.linspace(4, 7, 22)\n",
    "        self.z = np.linspace(7, 9, 33)        \n",
    "        xx, yy, zz = np.meshgrid(self.x, self.y, self.z, indexing='ij', sparse=True)\n",
    "        self.data = 2 * xx**3 + 3 * yy**2 - zz\n",
    "        \n",
    "        # set up the interpolator\n",
    "        self.interpolator = RegularGridInterpolator((self.x, self.y, self.z), self.data, \n",
    "                                                    bounds_error = False,\n",
    "                                                   fill_value = self.missing_value)\n",
    "\n",
    "        # Prepare model for function registration\n",
    "        super(MyModel, self).__init__(**kwargs) \n",
    "        \n",
    "\n",
    "        # Kamodofy the interpolating function\n",
    "        @kamodofy(  units = 'kg/m^3',\n",
    "                    citation = \"Pembroke et al 2019\", \n",
    "                    hidden_args = ['indexing'],\n",
    "                    data = self.data)\n",
    "        def rho(x = self.x, y = self.y, z = self.z):\n",
    "            \"\"\"A function that returns density in [kg/m^3]. Positions are assumed to be unitless\"\"\"\n",
    "            xx, yy, zz = np.meshgrid(x, y, z, indexing = 'xy')\n",
    "            points = np.array(list(zip(xx.ravel(),yy.ravel(),zz.ravel())))\n",
    "            result = self.interpolator(points).reshape(zz.shape, order = 'A')\n",
    "            return result\n",
    "        \n",
    "        # Register the function\n",
    "        self['rho'] = rho \n",
    "\n",
    "model = MyModel('myfile.dat')\n",
    "        "
   ]
  },
  {
   "cell_type": "markdown",
   "metadata": {},
   "source": [
    "Here the `@kamodofy` decorator handles the provisioning of kamodo-specific metadata. For example, the declared function `rho` now has a `meta` attribute:"
   ]
  },
  {
   "cell_type": "code",
   "execution_count": 72,
   "metadata": {},
   "outputs": [
    {
     "data": {
      "text/plain": [
       "{'units': 'kg/m^3',\n",
       " 'citation': 'Pembroke et al 2019',\n",
       " 'equation': None,\n",
       " 'hidden_args': ['indexing']}"
      ]
     },
     "execution_count": 72,
     "metadata": {},
     "output_type": "execute_result"
    }
   ],
   "source": [
    "model.rho.meta"
   ]
  },
  {
   "cell_type": "markdown",
   "metadata": {},
   "source": [
    "`@kamodofy` also adds the data attribute, by calling the function with its default parameters:"
   ]
  },
  {
   "cell_type": "code",
   "execution_count": 39,
   "metadata": {},
   "outputs": [
    {
     "data": {
      "text/plain": [
       "(11, 22, 33)"
      ]
     },
     "execution_count": 39,
     "metadata": {},
     "output_type": "execute_result"
    }
   ],
   "source": [
    "model.rho.data.shape"
   ]
  },
  {
   "cell_type": "markdown",
   "metadata": {},
   "source": [
    "We could also register the model's interpolating method as part of some other Kamodo object, such as another kamodofied model reader or data source:"
   ]
  },
  {
   "cell_type": "code",
   "execution_count": 42,
   "metadata": {},
   "outputs": [
    {
     "data": {
      "text/latex": [
       "\\begin{equation}\\rho{\\left(x,y,z \\right)} [kg/m^3] = \\lambda{\\left(x,y,z \\right)}\\end{equation}"
      ],
      "text/plain": [
       "Kamodo([(rho(x, y, z),\n",
       "         <function __main__.MyModel.__init__.<locals>.rho(x=array([1. , 1.3, 1.6, 1.9, 2.2, 2.5, 2.8, 3.1, 3.4, 3.7, 4. ]), y=array([4.        , 4.14285714, 4.28571429, 4.42857143, 4.57142857,\n",
       "       4.71428571, 4.85714286, 5.        , 5.14285714, 5.28571429,\n",
       "       5.42857143, 5.57142857, 5.71428571, 5.85714286, 6.        ,\n",
       "       6.14285714, 6.28571429, 6.42857143, 6.57142857, 6.71428571,\n",
       "       6.85714286, 7.        ]), z=array([7.    , 7.0625, 7.125 , 7.1875, 7.25  , 7.3125, 7.375 , 7.4375,\n",
       "       7.5   , 7.5625, 7.625 , 7.6875, 7.75  , 7.8125, 7.875 , 7.9375,\n",
       "       8.    , 8.0625, 8.125 , 8.1875, 8.25  , 8.3125, 8.375 , 8.4375,\n",
       "       8.5   , 8.5625, 8.625 , 8.6875, 8.75  , 8.8125, 8.875 , 8.9375,\n",
       "       9.    ]))>),\n",
       "        (rho,\n",
       "         <function __main__.MyModel.__init__.<locals>.rho(x=array([1. , 1.3, 1.6, 1.9, 2.2, 2.5, 2.8, 3.1, 3.4, 3.7, 4. ]), y=array([4.        , 4.14285714, 4.28571429, 4.42857143, 4.57142857,\n",
       "       4.71428571, 4.85714286, 5.        , 5.14285714, 5.28571429,\n",
       "       5.42857143, 5.57142857, 5.71428571, 5.85714286, 6.        ,\n",
       "       6.14285714, 6.28571429, 6.42857143, 6.57142857, 6.71428571,\n",
       "       6.85714286, 7.        ]), z=array([7.    , 7.0625, 7.125 , 7.1875, 7.25  , 7.3125, 7.375 , 7.4375,\n",
       "       7.5   , 7.5625, 7.625 , 7.6875, 7.75  , 7.8125, 7.875 , 7.9375,\n",
       "       8.    , 8.0625, 8.125 , 8.1875, 8.25  , 8.3125, 8.375 , 8.4375,\n",
       "       8.5   , 8.5625, 8.625 , 8.6875, 8.75  , 8.8125, 8.875 , 8.9375,\n",
       "       9.    ]))>)])"
      ]
     },
     "execution_count": 42,
     "metadata": {},
     "output_type": "execute_result"
    }
   ],
   "source": [
    "from kamodo.kamodo import Kamodo\n",
    "kamodo = Kamodo(rho = model.rho)\n",
    "kamodo"
   ]
  },
  {
   "cell_type": "markdown",
   "metadata": {},
   "source": [
    "We can now compose the function with other expressions"
   ]
  },
  {
   "cell_type": "code",
   "execution_count": 43,
   "metadata": {},
   "outputs": [
    {
     "data": {
      "text/latex": [
       "\\begin{equation}\\rho{\\left(x,y,z \\right)} [kg/m^3] = \\lambda{\\left(x,y,z \\right)}\\end{equation}\\begin{equation}\\operatorname{vol}{\\left(x,y \\right)} [cm^3] = \\frac{4 \\pi \\sqrt{x^{2} + y^{2}}}{3}\\end{equation}\\begin{equation}\\operatorname{mass}{\\left(x,y,z \\right)} [g] = \\frac{\\rho{\\left(x,y,z \\right)} \\operatorname{vol}{\\left(x,y \\right)}}{1000}\\end{equation}"
      ],
      "text/plain": [
       "Kamodo([(rho(x, y, z),\n",
       "         <function __main__.MyModel.__init__.<locals>.rho(x=array([1. , 1.3, 1.6, 1.9, 2.2, 2.5, 2.8, 3.1, 3.4, 3.7, 4. ]), y=array([4.        , 4.14285714, 4.28571429, 4.42857143, 4.57142857,\n",
       "       4.71428571, 4.85714286, 5.        , 5.14285714, 5.28571429,\n",
       "       5.42857143, 5.57142857, 5.71428571, 5.85714286, 6.        ,\n",
       "       6.14285714, 6.28571429, 6.42857143, 6.57142857, 6.71428571,\n",
       "       6.85714286, 7.        ]), z=array([7.    , 7.0625, 7.125 , 7.1875, 7.25  , 7.3125, 7.375 , 7.4375,\n",
       "       7.5   , 7.5625, 7.625 , 7.6875, 7.75  , 7.8125, 7.875 , 7.9375,\n",
       "       8.    , 8.0625, 8.125 , 8.1875, 8.25  , 8.3125, 8.375 , 8.4375,\n",
       "       8.5   , 8.5625, 8.625 , 8.6875, 8.75  , 8.8125, 8.875 , 8.9375,\n",
       "       9.    ]))>),\n",
       "        (rho,\n",
       "         <function __main__.MyModel.__init__.<locals>.rho(x=array([1. , 1.3, 1.6, 1.9, 2.2, 2.5, 2.8, 3.1, 3.4, 3.7, 4. ]), y=array([4.        , 4.14285714, 4.28571429, 4.42857143, 4.57142857,\n",
       "       4.71428571, 4.85714286, 5.        , 5.14285714, 5.28571429,\n",
       "       5.42857143, 5.57142857, 5.71428571, 5.85714286, 6.        ,\n",
       "       6.14285714, 6.28571429, 6.42857143, 6.57142857, 6.71428571,\n",
       "       6.85714286, 7.        ]), z=array([7.    , 7.0625, 7.125 , 7.1875, 7.25  , 7.3125, 7.375 , 7.4375,\n",
       "       7.5   , 7.5625, 7.625 , 7.6875, 7.75  , 7.8125, 7.875 , 7.9375,\n",
       "       8.    , 8.0625, 8.125 , 8.1875, 8.25  , 8.3125, 8.375 , 8.4375,\n",
       "       8.5   , 8.5625, 8.625 , 8.6875, 8.75  , 8.8125, 8.875 , 8.9375,\n",
       "       9.    ]))>),\n",
       "        (vol(x, y), <function _lambdifygenerated(x, y)>),\n",
       "        (vol, <function _lambdifygenerated(x, y)>),\n",
       "        (mass(x, y, z), <function _lambdifygenerated(x, y, z)>),\n",
       "        (mass, <function _lambdifygenerated(x, y, z)>)])"
      ]
     },
     "execution_count": 43,
     "metadata": {},
     "output_type": "execute_result"
    }
   ],
   "source": [
    "kamodo['vol [cm^3]'] = '4/3 * pi * (x**2 + y**2)**(1/2)'\n",
    "kamodo['mass [g]'] = 'rho*vol'\n",
    "kamodo"
   ]
  },
  {
   "cell_type": "code",
   "execution_count": 44,
   "metadata": {},
   "outputs": [
    {
     "data": {
      "text/latex": [
       "\\begin{equation}\\rho{\\left(x,y,z \\right)} [kg/m^3] = \\lambda{\\left(x,y,z \\right)}\\end{equation}\\begin{equation}\\operatorname{vol}{\\left(x,y \\right)} [cm^3] = \\frac{4 \\pi \\sqrt{x^{2} + y^{2}}}{3}\\end{equation}\\begin{equation}\\operatorname{mass}{\\left(x,y,z \\right)} [g] = \\frac{\\rho{\\left(x,y,z \\right)} \\operatorname{vol}{\\left(x,y \\right)}}{1000}\\end{equation}\\begin{equation}f{\\left(r \\right)} = \\rho{\\left(r - 10 \\right)}\\end{equation}\\begin{equation}g{\\left(r \\right)} = r f{\\left(r \\right)}\\end{equation}"
      ],
      "text/plain": [
       "Kamodo([(rho(x, y, z),\n",
       "         <function __main__.MyModel.__init__.<locals>.rho(x=array([1. , 1.3, 1.6, 1.9, 2.2, 2.5, 2.8, 3.1, 3.4, 3.7, 4. ]), y=array([4.        , 4.14285714, 4.28571429, 4.42857143, 4.57142857,\n",
       "       4.71428571, 4.85714286, 5.        , 5.14285714, 5.28571429,\n",
       "       5.42857143, 5.57142857, 5.71428571, 5.85714286, 6.        ,\n",
       "       6.14285714, 6.28571429, 6.42857143, 6.57142857, 6.71428571,\n",
       "       6.85714286, 7.        ]), z=array([7.    , 7.0625, 7.125 , 7.1875, 7.25  , 7.3125, 7.375 , 7.4375,\n",
       "       7.5   , 7.5625, 7.625 , 7.6875, 7.75  , 7.8125, 7.875 , 7.9375,\n",
       "       8.    , 8.0625, 8.125 , 8.1875, 8.25  , 8.3125, 8.375 , 8.4375,\n",
       "       8.5   , 8.5625, 8.625 , 8.6875, 8.75  , 8.8125, 8.875 , 8.9375,\n",
       "       9.    ]))>),\n",
       "        (rho,\n",
       "         <function __main__.MyModel.__init__.<locals>.rho(x=array([1. , 1.3, 1.6, 1.9, 2.2, 2.5, 2.8, 3.1, 3.4, 3.7, 4. ]), y=array([4.        , 4.14285714, 4.28571429, 4.42857143, 4.57142857,\n",
       "       4.71428571, 4.85714286, 5.        , 5.14285714, 5.28571429,\n",
       "       5.42857143, 5.57142857, 5.71428571, 5.85714286, 6.        ,\n",
       "       6.14285714, 6.28571429, 6.42857143, 6.57142857, 6.71428571,\n",
       "       6.85714286, 7.        ]), z=array([7.    , 7.0625, 7.125 , 7.1875, 7.25  , 7.3125, 7.375 , 7.4375,\n",
       "       7.5   , 7.5625, 7.625 , 7.6875, 7.75  , 7.8125, 7.875 , 7.9375,\n",
       "       8.    , 8.0625, 8.125 , 8.1875, 8.25  , 8.3125, 8.375 , 8.4375,\n",
       "       8.5   , 8.5625, 8.625 , 8.6875, 8.75  , 8.8125, 8.875 , 8.9375,\n",
       "       9.    ]))>),\n",
       "        (vol(x, y), <function _lambdifygenerated(x, y)>),\n",
       "        (vol, <function _lambdifygenerated(x, y)>),\n",
       "        (mass(x, y, z), <function _lambdifygenerated(x, y, z)>),\n",
       "        (mass, <function _lambdifygenerated(x, y, z)>),\n",
       "        (f(r), <function _lambdifygenerated(r)>),\n",
       "        (f, <function _lambdifygenerated(r)>),\n",
       "        (g(r), <function _lambdifygenerated(r)>),\n",
       "        (g, <function _lambdifygenerated(r)>)])"
      ]
     },
     "execution_count": 44,
     "metadata": {},
     "output_type": "execute_result"
    }
   ],
   "source": [
    "kamodo['f'] = 'rho(r-10)'\n",
    "kamodo['g'] = 'r*f'\n",
    "kamodo"
   ]
  },
  {
   "cell_type": "code",
   "execution_count": 45,
   "metadata": {},
   "outputs": [
    {
     "data": {
      "text/html": [
       "<div>\n",
       "<style scoped>\n",
       "    .dataframe tbody tr th:only-of-type {\n",
       "        vertical-align: middle;\n",
       "    }\n",
       "\n",
       "    .dataframe tbody tr th {\n",
       "        vertical-align: top;\n",
       "    }\n",
       "\n",
       "    .dataframe thead th {\n",
       "        text-align: right;\n",
       "    }\n",
       "</style>\n",
       "<table border=\"1\" class=\"dataframe\">\n",
       "  <thead>\n",
       "    <tr style=\"text-align: right;\">\n",
       "      <th></th>\n",
       "      <th>lhs</th>\n",
       "      <th>rhs</th>\n",
       "      <th>symbol</th>\n",
       "      <th>units</th>\n",
       "    </tr>\n",
       "  </thead>\n",
       "  <tbody>\n",
       "    <tr>\n",
       "      <th>rho(x, y, z)</th>\n",
       "      <td>rho</td>\n",
       "      <td>None</td>\n",
       "      <td>rho(x, y, z)</td>\n",
       "      <td>kg/m^3</td>\n",
       "    </tr>\n",
       "    <tr>\n",
       "      <th>vol(x, y)</th>\n",
       "      <td>vol</td>\n",
       "      <td>4*pi*sqrt(x**2 + y**2)/3</td>\n",
       "      <td>vol(x, y)</td>\n",
       "      <td>cm^3</td>\n",
       "    </tr>\n",
       "    <tr>\n",
       "      <th>mass(x, y, z)</th>\n",
       "      <td>mass</td>\n",
       "      <td>rho(x, y, z)*vol(x, y)/1000</td>\n",
       "      <td>mass(x, y, z)</td>\n",
       "      <td>g</td>\n",
       "    </tr>\n",
       "    <tr>\n",
       "      <th>f(r)</th>\n",
       "      <td>f</td>\n",
       "      <td>rho(r - 10)</td>\n",
       "      <td>f(r)</td>\n",
       "      <td></td>\n",
       "    </tr>\n",
       "    <tr>\n",
       "      <th>g(r)</th>\n",
       "      <td>g</td>\n",
       "      <td>r*f(r)</td>\n",
       "      <td>g(r)</td>\n",
       "      <td></td>\n",
       "    </tr>\n",
       "  </tbody>\n",
       "</table>\n",
       "</div>"
      ],
      "text/plain": [
       "                lhs                          rhs         symbol   units\n",
       "rho(x, y, z)    rho                         None   rho(x, y, z)  kg/m^3\n",
       "vol(x, y)       vol     4*pi*sqrt(x**2 + y**2)/3      vol(x, y)    cm^3\n",
       "mass(x, y, z)  mass  rho(x, y, z)*vol(x, y)/1000  mass(x, y, z)       g\n",
       "f(r)              f                  rho(r - 10)           f(r)        \n",
       "g(r)              g                       r*f(r)           g(r)        "
      ]
     },
     "execution_count": 45,
     "metadata": {},
     "output_type": "execute_result"
    }
   ],
   "source": [
    "kamodo.detail()"
   ]
  },
  {
   "cell_type": "markdown",
   "metadata": {},
   "source": [
    "The following lines will save the image to your working directory.\n",
    "\n",
    "!!! note\n",
    "    Saving images requires `plotly-orca-1.2.1`, available through conda: ```conda install -c plotly plotly-orca```"
   ]
  },
  {
   "cell_type": "code",
   "execution_count": 46,
   "metadata": {},
   "outputs": [],
   "source": [
    "import plotly.io as pio\n",
    "\n",
    "pio.write_image(model.plot(rho = dict(z = model.z.mean())), 'kamodofied_model_1.svg', validate = False)"
   ]
  },
  {
   "cell_type": "markdown",
   "metadata": {},
   "source": [
    "We use markdown to embed the image into the notebook.\n",
    "![Kamodofied Density](kamodofied_model_1.svg?4)"
   ]
  },
  {
   "cell_type": "markdown",
   "metadata": {},
   "source": [
    "Alternative ways to graph:"
   ]
  },
  {
   "cell_type": "code",
   "execution_count": 47,
   "metadata": {},
   "outputs": [],
   "source": [
    "## uncomment to open interactive plot in the notebook\n",
    "# from plotly.offline import init_notebook_mode, iplot\n",
    "# init_notebook_mode(connected = True)\n",
    "# iplot(kamodo.plot(rho = dict(x = model.x.mean()))) "
   ]
  },
  {
   "cell_type": "code",
   "execution_count": 15,
   "metadata": {},
   "outputs": [],
   "source": [
    "# # uncomment to open interactive plot in separate tab\n",
    "# from plotly.offline import plot\n",
    "# plot(kamodo.plot(rho = dict(z = 8))) "
   ]
  }
 ],
 "metadata": {
  "kernelspec": {
   "display_name": "Python 3",
   "language": "python",
   "name": "python3"
  },
  "language_info": {
   "codemirror_mode": {
    "name": "ipython",
    "version": 3
   },
   "file_extension": ".py",
   "mimetype": "text/x-python",
   "name": "python",
   "nbconvert_exporter": "python",
   "pygments_lexer": "ipython3",
   "version": "3.7.3"
  }
 },
 "nbformat": 4,
 "nbformat_minor": 2
}
