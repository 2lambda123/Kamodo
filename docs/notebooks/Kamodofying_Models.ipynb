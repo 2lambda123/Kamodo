{
 "cells": [
  {
   "cell_type": "markdown",
   "metadata": {},
   "source": [
    "# About\n",
    "\n",
    "This example demonstrates how to Kamodofy a simple regular-grid model."
   ]
  },
  {
   "cell_type": "markdown",
   "metadata": {},
   "source": [
    "To Kamodofy models and data representing physical quantities, we need to define a set of functions representing the interpolation of each physical variable having the following properties:\n",
    "\n",
    "* A function names and arguments that follows kamodo's [Syntax](../Syntax/) conventions \n",
    "* A meta attribute containing:\n",
    "  * 'units' - physical units of the values returned by the function\n",
    "  * 'citation' - How the model or data source should be cited\n",
    "  * 'equation' - LaTeX representation of this model/data source (if available)\n",
    "  * 'hidden_args' - A list of function arguments that should not be rendered\n",
    "* A data attribute - The array holding the variable (if available)\n",
    "* Any docstrings that provide further context"
   ]
  },
  {
   "cell_type": "markdown",
   "metadata": {},
   "source": [
    "To simplify the kamodofication process, we provide the @kamodo decorator, which you can place over any function."
   ]
  },
  {
   "cell_type": "code",
   "execution_count": 139,
   "metadata": {},
   "outputs": [],
   "source": [
    "from kamodo.kamodo import kamodofy\n",
    "import numpy as np\n",
    "\n",
    "@kamodofy(  units = 'kg/m^3',\n",
    "            citation = \"Pembroke et al 2019\", \n",
    "            hidden_args = ['scale_height'])\n",
    "def rho(r = np.linspace(-3, 3, 10), scale_height = 1):\n",
    "    \"\"\"A function that returns density in [kg/m^3]. Positions are assumed to be unitless\"\"\"\n",
    "    return np.exp(-scale_height*r**2)"
   ]
  },
  {
   "cell_type": "markdown",
   "metadata": {},
   "source": [
    "@kamodofy inserts the meta attribute for you:"
   ]
  },
  {
   "cell_type": "code",
   "execution_count": 140,
   "metadata": {},
   "outputs": [
    {
     "data": {
      "text/plain": [
       "{'units': 'kg/m^3',\n",
       " 'citation': 'Pembroke et al 2019',\n",
       " 'equation': None,\n",
       " 'hidden_args': ['scale_height']}"
      ]
     },
     "execution_count": 140,
     "metadata": {},
     "output_type": "execute_result"
    }
   ],
   "source": [
    "rho.meta"
   ]
  },
  {
   "cell_type": "markdown",
   "metadata": {},
   "source": [
    "@kamodofy also adds the data attribute, by calling the function with its default parameters:"
   ]
  },
  {
   "cell_type": "code",
   "execution_count": 141,
   "metadata": {},
   "outputs": [
    {
     "data": {
      "text/plain": [
       "array([1.23409804e-04, 4.32023947e-03, 6.21765240e-02, 3.67879441e-01,\n",
       "       8.94839317e-01, 8.94839317e-01, 3.67879441e-01, 6.21765240e-02,\n",
       "       4.32023947e-03, 1.23409804e-04])"
      ]
     },
     "execution_count": 141,
     "metadata": {},
     "output_type": "execute_result"
    }
   ],
   "source": [
    "rho.data"
   ]
  },
  {
   "cell_type": "markdown",
   "metadata": {},
   "source": [
    "Now that our function meets all the requirements, we can register it as part of a kamodo object:"
   ]
  },
  {
   "cell_type": "code",
   "execution_count": 143,
   "metadata": {},
   "outputs": [
    {
     "data": {
      "text/latex": [
       "\\begin{equation}\\rho{\\left(r \\right)} [kg/m^3] = \\lambda{\\left(r \\right)}\\end{equation}\\begin{equation}\\operatorname{vol}{\\left(r \\right)} [cm^3] = \\frac{4 \\pi r^{3}}{3}\\end{equation}\\begin{equation}\\operatorname{mass}{\\left(r \\right)} [g] = \\frac{\\rho{\\left(r \\right)} \\operatorname{vol}{\\left(r \\right)}}{1000}\\end{equation}"
      ],
      "text/plain": [
       "Kamodo([(rho(r),\n",
       "         <function __main__.rho(r=array([-3.        , -2.33333333, -1.66666667, -1.        , -0.33333333,\n",
       "        0.33333333,  1.        ,  1.66666667,  2.33333333,  3.        ]), scale_height=1)>),\n",
       "        (rho,\n",
       "         <function __main__.rho(r=array([-3.        , -2.33333333, -1.66666667, -1.        , -0.33333333,\n",
       "        0.33333333,  1.        ,  1.66666667,  2.33333333,  3.        ]), scale_height=1)>),\n",
       "        (vol(r), <function _lambdifygenerated(r)>),\n",
       "        (vol, <function _lambdifygenerated(r)>),\n",
       "        (mass(r), <function _lambdifygenerated(r)>),\n",
       "        (mass, <function _lambdifygenerated(r)>)])"
      ]
     },
     "execution_count": 143,
     "metadata": {},
     "output_type": "execute_result"
    }
   ],
   "source": [
    "from kamodo.kamodo import Kamodo\n",
    "\n",
    "kamodo = Kamodo(rho = rho)\n",
    "kamodo['vol [cm^3]'] = '4/3 * pi * r**3'\n",
    "kamodo['mass [g]'] = 'rho*vol'\n",
    "kamodo"
   ]
  },
  {
   "cell_type": "markdown",
   "metadata": {},
   "source": [
    "We can perform complex compositions on the function as well"
   ]
  },
  {
   "cell_type": "code",
   "execution_count": 144,
   "metadata": {},
   "outputs": [
    {
     "data": {
      "text/latex": [
       "\\begin{equation}\\rho{\\left(r \\right)} [kg/m^3] = \\lambda{\\left(r \\right)}\\end{equation}\\begin{equation}\\operatorname{vol}{\\left(r \\right)} [cm^3] = \\frac{4 \\pi r^{3}}{3}\\end{equation}\\begin{equation}\\operatorname{mass}{\\left(r \\right)} [g] = \\frac{\\rho{\\left(r \\right)} \\operatorname{vol}{\\left(r \\right)}}{1000}\\end{equation}\\begin{equation}f{\\left(r \\right)} = \\rho{\\left(r - 10 \\right)}\\end{equation}\\begin{equation}g{\\left(r \\right)} = r f{\\left(r \\right)}\\end{equation}"
      ],
      "text/plain": [
       "Kamodo([(rho(r),\n",
       "         <function __main__.rho(r=array([-3.        , -2.33333333, -1.66666667, -1.        , -0.33333333,\n",
       "        0.33333333,  1.        ,  1.66666667,  2.33333333,  3.        ]), scale_height=1)>),\n",
       "        (rho,\n",
       "         <function __main__.rho(r=array([-3.        , -2.33333333, -1.66666667, -1.        , -0.33333333,\n",
       "        0.33333333,  1.        ,  1.66666667,  2.33333333,  3.        ]), scale_height=1)>),\n",
       "        (vol(r), <function _lambdifygenerated(r)>),\n",
       "        (vol, <function _lambdifygenerated(r)>),\n",
       "        (mass(r), <function _lambdifygenerated(r)>),\n",
       "        (mass, <function _lambdifygenerated(r)>),\n",
       "        (f(r), <function _lambdifygenerated(r)>),\n",
       "        (f, <function _lambdifygenerated(r)>),\n",
       "        (g(r), <function _lambdifygenerated(r)>),\n",
       "        (g, <function _lambdifygenerated(r)>)])"
      ]
     },
     "execution_count": 144,
     "metadata": {},
     "output_type": "execute_result"
    }
   ],
   "source": [
    "kamodo['f'] = 'rho(r-10)'\n",
    "kamodo['g'] = 'r*f'\n",
    "kamodo"
   ]
  },
  {
   "cell_type": "code",
   "execution_count": 145,
   "metadata": {},
   "outputs": [
    {
     "data": {
      "text/plain": [
       "1.0"
      ]
     },
     "execution_count": 145,
     "metadata": {},
     "output_type": "execute_result"
    }
   ],
   "source": [
    "kamodo.f(10)"
   ]
  },
  {
   "cell_type": "code",
   "execution_count": 129,
   "metadata": {},
   "outputs": [
    {
     "data": {
      "text/plain": [
       "10.0"
      ]
     },
     "execution_count": 129,
     "metadata": {},
     "output_type": "execute_result"
    }
   ],
   "source": [
    "kamodo.g(10)"
   ]
  },
  {
   "cell_type": "code",
   "execution_count": 120,
   "metadata": {},
   "outputs": [
    {
     "data": {
      "text/html": [
       "<div>\n",
       "<style scoped>\n",
       "    .dataframe tbody tr th:only-of-type {\n",
       "        vertical-align: middle;\n",
       "    }\n",
       "\n",
       "    .dataframe tbody tr th {\n",
       "        vertical-align: top;\n",
       "    }\n",
       "\n",
       "    .dataframe thead th {\n",
       "        text-align: right;\n",
       "    }\n",
       "</style>\n",
       "<table border=\"1\" class=\"dataframe\">\n",
       "  <thead>\n",
       "    <tr style=\"text-align: right;\">\n",
       "      <th></th>\n",
       "      <th>lhs</th>\n",
       "      <th>rhs</th>\n",
       "      <th>symbol</th>\n",
       "      <th>units</th>\n",
       "    </tr>\n",
       "  </thead>\n",
       "  <tbody>\n",
       "    <tr>\n",
       "      <th>rho(r)</th>\n",
       "      <td>rho</td>\n",
       "      <td>None</td>\n",
       "      <td>rho(r)</td>\n",
       "      <td>kg/m^3</td>\n",
       "    </tr>\n",
       "    <tr>\n",
       "      <th>vol(r)</th>\n",
       "      <td>vol</td>\n",
       "      <td>4*pi*r**3/3</td>\n",
       "      <td>vol(r)</td>\n",
       "      <td>cm^3</td>\n",
       "    </tr>\n",
       "    <tr>\n",
       "      <th>mass(r)</th>\n",
       "      <td>mass</td>\n",
       "      <td>rho(r)*vol(r)/1000</td>\n",
       "      <td>mass(r)</td>\n",
       "      <td>g</td>\n",
       "    </tr>\n",
       "  </tbody>\n",
       "</table>\n",
       "</div>"
      ],
      "text/plain": [
       "          lhs                 rhs   symbol   units\n",
       "rho(r)    rho                None   rho(r)  kg/m^3\n",
       "vol(r)    vol         4*pi*r**3/3   vol(r)    cm^3\n",
       "mass(r)  mass  rho(r)*vol(r)/1000  mass(r)       g"
      ]
     },
     "execution_count": 120,
     "metadata": {},
     "output_type": "execute_result"
    }
   ],
   "source": [
    "kamodo.detail()"
   ]
  },
  {
   "cell_type": "code",
   "execution_count": 102,
   "metadata": {},
   "outputs": [
    {
     "data": {
      "text/plain": [
       "{'units': 'kg/m^3',\n",
       " 'citation': 'Pembroke et al 2019',\n",
       " 'equation': None,\n",
       " 'hidden_args': ['verbose']}"
      ]
     },
     "execution_count": 102,
     "metadata": {},
     "output_type": "execute_result"
    }
   ],
   "source": [
    "kamodo.rho.meta"
   ]
  },
  {
   "cell_type": "markdown",
   "metadata": {},
   "source": [
    "The following lines will save the image to your working directory."
   ]
  },
  {
   "cell_type": "code",
   "execution_count": 85,
   "metadata": {},
   "outputs": [],
   "source": [
    "import plotly.io as pio\n",
    "\n",
    "pio.write_image(kamodo.plot('rho'), 'kamodofied_model_1.svg')"
   ]
  },
  {
   "cell_type": "markdown",
   "metadata": {},
   "source": [
    "We use markdown to embed the image into the notebook.\n",
    "![Kamodofied Density](kamodofied_model_1.svg)"
   ]
  },
  {
   "cell_type": "markdown",
   "metadata": {},
   "source": [
    "Alternative ways to graph:"
   ]
  },
  {
   "cell_type": "code",
   "execution_count": 88,
   "metadata": {},
   "outputs": [],
   "source": [
    "## uncomment to open interactive plot in the notebook\n",
    "# from plotly.offline import init_notebook_mode, iplot\n",
    "# init_notebook_mode(connected = True)\n",
    "# iplot(kamodo.plot('rho')) \n",
    "\n",
    "\n",
    "## uncomment to open interactive plot in separate tab\n",
    "# from plotly.offline import plot\n",
    "# plot(kamodo.plot('rho')) "
   ]
  },
  {
   "cell_type": "code",
   "execution_count": 89,
   "metadata": {},
   "outputs": [],
   "source": [
    "x, y, z = np.meshgrid(np.linspace(-2,2,4),\n",
    "                      np.linspace(-3,3,6),\n",
    "                      np.linspace(-5,5,10))\n",
    "points = np.array(list(zip(x.ravel(), y.ravel(), z.ravel())))\n",
    "\n",
    "\n",
    "def Ivec(rvec = points):\n",
    "    return rvec"
   ]
  },
  {
   "cell_type": "code",
   "execution_count": 82,
   "metadata": {},
   "outputs": [],
   "source": [
    "kamodofy?"
   ]
  },
  {
   "cell_type": "code",
   "execution_count": null,
   "metadata": {},
   "outputs": [],
   "source": []
  }
 ],
 "metadata": {
  "kernelspec": {
   "display_name": "Python 3",
   "language": "python",
   "name": "python3"
  },
  "language_info": {
   "codemirror_mode": {
    "name": "ipython",
    "version": 3
   },
   "file_extension": ".py",
   "mimetype": "text/x-python",
   "name": "python",
   "nbconvert_exporter": "python",
   "pygments_lexer": "ipython3",
   "version": "3.7.3"
  }
 },
 "nbformat": 4,
 "nbformat_minor": 2
}
