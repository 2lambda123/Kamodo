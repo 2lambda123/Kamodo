{
 "cells": [
  {
   "cell_type": "markdown",
   "metadata": {},
   "source": [
    "# Kamodo-CLI\n",
    "\n",
    "The kamodo command-line interface should be installed automatically with pip\n",
    "\n",
    "    pip install kamodo"
   ]
  },
  {
   "cell_type": "markdown",
   "metadata": {},
   "source": [
    "!!! warning\n",
    "    The command line app is a work in progress. Expect changes!"
   ]
  },
  {
   "cell_type": "markdown",
   "metadata": {},
   "source": [
    "!!! note\n",
    "    You can run these examples in a notebook with `!kamodo` "
   ]
  },
  {
   "cell_type": "markdown",
   "metadata": {},
   "source": [
    "Run the command line interface with\n",
    "\n",
    "    kamodo <key>.<subkey>=value\n",
    "    \n",
    "### instantiation\n",
    "To create a simple function ready for evaluation:\n",
    "\n",
    "```console\n",
    "kamodo model.params.f[cm]=x**2\n",
    "     lhs   rhs symbol units\n",
    "f(x)   f  x**2   f(x)    cm\n",
    "\\begin{equation}f{\\left(x \\right)} [cm] = x^{2}\\end{equation}\n",
    "```\n",
    "    \n",
    "    "
   ]
  },
  {
   "cell_type": "markdown",
   "metadata": {},
   "source": [
    "Kamodo will print a description of the loaded model when `verbose` output is on (the default)."
   ]
  },
  {
   "cell_type": "markdown",
   "metadata": {},
   "source": [
    "### evaluation\n",
    "\n",
    "To evaluate a model, provide arguments for each function.\n",
    "\n",
    "```console\n",
    "kamodo model.params.f[cm]=x**2 model.evaluate.f.x=[-3,-1,1,3] verbose=false\n",
    "f(x=[-3, -1, 1, 3]) cm = \n",
    "\n",
    "[9 1 1 9]\n",
    "\n",
    "```"
   ]
  },
  {
   "cell_type": "markdown",
   "metadata": {},
   "source": [
    "### visualization"
   ]
  },
  {
   "cell_type": "markdown",
   "metadata": {},
   "source": [
    "To visualize model output, provide plot parameters similar to evaluation"
   ]
  },
  {
   "cell_type": "markdown",
   "metadata": {},
   "source": [
    "```console\n",
    "kamodo model.params.f[cm]=x**2 model.plot.f.x.min=-2 model.plot.f.x.max=2 model.plot.f.x.n=25 verbose=False\n",
    "```\n",
    "An interactive plot will open with your figure\n",
    "\n",
    "![Screenshot](images/kamodo_cli_1.png)"
   ]
  },
  {
   "cell_type": "markdown",
   "metadata": {},
   "source": [
    "### Kamodofied models\n",
    "\n",
    "To work with a kamodofied model, specify the `model.class`.\n",
    "\n",
    "```console\n",
    "kamodo model.class=kamodo.readers.tiegcm.TIEGCM_Kamodo model.params.filename=$PWD/s001.nc  model.plot.EFLUX.lon=[0]\n",
    "```\n",
    "\n",
    "![Screenshot](images/tiegcm_output.png)"
   ]
  },
  {
   "cell_type": "markdown",
   "metadata": {},
   "source": [
    "### tab completion\n",
    "\n",
    "Kamodo supports tab completion for bash. To set up bash tab completion, run the following:\n",
    "\n",
    "    eval \"$(kamodo -sc install=bash)\""
   ]
  },
  {
   "cell_type": "markdown",
   "metadata": {},
   "source": [
    "### Help\n",
    "```console\n",
    "kamodo --help\n",
    "A low-coding command line interface for Kamodo\n",
    "\n",
    "This application allows users to work with kamodo-compatible models and data\n",
    "directly from the command line. \n",
    "\n",
    "Custom models, data, and expressions may be composed by editing config files\n",
    "without needing to write python.\n",
    "\n",
    "== Configuration groups ==\n",
    "Compose your configuration from those groups (group=option)\n",
    "\n",
    "== Config ==\n",
    "Override anything in the config (foo.bar=value)\n",
    "model:\n",
    "  class: kamodo.Kamodo\n",
    "  evaluate: {}\n",
    "  fig_layout: {}\n",
    "  params: {}\n",
    "  plot: {}\n",
    "  plot_conf:\n",
    "    animation_opts: null\n",
    "    auto_open: true\n",
    "    auto_play: true\n",
    "    config: null\n",
    "    filename: temp-plot.html\n",
    "    image: null\n",
    "    image_filename: plot_image\n",
    "    include_mathjax: cdn\n",
    "    include_plotlyjs: true\n",
    "    link_text: Export to plot.ly\n",
    "    output_type: file\n",
    "    show_link: false\n",
    "    validate: true\n",
    "verbose: true\n",
    "\n",
    "Powered by Hydra (https://hydra.cc)\n",
    "Use --hydra-help to view Hydra specific help\n",
    "```"
   ]
  }
 ],
 "metadata": {
  "kernelspec": {
   "display_name": "Python 3",
   "language": "python",
   "name": "python3"
  },
  "language_info": {
   "codemirror_mode": {
    "name": "ipython",
    "version": 3
   },
   "file_extension": ".py",
   "mimetype": "text/x-python",
   "name": "python",
   "nbconvert_exporter": "python",
   "pygments_lexer": "ipython3",
   "version": "3.7.3"
  }
 },
 "nbformat": 4,
 "nbformat_minor": 2
}
