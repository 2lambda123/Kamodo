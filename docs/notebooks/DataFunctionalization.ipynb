{
 "cells": [
  {
   "cell_type": "markdown",
   "id": "28ab81b3",
   "metadata": {},
   "source": [
    "# Data Functionalization\n",
    "This notebook shows how to use the Functionalize_Dataset function to easily functionalize a given dataset. See the first cell for details on the function execution."
   ]
  },
  {
   "cell_type": "markdown",
   "id": "9b6a4374",
   "metadata": {},
   "source": [
    "## How to functionalize data\n",
    "The example below shows the creation of the inputs, including example datasets with 7 dimensions. Any number of dimensions can be functionalized."
   ]
  },
  {
   "cell_type": "code",
   "execution_count": 1,
   "id": "4e733846",
   "metadata": {},
   "outputs": [
    {
     "name": "stdout",
     "output_type": "stream",
     "text": [
      "Help on function Functionalize_Dataset in module kamodo_ccmc.flythrough.functionalize:\n",
      "\n",
      "Functionalize_Dataset(coord_dict, data_dict, kamodo_object=None, coord_str='')\n",
      "    Determine and call the correct functionalize routine.\n",
      "    Inputs:\n",
      "        coord_dict: a dictionary containing the coordinate information.\n",
      "            {'name_of_coord1': {'units': 'coord1_units', 'data': coord1_data},\n",
      "             'name_of_coord2': {'units': 'coord2_units', 'data': coord2_data},\n",
      "             etc...}\n",
      "            coordX_data should be a 1D array. All others should be strings.\n",
      "        data_dict: a dictionary containing the data information.\n",
      "            {'variable_name1': {'units': 'data1_units', 'data': data1_array},\n",
      "             'variable_name2': {'units': 'data2_units', 'data': data2_array},\n",
      "             etc...}\n",
      "            dataX_array should have the same shape as\n",
      "                (coord1, coord2, coord3, ..., coordN)\n",
      "        Note:The datasets given in the data_dict dictionary should all have the\n",
      "            same dimensions. Datasets with different dimensions can be\n",
      "            functionalized by simply calling the function again with the other\n",
      "            dataset and the associated coordinate arrays. The datasets must\n",
      "            also EACH depend upon ALL of the coordinate arrays given.\n",
      "        coord_str: a string indicating the coordinate system of the data\n",
      "            (e.g. \"SMcar\" or \"GEOsph\").\n",
      "        kamodo_object: the previously created kamodo object. If one is not\n",
      "            given, then one will be created.\n",
      "    \n",
      "    Output: A kamodo object with the functionalized dataset.\n",
      "    \n",
      "    This is similar to RU.Functionalize_Dataset, except only the gridded\n",
      "        interpolator is registered.\n",
      "\n"
     ]
    }
   ],
   "source": [
    "from kamodo_ccmc.flythrough.functionalize import Functionalize_Dataset\n",
    "help(Functionalize_Dataset)"
   ]
  },
  {
   "cell_type": "code",
   "execution_count": 2,
   "id": "f16438bc",
   "metadata": {},
   "outputs": [
    {
     "data": {
      "text/latex": [
       "\\begin{equation}\\operatorname{Test_{7D}}(time[hr],lon[deg],lat[deg],radius[R_{E}],nonsense[1],nope[m],nada[hPa])[S] = \\lambda{\\left(time,lon,lat,radius,nonsense,nope,nada \\right)}\\end{equation} \\begin{equation}\\operatorname{Good_{7D}}(time[hr],lon[deg],lat[deg],radius[R_{E}],nonsense[1],nope[m],nada[hPa])[mK] = \\lambda{\\left(time,lon,lat,radius,nonsense,nope,nada \\right)}\\end{equation}"
      ],
      "text/plain": [
       "{Test_7D(time, lon, lat, radius, nonsense, nope, nada): <function gridify.<locals>.decorator_gridify.<locals>.wrapped at 0x000001D7EF8DC0D8>, Test_7D: <function gridify.<locals>.decorator_gridify.<locals>.wrapped at 0x000001D7EF8DC0D8>, Good_7D(time, lon, lat, radius, nonsense, nope, nada): <function gridify.<locals>.decorator_gridify.<locals>.wrapped at 0x000001D7EF8DCD38>, Good_7D: <function gridify.<locals>.decorator_gridify.<locals>.wrapped at 0x000001D7EF8DCD38>}"
      ]
     },
     "execution_count": 2,
     "metadata": {},
     "output_type": "execute_result"
    }
   ],
   "source": [
    "# Example of functionalizing a 7D array\n",
    "import numpy as np\n",
    "rng1 = np.random.RandomState(1)  # Seed the random generators differently\n",
    "rng2 = np.random.RandomState(2)  # or the arrays created below will be identical.\n",
    "coord_dict = {'time': {'units': 'hr', 'data': np.linspace(0., 24., 25)},\n",
    "              'lon': {'units': 'deg', 'data': np.linspace(-180., 180., 12)},\n",
    "              'lat': {'units': 'deg', 'data': np.linspace(-90., 90., 5)},\n",
    "              'radius': {'units': 'R_E', 'data': np.linspace(0., 50., 10)},\n",
    "              'nonsense': {'units': 'm/m', 'data': np.linspace(1., 15., 15)},\n",
    "              'nope': {'units': 'm', 'data': np.linspace(1., 150., 25)},\n",
    "              'nada': {'units': 'hPa', 'data': np.linspace(0.00005, 15000., 20)}}\n",
    "var_dict = {'Test_7D': {'units': 'S', 'data': rng1.rand(25, 12, 5, 10, 15, 25, 20)},\n",
    "            'Good_7D': {'units': 'mK', 'data': rng2.rand(25, 12, 5, 10, 15, 25, 20)}}\n",
    "kamodo_object = Functionalize_Dataset(coord_dict, var_dict)\n",
    "kamodo_object"
   ]
  },
  {
   "cell_type": "markdown",
   "id": "50185ad2",
   "metadata": {},
   "source": [
    "## Generating a generic 1D Plot\n",
    "Plot a 1D slice of all the variables by choosing a slice value in all but one dimension. \n",
    "```py\n",
    "kamodo_object.plot('Test_7D', 'Good_7D', plot_partial={\n",
    "    'Test_7D': {'time': 12., 'lon': 0.5, 'lat': -20., 'radius': 15., 'nonsense': 11.5, 'nope': 5.},\n",
    "    'Good_7D': {'time': 12., 'lon': 0.5, 'lat': -20., 'radius': 15., 'nonsense': 11.5, 'nope': 5.}})\n",
    "```\n",
    "![Screenshot](Files/DataFunctionalization_1DSlice.png)"
   ]
  },
  {
   "cell_type": "markdown",
   "id": "404b2263",
   "metadata": {},
   "source": [
    "## Generating a generic 2D Plot\n",
    "Plot a 2D slice of one variable by choosing a slice value in all but two dimensions.\n",
    "```py\n",
    "kamodo_object.plot('Test_7D', plot_partial={\n",
    "    'Test_7D': {'time': 12., 'lon': 0.5, 'lat': -20., 'radius': 15., 'nonsense': 11.5}})\n",
    "```\n",
    "![Screenshot](Files/DataFunctionalization_2DSlice.png)"
   ]
  },
  {
   "cell_type": "markdown",
   "id": "37805134",
   "metadata": {},
   "source": [
    "## Adding new functionalized datasets to a kamodo object"
   ]
  },
  {
   "cell_type": "code",
   "execution_count": 3,
   "id": "3cf6a9c2",
   "metadata": {},
   "outputs": [
    {
     "data": {
      "text/latex": [
       "\\begin{equation}\\operatorname{Test_{7D}}(time[hr],lon[deg],lat[deg],radius[R_{E}],nonsense[1],nope[m],nada[hPa])[S] = \\lambda{\\left(time,lon,lat,radius,nonsense,nope,nada \\right)}\\end{equation} \\begin{equation}\\operatorname{Good_{7D}}(time[hr],lon[deg],lat[deg],radius[R_{E}],nonsense[1],nope[m],nada[hPa])[mK] = \\lambda{\\left(time,lon,lat,radius,nonsense,nope,nada \\right)}\\end{equation} \\begin{equation}\\operatorname{Test_{1D}}(time[hr])[S] = \\lambda{\\left(time \\right)}\\end{equation} \\begin{equation}\\operatorname{Good_{1D}}(time[hr])[mK] = \\lambda{\\left(time \\right)}\\end{equation}"
      ],
      "text/plain": [
       "{Test_7D(time, lon, lat, radius, nonsense, nope, nada): <function gridify.<locals>.decorator_gridify.<locals>.wrapped at 0x000001D7EF8DC0D8>, Test_7D: <function gridify.<locals>.decorator_gridify.<locals>.wrapped at 0x000001D7EF8DC0D8>, Good_7D(time, lon, lat, radius, nonsense, nope, nada): <function gridify.<locals>.decorator_gridify.<locals>.wrapped at 0x000001D7EF8DCD38>, Good_7D: <function gridify.<locals>.decorator_gridify.<locals>.wrapped at 0x000001D7EF8DCD38>, Test_1D(time): <function gridify.<locals>.decorator_gridify.<locals>.wrapped at 0x000001D8254F09D8>, Test_1D: <function gridify.<locals>.decorator_gridify.<locals>.wrapped at 0x000001D8254F09D8>, Good_1D(time): <function gridify.<locals>.decorator_gridify.<locals>.wrapped at 0x000001D8253A3438>, Good_1D: <function gridify.<locals>.decorator_gridify.<locals>.wrapped at 0x000001D8253A3438>}"
      ]
     },
     "execution_count": 3,
     "metadata": {},
     "output_type": "execute_result"
    }
   ],
   "source": [
    "# You can add datasets of other dimensions to the same kamodo_object.\n",
    "coord_dict = {'time': {'units': 'hr', 'data': np.linspace(0., 24., 25)}}\n",
    "var_dict = {'Test_1D': {'units': 'S', 'data': rng1.rand(25)},\n",
    "            'Good_1D': {'units': 'mK', 'data': rng2.rand(25)}}\n",
    "kamodo_object = Functionalize_Dataset(coord_dict, var_dict, kamodo_object)\n",
    "kamodo_object"
   ]
  },
  {
   "cell_type": "markdown",
   "id": "ffda8016",
   "metadata": {},
   "source": [
    "You can plot all of the functions on the same plot as long as the independent\n",
    "variable is the same (time in this example).\n",
    "```py\n",
    "kamodo_object.plot('Test_1D', 'Good_1D', 'Test_7D', 'Good_7D', plot_partial={\n",
    "    'Test_7D': {'lon': 0.5, 'lat': -20., 'radius': 15., 'nonsense': 11.5, 'nope': 5., 'nada': 12.},\n",
    "    'Good_7D': {'lon': 0.5, 'lat': -20., 'radius': 15., 'nonsense': 11.5, 'nope': 5., 'nada': 12.}})\n",
    "```\n",
    "![Screenshot](Files/DataFunctionalization_1DSliceAll.png)"
   ]
  },
  {
   "cell_type": "markdown",
   "id": "5b523fc1",
   "metadata": {},
   "source": [
    "## Metadata functions"
   ]
  },
  {
   "cell_type": "code",
   "execution_count": 4,
   "id": "7d4a2bda",
   "metadata": {},
   "outputs": [
    {
     "data": {
      "text/plain": [
       "{'units': 'S',\n",
       " 'arg_units': {'time': 'hr'},\n",
       " 'citation': None,\n",
       " 'equation': None,\n",
       " 'hidden_args': []}"
      ]
     },
     "execution_count": 4,
     "metadata": {},
     "output_type": "execute_result"
    }
   ],
   "source": [
    "# Access the metadata\n",
    "kamodo_object['Test_1D'].meta"
   ]
  },
  {
   "cell_type": "code",
   "execution_count": 5,
   "id": "9214105d",
   "metadata": {},
   "outputs": [
    {
     "data": {
      "text/plain": [
       "{'units': 'S',\n",
       " 'arg_units': {'time': 'hr'},\n",
       " 'citation': 'Ringuette et al. 2022',\n",
       " 'equation': None,\n",
       " 'hidden_args': [],\n",
       " 'description': 'Testing the functionalize.py script'}"
      ]
     },
     "execution_count": 5,
     "metadata": {},
     "output_type": "execute_result"
    }
   ],
   "source": [
    "# Add to the metadata\n",
    "kamodo_object['Test_1D'].meta['description'] = 'Testing the functionalize.py script'\n",
    "kamodo_object['Test_1D'].meta['citation'] = 'Ringuette et al. 2022'\n",
    "kamodo_object['Test_1D'].meta"
   ]
  },
  {
   "cell_type": "code",
   "execution_count": 6,
   "id": "41b22fc3",
   "metadata": {},
   "outputs": [
    {
     "data": {
      "text/html": [
       "<div>\n",
       "<style scoped>\n",
       "    .dataframe tbody tr th:only-of-type {\n",
       "        vertical-align: middle;\n",
       "    }\n",
       "\n",
       "    .dataframe tbody tr th {\n",
       "        vertical-align: top;\n",
       "    }\n",
       "\n",
       "    .dataframe thead th {\n",
       "        text-align: right;\n",
       "    }\n",
       "</style>\n",
       "<table border=\"1\" class=\"dataframe\">\n",
       "  <thead>\n",
       "    <tr style=\"text-align: right;\">\n",
       "      <th></th>\n",
       "      <th>symbol</th>\n",
       "      <th>units</th>\n",
       "      <th>lhs</th>\n",
       "      <th>rhs</th>\n",
       "      <th>arg_units</th>\n",
       "    </tr>\n",
       "  </thead>\n",
       "  <tbody>\n",
       "    <tr>\n",
       "      <th>Test_7D</th>\n",
       "      <td>Test_7D(time, lon, lat, radius, nonsense, nope...</td>\n",
       "      <td>S</td>\n",
       "      <td>Test_7D</td>\n",
       "      <td>lambda(time, lon, lat, radius, nonsense, nope,...</td>\n",
       "      <td>{'time': 'hr', 'lon': 'deg', 'lat': 'deg', 'ra...</td>\n",
       "    </tr>\n",
       "    <tr>\n",
       "      <th>Good_7D</th>\n",
       "      <td>Good_7D(time, lon, lat, radius, nonsense, nope...</td>\n",
       "      <td>mK</td>\n",
       "      <td>Good_7D</td>\n",
       "      <td>lambda(time, lon, lat, radius, nonsense, nope,...</td>\n",
       "      <td>{'time': 'hr', 'lon': 'deg', 'lat': 'deg', 'ra...</td>\n",
       "    </tr>\n",
       "    <tr>\n",
       "      <th>Test_1D</th>\n",
       "      <td>Test_1D(time)</td>\n",
       "      <td>S</td>\n",
       "      <td>Test_1D</td>\n",
       "      <td>lambda(time)</td>\n",
       "      <td>{'time': 'hr'}</td>\n",
       "    </tr>\n",
       "    <tr>\n",
       "      <th>Good_1D</th>\n",
       "      <td>Good_1D(time)</td>\n",
       "      <td>mK</td>\n",
       "      <td>Good_1D</td>\n",
       "      <td>lambda(time)</td>\n",
       "      <td>{'time': 'hr'}</td>\n",
       "    </tr>\n",
       "  </tbody>\n",
       "</table>\n",
       "</div>"
      ],
      "text/plain": [
       "                                                    symbol units      lhs  \\\n",
       "Test_7D  Test_7D(time, lon, lat, radius, nonsense, nope...     S  Test_7D   \n",
       "Good_7D  Good_7D(time, lon, lat, radius, nonsense, nope...    mK  Good_7D   \n",
       "Test_1D                                      Test_1D(time)     S  Test_1D   \n",
       "Good_1D                                      Good_1D(time)    mK  Good_1D   \n",
       "\n",
       "                                                       rhs  \\\n",
       "Test_7D  lambda(time, lon, lat, radius, nonsense, nope,...   \n",
       "Good_7D  lambda(time, lon, lat, radius, nonsense, nope,...   \n",
       "Test_1D                                       lambda(time)   \n",
       "Good_1D                                       lambda(time)   \n",
       "\n",
       "                                                 arg_units  \n",
       "Test_7D  {'time': 'hr', 'lon': 'deg', 'lat': 'deg', 'ra...  \n",
       "Good_7D  {'time': 'hr', 'lon': 'deg', 'lat': 'deg', 'ra...  \n",
       "Test_1D                                     {'time': 'hr'}  \n",
       "Good_1D                                     {'time': 'hr'}  "
      ]
     },
     "execution_count": 6,
     "metadata": {},
     "output_type": "execute_result"
    }
   ],
   "source": [
    "# See a pandas format output\n",
    "kamodo_object.detail()"
   ]
  },
  {
   "cell_type": "code",
   "execution_count": 7,
   "id": "6c90b736",
   "metadata": {},
   "outputs": [
    {
     "name": "stdout",
     "output_type": "stream",
     "text": [
      "The minimum and maximum values for each variable and coordinate are:\n",
      "Test_7D:\n",
      "time: [0.0, 24.0, 'hr']\n",
      "lon: [-180.0, 180.0, 'deg']\n",
      "lat: [-90.0, 90.0, 'deg']\n",
      "radius: [0.0, 50.0, 'R_E']\n",
      "nonsense: [1.0, 15.0, 'm/m']\n",
      "nope: [1.0, 150.0, 'm']\n",
      "nada: [5e-05, 15000.0, 'hPa']\n"
     ]
    }
   ],
   "source": [
    "# Determine the dependent coordinates and the coordinate ranges\n",
    "import kamodo_ccmc.flythrough.model_wrapper as MW\n",
    "MW.Coord_Range(kamodo_object, ['Test_7D'])"
   ]
  }
 ],
 "metadata": {
  "kernelspec": {
   "display_name": "Python 3 (ipykernel)",
   "language": "python",
   "name": "python3"
  },
  "language_info": {
   "codemirror_mode": {
    "name": "ipython",
    "version": 3
   },
   "file_extension": ".py",
   "mimetype": "text/x-python",
   "name": "python",
   "nbconvert_exporter": "python",
   "pygments_lexer": "ipython3",
   "version": "3.7.16"
  }
 },
 "nbformat": 4,
 "nbformat_minor": 5
}
