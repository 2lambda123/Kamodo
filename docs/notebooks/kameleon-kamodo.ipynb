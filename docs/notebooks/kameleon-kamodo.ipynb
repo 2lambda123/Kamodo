{
 "cells": [
  {
   "cell_type": "markdown",
   "metadata": {},
   "source": [
    "# Purpose\n",
    "\n",
    "This notebook tracks development of a wrapper for the kameleon software suite to support legacy ccmc models until python 3 model readers become available. \n",
    "\n",
    "This notebook should be executed from a python3 environment with kamodo installed."
   ]
  },
  {
   "cell_type": "code",
   "execution_count": 2,
   "metadata": {},
   "outputs": [
    {
     "name": "stdout",
     "output_type": "stream",
     "text": [
      "/Users/apembrok/miniconda3/envs/kamodo/bin/python\r\n"
     ]
    }
   ],
   "source": [
    "!which python"
   ]
  },
  {
   "cell_type": "code",
   "execution_count": 3,
   "metadata": {},
   "outputs": [
    {
     "name": "stdout",
     "output_type": "stream",
     "text": [
      "Python 3.7.3\r\n"
     ]
    }
   ],
   "source": [
    "!python --version"
   ]
  },
  {
   "cell_type": "code",
   "execution_count": 62,
   "metadata": {},
   "outputs": [],
   "source": [
    "from kamodo import kamodofy"
   ]
  },
  {
   "cell_type": "code",
   "execution_count": 45,
   "metadata": {},
   "outputs": [
    {
     "name": "stdout",
     "output_type": "stream",
     "text": [
      "/Users/apembrok/Work/Kameleon_Sample_Data/LFM/Nov2015.LFM.S1-OF_mhd_2002-09-30T03-16-00Z.cdf opened\n"
     ]
    }
   ],
   "source": [
    "from kamodo import Kamodo, kamodofy\n",
    "from kameleon import kameleon_gateway\n",
    "\n",
    "import execnet\n",
    "\n",
    "class Kameleon(Kamodo):\n",
    "    def __init__(self, filename, python_path, *variables, **kwargs):\n",
    "        \n",
    "        self._current_file = filename\n",
    "        self._python_path = python_path\n",
    "        self.make_gateway()\n",
    "        \n",
    "        self.open_file(filename, *variables)\n",
    "        \n",
    "        super(Kameleon, self).__init__(**kwargs)\n",
    "        \n",
    "        self.make_interpolators()\n",
    "        \n",
    "        \n",
    "    def get_coords(self):\n",
    "        \"\"\"Extracts coordinate list from grid_system_1 metadata:\n",
    "            STRING: grid_system_1: [X,Y,Z]\n",
    "        '\"\"\"\n",
    "        coords = self._metadata['grid_system_1'].split(':')[-1].strip()\n",
    "        coords = ''.join(c for c in coords if c not in '[]') # remove brackets\n",
    "        coords = [c.strip().lower() for c in coords.split(',')]\n",
    "        return coords\n",
    "        \n",
    "    def make_gateway(self):\n",
    "        \"\"\"Create a gateway into python installed with kameleon\"\"\"\n",
    "        gateway_spec = 'popen//dont_write_bytecode//python={}'.format(self._python_path)\n",
    "        self._gw = execnet.makegateway(gateway_spec)\n",
    "        self._ch = self._gw.remote_exec(kameleon_gateway)\n",
    "        \n",
    "    def open_file(self, file_name, *variables):\n",
    "        args = [file_name] + list(variables)\n",
    "        cmd_args = \", \".join([\"'{}'\".format(s) for s in args])\n",
    "        cmd = \"initialize({})\".format(cmd_args)\n",
    "        try:\n",
    "            self._ch.send(cmd) # execute func-call remotely\n",
    "        except self._ch.RemoteError as m:\n",
    "            print(m)\n",
    "            \n",
    "        try:\n",
    "            self._metadata = self._ch.receive()\n",
    "            for variable_name in variables:\n",
    "                assert variable_name in self._metadata['variables']\n",
    "            # sort variable metadata in the same order as input\n",
    "            self._metadata['variables'] = {variable : self._metadata['variables'][variable] \\\n",
    "                                           for variable in variables}\n",
    "            \n",
    "            self._current_file = file_name\n",
    "        except:\n",
    "            print('could not open file')\n",
    "            print('offending command:\\n\\t{}'.format(cmd))\n",
    "            print(self._metadata)\n",
    "        print('{} opened'.format(file_name))\n",
    "        \n",
    "        \n",
    "    def interpolate(self, variable_name, c0, c1, c2):\n",
    "\n",
    "        self._ch.send(\"interpolate('{}',{},{},{})\".format(variable_name, c0, c1, c2))\n",
    "\n",
    "        return self._ch.receive()\n",
    "\n",
    "    def make_interpolators(self):\n",
    "        for variable, metadata in self._metadata['variables'].items():\n",
    "            coords = self.get_coords()\n",
    "            units = metadata['units']\n",
    "            exec_str = \"\"\"def interpolate({components}):\n",
    "                package = '{varname}', {c0}, {c1}, {c2}\n",
    "                self._ch.send(package)\n",
    "                return self._ch.receive()\n",
    "            \"\"\".format(components = ', '.join(coords),\n",
    "                      varname = variable,\n",
    "                      c0 = coords[0],\n",
    "                      c1 = coords[1],\n",
    "                      c2 = coords[2])\n",
    "            d = {'self':self}\n",
    "            exec(exec_str, d)\n",
    "            interp_func = d['interpolate']\n",
    "            self[variable] = kamodofy(interp_func, units = units)\n",
    "\n",
    "# may need to specify the full path to lfm, else file doesn't load correctly\n",
    "fname = '/Users/apembrok/Work/Kameleon_Sample_Data/LFM/Nov2015.LFM.S1-OF_mhd_2002-09-30T03-16-00Z.cdf'\n",
    "python_path = '/Users/apembrok/miniconda2/envs/klive/bin/python'\n",
    "kameleon = Kameleon(fname, python_path, 'rho', 'p', 'bx','by','bz')\n",
    "        "
   ]
  },
  {
   "cell_type": "code",
   "execution_count": 46,
   "metadata": {},
   "outputs": [
    {
     "data": {
      "text/latex": [
       "\\begin{equation}\\rho{\\left(x,y,z \\right)} [amu/cm^3] = \\lambda{\\left(x,y,z \\right)}\\end{equation}\\begin{equation}p{\\left(x,y,z \\right)} [nPa] = \\lambda{\\left(x,y,z \\right)}\\end{equation}\\begin{equation}\\operatorname{bx}{\\left(x,y,z \\right)} [nT] = \\lambda{\\left(x,y,z \\right)}\\end{equation}\\begin{equation}\\operatorname{by}{\\left(x,y,z \\right)} [nT] = \\lambda{\\left(x,y,z \\right)}\\end{equation}\\begin{equation}\\operatorname{bz}{\\left(x,y,z \\right)} [nT] = \\lambda{\\left(x,y,z \\right)}\\end{equation}"
      ],
      "text/plain": [
       "Kameleon([(rho(x, y, z), <function interpolate(x, y, z)>),\n",
       "          (rho, <function interpolate(x, y, z)>),\n",
       "          (p(x, y, z), <function interpolate(x, y, z)>),\n",
       "          (p, <function interpolate(x, y, z)>),\n",
       "          (bx(x, y, z), <function interpolate(x, y, z)>),\n",
       "          (bx, <function interpolate(x, y, z)>),\n",
       "          (by(x, y, z), <function interpolate(x, y, z)>),\n",
       "          (by, <function interpolate(x, y, z)>),\n",
       "          (bz(x, y, z), <function interpolate(x, y, z)>),\n",
       "          (bz, <function interpolate(x, y, z)>)])"
      ]
     },
     "execution_count": 46,
     "metadata": {},
     "output_type": "execute_result"
    }
   ],
   "source": [
    "kameleon"
   ]
  },
  {
   "cell_type": "code",
   "execution_count": 47,
   "metadata": {},
   "outputs": [
    {
     "data": {
      "text/plain": [
       "0.005562467034906149"
      ]
     },
     "execution_count": 47,
     "metadata": {},
     "output_type": "execute_result"
    }
   ],
   "source": [
    "kameleon.p(-30,0,0)"
   ]
  },
  {
   "cell_type": "code",
   "execution_count": 48,
   "metadata": {},
   "outputs": [
    {
     "data": {
      "text/plain": [
       "0.3747256398200989"
      ]
     },
     "execution_count": 48,
     "metadata": {},
     "output_type": "execute_result"
    }
   ],
   "source": [
    "kameleon.rho(-30,0,0)"
   ]
  },
  {
   "cell_type": "code",
   "execution_count": 49,
   "metadata": {},
   "outputs": [
    {
     "data": {
      "text/plain": [
       "-14.527422904968262"
      ]
     },
     "execution_count": 49,
     "metadata": {},
     "output_type": "execute_result"
    }
   ],
   "source": [
    "kameleon.bx(-30, 0, 0)"
   ]
  },
  {
   "cell_type": "code",
   "execution_count": 1,
   "metadata": {},
   "outputs": [],
   "source": [
    "%load_ext autoreload\n",
    "\n",
    "%autoreload 2"
   ]
  },
  {
   "cell_type": "code",
   "execution_count": null,
   "metadata": {},
   "outputs": [],
   "source": []
  }
 ],
 "metadata": {
  "kernelspec": {
   "display_name": "Python 3",
   "language": "python",
   "name": "python3"
  },
  "language_info": {
   "codemirror_mode": {
    "name": "ipython",
    "version": 3
   },
   "file_extension": ".py",
   "mimetype": "text/x-python",
   "name": "python",
   "nbconvert_exporter": "python",
   "pygments_lexer": "ipython3",
   "version": "3.7.3"
  }
 },
 "nbformat": 4,
 "nbformat_minor": 2
}
