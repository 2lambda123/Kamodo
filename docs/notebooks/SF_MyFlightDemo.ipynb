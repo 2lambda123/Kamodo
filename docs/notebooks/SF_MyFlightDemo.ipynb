{
 "cells": [
  {
   "cell_type": "markdown",
   "id": "96b62478",
   "metadata": {},
   "source": [
    "# Demo notebook for Kamodo Flythrough \"MyFlight\" function\n",
    "The MyFlight function flies a trajectory from a file through the chosen model data. The file must be formatted to match the csv/nc/txt file examples given.\n",
    "You may run the notebook as is if you have the sample data file, but you must\n",
    "change the 'file_dir', 'output_name', and 'plot_output' variables in block 3 to have the correct file path. The output file must be deleted before rerunning the notebook."
   ]
  },
  {
   "cell_type": "code",
   "execution_count": null,
   "id": "statewide-animation",
   "metadata": {},
   "outputs": [],
   "source": [
    "# Import satellite flythrough code\n",
    "from kamodo_ccmc.flythrough import SatelliteFlythrough as SF\n",
    "import kamodo_ccmc.flythrough.model_wrapper as MW\n",
    "# The testing data file is available at https://ccmc.gsfc.nasa.gov/RoR_WWW/output_files/KAMODO_DEMO/"
   ]
  },
  {
   "cell_type": "code",
   "execution_count": null,
   "id": "9f2b28b9",
   "metadata": {
    "scrolled": true
   },
   "outputs": [],
   "source": [
    "help(SF.MyFlight)"
   ]
  },
  {
   "cell_type": "code",
   "execution_count": null,
   "id": "reflected-aggregate",
   "metadata": {},
   "outputs": [],
   "source": [
    "# Choosing input values for MyFlight function call\n",
    "# ----------------------------  \n",
    "model = 'TIEGCM'  # Choose which model to view the example for\n",
    "file_dir = 'C:/Users/rringuet/Kamodo_Data/TIEGCM/Data/'  # full file path to where the model output data is stored\n",
    "traj_file = 'C:/Users/rringuet/Kamodo_env/FakeFlightExample_TIEGCM.csv'\n",
    "# Change the traj_file name and path to match your system\n",
    "variable_list = ['rho','T_n','Sigma_H']  # list of desired variable names.\n",
    "# Not all variables in the list will be available in the file(s) found.\n",
    "\n",
    "# Choose naming convention for output files\n",
    "output_name = 'C:/Users/rringuet/Kamodo_env/MyFlightExample_TIEGCM.txt' \n",
    "plot_coord = 'GSE'  # Coordinate system chosen for output plots\n",
    "# See https://sscweb.gsfc.nasa.gov/users_guide/Appendix_C.shtml for a description of coordinate types"
   ]
  },
  {
   "cell_type": "code",
   "execution_count": null,
   "id": "affecting-electronics",
   "metadata": {
    "scrolled": true
   },
   "outputs": [],
   "source": [
    "# Run MyFlight with user-supplied trajectory\n",
    "results = SF.MyFlight(traj_file, model, file_dir, variable_list,\n",
    "                      output_name=output_name, plot_coord=plot_coord)\n",
    "# Open plots in separate internet browser window for interactivity. Nothing will open here."
   ]
  },
  {
   "cell_type": "code",
   "execution_count": null,
   "id": "informed-biology",
   "metadata": {},
   "outputs": [],
   "source": []
  }
 ],
 "metadata": {
  "kernelspec": {
   "display_name": "Python 3 (ipykernel)",
   "language": "python",
   "name": "python3"
  },
  "language_info": {
   "codemirror_mode": {
    "name": "ipython",
    "version": 3
   },
   "file_extension": ".py",
   "mimetype": "text/x-python",
   "name": "python",
   "nbconvert_exporter": "python",
   "pygments_lexer": "ipython3",
   "version": "3.7.13"
  }
 },
 "nbformat": 4,
 "nbformat_minor": 5
}
