{
 "cells": [
  {
   "cell_type": "markdown",
   "id": "e9980461",
   "metadata": {},
   "source": [
    "# Demo notebook for Flythrough: Comparing Data from Multiple Models\n",
    "The RealFlight function flies a real satellite trajectory through the chosen model data.\n",
    "You may run the notebook as is if you have the sample data files, but you must\n",
    "change the 'file_dir' variables in block 3 to have the correct file path. This notebook also demonstrates how to functionalize the data returned from the RealFlight function, which is the same for the data returned from any Kamodo Flythrough function."
   ]
  },
  {
   "cell_type": "code",
   "execution_count": null,
   "id": "statewide-animation",
   "metadata": {},
   "outputs": [],
   "source": [
    "# Import satellite flythrough code\n",
    "from kamodo_ccmc.flythrough import SatelliteFlythrough as SF\n",
    "import kamodo_ccmc.flythrough.model_wrapper as MW"
   ]
  },
  {
   "cell_type": "code",
   "execution_count": null,
   "id": "reflected-aggregate",
   "metadata": {},
   "outputs": [],
   "source": [
    "# Choose input values for RealFlight function call\n",
    "modelA, file_dirA = 'CTIPe', 'C:/Users/rringuet/Kamodo_Data/CTIPe/Storm_201303/'\n",
    "modelB, file_dirB = 'GITM', 'C:/Users/rringuet/Kamodo_Data/GITM/Storm_201303/'\n",
    "dataset = 'cnofs'\n",
    "start_utcts, end_utcts = 1363392000, 1363478400\n",
    "variable_list = ['T_i']  #list of desired variable names\n",
    "coord_type = 'GEO'  #GEO cartesian coordinate system for trajectory.\n",
    "\n",
    "# perform flythrough for both models and functionalize.\n",
    "resultsA = SF.RealFlight(dataset, start_utcts, end_utcts, modelA, file_dirA, \n",
    "                         variable_list, coord_type=coord_type)\n",
    "resultsB = SF.RealFlight(dataset, start_utcts, end_utcts, modelB, file_dirB, \n",
    "                         variable_list, coord_type=coord_type)\n",
    "kamodo_objectA = SF.WO.Functionalize_SFResults(modelA, resultsA)\n",
    "kamodo_objectB = SF.WO.Functionalize_SFResults(modelB, resultsB)\n",
    "kamodo_objectA"
   ]
  },
  {
   "cell_type": "code",
   "execution_count": null,
   "id": "d125a12f",
   "metadata": {},
   "outputs": [],
   "source": [
    "# Combine into one kamodo object.\n",
    "from kamodo import Kamodo\n",
    "kamodo_object = Kamodo()\n",
    "kamodo_object['CTIPeT_i[K]'] = kamodo_objectA['T_i']\n",
    "kamodo_object['GITMT_i[K]'] = kamodo_objectB['T_i']\n",
    "# Perform analysis.\n",
    "kamodo_object['DIFF[K]'] = 'abs(CTIPeT_i-GITMT_i)'\n",
    "kamodo_object['MEAN[K]'] = '2 * CTIPeT_i * GITMT_i/(CTIPeT_i + GITMT_i)'\n",
    "kamodo_object"
   ]
  },
  {
   "cell_type": "code",
   "execution_count": null,
   "id": "6f12ce89",
   "metadata": {},
   "outputs": [],
   "source": [
    "# plot.\n",
    "kamodo_object.plot('CTIPeT_i', 'GITMT_i', 'DIFF', 'MEAN')"
   ]
  },
  {
   "cell_type": "code",
   "execution_count": null,
   "id": "21349dff",
   "metadata": {},
   "outputs": [],
   "source": []
  }
 ],
 "metadata": {
  "kernelspec": {
   "display_name": "Python 3 (ipykernel)",
   "language": "python",
   "name": "python3"
  },
  "language_info": {
   "codemirror_mode": {
    "name": "ipython",
    "version": 3
   },
   "file_extension": ".py",
   "mimetype": "text/x-python",
   "name": "python",
   "nbconvert_exporter": "python",
   "pygments_lexer": "ipython3",
   "version": "3.7.13"
  }
 },
 "nbformat": 4,
 "nbformat_minor": 5
}
