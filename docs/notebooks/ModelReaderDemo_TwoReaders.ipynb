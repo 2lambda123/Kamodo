{
 "cells": [
  {
   "cell_type": "markdown",
   "metadata": {},
   "source": [
    "# Demo notebook for Two Model Readers"
   ]
  },
  {
   "cell_type": "code",
   "execution_count": null,
   "metadata": {},
   "outputs": [],
   "source": [
    "import kamodo_ccmc.flythrough.model_wrapper as MW\n",
    "MW.Choose_Model('')  # Show list of models currently available"
   ]
  },
  {
   "cell_type": "code",
   "execution_count": null,
   "metadata": {},
   "outputs": [],
   "source": [
    "# Retrieve model reader and access model data for the GITM model.\n",
    "import kamodo_ccmc.flythrough.model_wrapper as MW\n",
    "reader = MW.Model_Reader('CTIPe')\n",
    "file_dir = 'C:/Users/rringuet/Kamodo_Data/CTIPe/Storm_201303/'\n",
    "kamodo_object_ctipe = reader(file_dir+'2013-03-16', variables_requested=['T_i'])\n",
    "kamodo_object_ctipe"
   ]
  },
  {
   "cell_type": "code",
   "execution_count": null,
   "metadata": {},
   "outputs": [],
   "source": [
    "# Retrieve model reader and access model data for the GITM model.\n",
    "# Note the identical syntax!\n",
    "import kamodo_ccmc.flythrough.model_wrapper as MW\n",
    "reader = MW.Model_Reader('GITM')\n",
    "file_dir = 'C:/Users/rringuet/Kamodo_Data/GITM/Storm_201303/'\n",
    "kamodo_object_gitm = reader(file_dir+'*130316', variables_requested=['T_i'])\n",
    "kamodo_object_gitm"
   ]
  },
  {
   "cell_type": "code",
   "execution_count": null,
   "metadata": {},
   "outputs": [],
   "source": [
    "# Plot both at chosen time and height\n",
    "from kamodo import Kamodo\n",
    "kamodo_object = Kamodo()\n",
    "kamodo_object['CTIPeT_i[K]'] = kamodo_object_ctipe['T_i_ijk']\n",
    "kamodo_object['GITMT_i[K]'] = kamodo_object_gitm['T_i_ijk']\n",
    "kamodo_object"
   ]
  },
  {
   "cell_type": "code",
   "execution_count": null,
   "metadata": {},
   "outputs": [],
   "source": [
    "fig = kamodo_object.plot('CTIPeT_i', plot_partial={'CTIPeT_i': {'time': 12., 'height': 500.}})\n",
    "fig.update_traces(colorscale=\"Viridis\", ncontours=200, \n",
    "                  contours=dict(coloring=\"fill\",showlines=False))\n",
    "fig"
   ]
  },
  {
   "cell_type": "code",
   "execution_count": null,
   "metadata": {},
   "outputs": [],
   "source": [
    "fig = kamodo_object.plot('GITMT_i', plot_partial={'GITMT_i': {'time': 12., 'height': 500.}})\n",
    "fig.update_traces(colorscale=\"Viridis\", ncontours=200, \n",
    "                  contours=dict(coloring=\"fill\",showlines=False))\n",
    "fig"
   ]
  },
  {
   "cell_type": "code",
   "execution_count": null,
   "metadata": {},
   "outputs": [],
   "source": [
    "# Demostrate syntax to access the regular interpolator\n",
    "# Best for single point calculations\n",
    "kamodo_object_ctipe.T_i([12, -20, 20, 500])"
   ]
  },
  {
   "cell_type": "code",
   "execution_count": null,
   "metadata": {},
   "outputs": [],
   "source": [
    "# Demostrate syntax to access the gridded interpolator\n",
    "# Best for slice calculations\n",
    "kamodo_object_ctipe.T_i_ijk(time=12, lon=-20, lat=20, height=500)"
   ]
  },
  {
   "cell_type": "code",
   "execution_count": null,
   "metadata": {},
   "outputs": [],
   "source": []
  }
 ],
 "metadata": {
  "kernelspec": {
   "display_name": "Python 3 (ipykernel)",
   "language": "python",
   "name": "python3"
  },
  "language_info": {
   "codemirror_mode": {
    "name": "ipython",
    "version": 3
   },
   "file_extension": ".py",
   "mimetype": "text/x-python",
   "name": "python",
   "nbconvert_exporter": "python",
   "pygments_lexer": "ipython3",
   "version": "3.7.13"
  }
 },
 "nbformat": 4,
 "nbformat_minor": 2
}
