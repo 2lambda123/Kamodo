{
 "cells": [
  {
   "cell_type": "markdown",
   "metadata": {},
   "source": [
    "# Demo notebook for Two Model Readers\n",
    "For each model reader, the user is shown how to find the desired variables across model results, how to determine what the correct file input is for the model's reader, and how to run the reader. Note the syntax for each is identical. Any differences in inputs are easily accessible to the user through the methods shown."
   ]
  },
  {
   "cell_type": "code",
   "execution_count": null,
   "metadata": {},
   "outputs": [],
   "source": [
    "import kamodo_ccmc.flythrough.model_wrapper as MW\n",
    "MW.Choose_Model('')  # Show list of models currently available"
   ]
  },
  {
   "cell_type": "code",
   "execution_count": null,
   "metadata": {},
   "outputs": [],
   "source": [
    "# Find the desired variable\n",
    "help(MW.Variable_Search)"
   ]
  },
  {
   "cell_type": "code",
   "execution_count": null,
   "metadata": {
    "scrolled": true
   },
   "outputs": [],
   "source": [
    "# Find what model has the variables...\n",
    "MW.Variable_Search('temperature')"
   ]
  },
  {
   "cell_type": "code",
   "execution_count": null,
   "metadata": {},
   "outputs": [],
   "source": [
    "# then add the model name and file_dir to find which files have the variables.\n",
    "# Usually of the files for a given model run have the same variables.\n",
    "ctipe_file_dir = 'C:/Users/rringuet/Kamodo_Data/CTIPe/Storm_201303/'\n",
    "MW.Variable_Search('temperature', model='CTIPe', file_dir=ctipe_file_dir)"
   ]
  },
  {
   "cell_type": "code",
   "execution_count": null,
   "metadata": {},
   "outputs": [],
   "source": [
    "# Find correct input file pattern for the reader\n",
    "ctipe_files = MW.FileSearch('CTIPe', ctipe_file_dir)\n",
    "ctipe_files"
   ]
  },
  {
   "cell_type": "code",
   "execution_count": null,
   "metadata": {},
   "outputs": [],
   "source": [
    "# Retrieve model reader and access model data for the CTIPe model.\n",
    "# Note the variable chosen depends on pressure level, but the user\n",
    "# does not need to know that to be able to retrieve and interact with it.\n",
    "reader = MW.Model_Reader('CTIPe')\n",
    "kamodo_object_ctipe = reader(ctipe_files[1],\n",
    "                             variables_requested=['T_n'])\n",
    "kamodo_object_ctipe"
   ]
  },
  {
   "cell_type": "code",
   "execution_count": null,
   "metadata": {},
   "outputs": [],
   "source": [
    "# Find related variables in the GITM data\n",
    "gitm_file_dir = 'C:/Users/rringuet/Kamodo_Data/GITM/Storm_201303/'\n",
    "MW.Variable_Search('temperature', model='GITM', file_dir=gitm_file_dir)"
   ]
  },
  {
   "cell_type": "code",
   "execution_count": null,
   "metadata": {},
   "outputs": [],
   "source": [
    "# Find correct file pattern for the reader\n",
    "gitm_file_dir = 'C:/Users/rringuet/Kamodo_Data/GITM/Storm_201303/'\n",
    "gitm_files = MW.FileSearch('GITM', gitm_file_dir)\n",
    "gitm_files"
   ]
  },
  {
   "cell_type": "code",
   "execution_count": null,
   "metadata": {},
   "outputs": [],
   "source": [
    "# Retrieve model reader and access model data for the GITM model.\n",
    "# Note the identical syntax!\n",
    "reader = MW.Model_Reader('GITM')\n",
    "kamodo_object_gitm = reader(gitm_files[0],\n",
    "                            variables_requested=['T_n'])\n",
    "kamodo_object_gitm"
   ]
  },
  {
   "cell_type": "code",
   "execution_count": null,
   "metadata": {},
   "outputs": [],
   "source": [
    "# Collect functions into a single Kamodo object\n",
    "from kamodo import Kamodo\n",
    "kamodo_object = Kamodo()\n",
    "kamodo_object['CTIPeT_n[K]'] = kamodo_object_ctipe['T_n_ijk']\n",
    "kamodo_object['GITMT_n[K]'] = kamodo_object_gitm['T_n_ijk']\n",
    "kamodo_object"
   ]
  },
  {
   "cell_type": "code",
   "execution_count": null,
   "metadata": {},
   "outputs": [],
   "source": [
    "# Find the range for each coordinate for the ctipe function to aid in plotting choices.\n",
    "# Note that this only works on gridded functions (e.g. '_ijk' functions).\n",
    "from kamodo import get_defaults\n",
    "ctipe_defaults = get_defaults(kamodo_object.CTIPeT_n)\n",
    "for key in ctipe_defaults:\n",
    "    print(key, ctipe_defaults[key].min(), ctipe_defaults[key].max())"
   ]
  },
  {
   "cell_type": "code",
   "execution_count": null,
   "metadata": {},
   "outputs": [],
   "source": [
    "# Repeat to find the range for each coordinate for the gitm function.\n",
    "# Note the difference in height ranges.\n",
    "gitm_defaults = get_defaults(kamodo_object.GITMT_n)\n",
    "for key in gitm_defaults:\n",
    "    print(key, gitm_defaults[key].min(), gitm_defaults[key].max())"
   ]
  },
  {
   "cell_type": "code",
   "execution_count": null,
   "metadata": {},
   "outputs": [],
   "source": [
    "# Plot each. Note that the user can automatically slice a pressure level variable by height!\n",
    "# Areas of the grid where the height is greater than the pressure level will be blank.\n",
    "fig = kamodo_object.plot('CTIPeT_n', plot_partial={'CTIPeT_n': {'time': 12., 'height': 350.}})\n",
    "fig.update_traces(colorscale=\"Viridis\", ncontours=200, \n",
    "                  contours=dict(coloring=\"fill\",showlines=False))\n",
    "fig"
   ]
  },
  {
   "cell_type": "code",
   "execution_count": null,
   "metadata": {},
   "outputs": [],
   "source": [
    "fig = kamodo_object.plot('GITMT_n', plot_partial={'GITMT_n': {'time': 12., 'height': 350.}})\n",
    "fig.update_traces(colorscale=\"Viridis\", ncontours=200, \n",
    "                  contours=dict(coloring=\"fill\",showlines=False))\n",
    "fig"
   ]
  },
  {
   "cell_type": "code",
   "execution_count": null,
   "metadata": {},
   "outputs": [],
   "source": [
    "# Example of a default Kamodo plot\n",
    "kamodo_object.plot('GITMT_n', plot_partial={'GITMT_n': {'time': 12., 'height': 350.}})"
   ]
  },
  {
   "cell_type": "code",
   "execution_count": null,
   "metadata": {},
   "outputs": [],
   "source": [
    "# Directly compare corresponding slices.\n",
    "kamodo_object.plot('CTIPeT_n', 'GITMT_n',\n",
    "                   plot_partial={'CTIPeT_n': {'time': 12., 'lat': 25., 'height': 350.},\n",
    "                                 'GITMT_n': {'time': 12., 'lat': 25., 'height': 350.}})"
   ]
  },
  {
   "cell_type": "code",
   "execution_count": null,
   "metadata": {},
   "outputs": [],
   "source": [
    "# Demostrate syntax to access the regular interpolator\n",
    "# Best for single point calculations\n",
    "kamodo_object_ctipe.T_n([12, -20, 20, 350])"
   ]
  },
  {
   "cell_type": "code",
   "execution_count": null,
   "metadata": {},
   "outputs": [],
   "source": [
    "# Demostrate syntax to access the gridded interpolator\n",
    "# Best for slice calculations\n",
    "kamodo_object_ctipe.T_n_ijk(time=12, lon=-20, lat=20, height=350)"
   ]
  },
  {
   "cell_type": "code",
   "execution_count": null,
   "metadata": {},
   "outputs": [],
   "source": [
    "# At what pressure level does a given height correspond to in the CTIPe data?\n",
    "# The answer depends on the time, longitude, and latitude.\n",
    "kamodo_object_ctipe.Plev_ijk(time=12, lon=-20, lat=20, height=350)"
   ]
  },
  {
   "cell_type": "code",
   "execution_count": null,
   "metadata": {},
   "outputs": [],
   "source": [
    "# How does the corresponding pressure level vary at a given latitude and time?\n",
    "kamodo_object_ctipe.plot('Plev_ijk', plot_partial={'Plev_ijk': {'time': 12., 'lat': 20.,\n",
    "                                                                'height': 350.}})"
   ]
  },
  {
   "cell_type": "code",
   "execution_count": null,
   "metadata": {},
   "outputs": [],
   "source": []
  }
 ],
 "metadata": {
  "kernelspec": {
   "display_name": "Python 3 (ipykernel)",
   "language": "python",
   "name": "python3"
  },
  "language_info": {
   "codemirror_mode": {
    "name": "ipython",
    "version": 3
   },
   "file_extension": ".py",
   "mimetype": "text/x-python",
   "name": "python",
   "nbconvert_exporter": "python",
   "pygments_lexer": "ipython3",
   "version": "3.7.13"
  }
 },
 "nbformat": 4,
 "nbformat_minor": 2
}
