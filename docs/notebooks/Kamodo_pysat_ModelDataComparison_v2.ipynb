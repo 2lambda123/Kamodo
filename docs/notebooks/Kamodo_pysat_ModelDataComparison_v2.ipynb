{
 "cells": [
  {
   "cell_type": "code",
   "execution_count": null,
   "id": "b357d738",
   "metadata": {
    "scrolled": true
   },
   "outputs": [],
   "source": [
    "from kamodo_ccmc.flythrough import SatelliteFlythrough as SF\n",
    "import datetime as dt\n",
    "\n",
    "# Set input values for RealFlight function call.\n",
    "model = 'TIEGCM'\n",
    "file_dir = 'C:/Users/rringuet/Kamodo_Data/TIEGCM/Uriel_Ramirez_012517_IT_1/'\n",
    "dataset = 'cnofs'\n",
    "start_utcts = dt.datetime(2015, 3, 18, 0).replace(tzinfo=dt.timezone.utc).timestamp()\n",
    "end_utcts = dt.datetime(2015, 3, 21, 0).replace(tzinfo=dt.timezone.utc).timestamp()-1\n",
    "variable_list = ['T_i'] # list of desired variable names\n",
    "coord_type = 'GEO'  # GEO cartesian coordinates for the trajectory.\n",
    "results = SF.RealFlight(dataset, start_utcts, end_utcts, model, file_dir, \n",
    "                        variable_list, coord_type)\n",
    "\n",
    "# Functionalize the results\n",
    "kamodo_object = SF.WO.Functionalize_SFResults(model,results)\n",
    "kamodo_object"
   ]
  },
  {
   "cell_type": "code",
   "execution_count": null,
   "id": "9424d56b",
   "metadata": {},
   "outputs": [],
   "source": [
    "# Get CINDI ion temperature data using pysat.\n",
    "import pysat  # pip install pysat\n",
    "import pysatNASA  # pip install pysatNASA\n",
    "\n",
    "pysat_datadir = 'C:/Users/rringuet/Kamodo_Data/pysat_data/'\n",
    "# pysat.params['data_dirs'] = pysat_datadir\n",
    "pysat.utils.registry.register(['pysatNASA.instruments.cnofs_ivm'])\n",
    "ivm = pysat.Instrument('cnofs', 'ivm', inst_id='', clean_level='clean')\n",
    "start_download_date = dt.datetime.utcfromtimestamp(start_utcts)\n",
    "stop_download_date = dt.datetime.utcfromtimestamp(end_utcts)\n",
    "# ivm.download(start_download_date, stop_download_date)  # already on machine\n",
    "ivm.load(date=start_download_date, end_date=stop_download_date)"
   ]
  },
  {
   "cell_type": "code",
   "execution_count": null,
   "id": "9b453e4e",
   "metadata": {},
   "outputs": [],
   "source": [
    "# Convert pandas timestamps into utc timestamps\n",
    "import numpy as np\n",
    "utc_time = ivm.index.values.astype(np.int64)/1e9\n",
    "\n",
    "# Add to kamodo object.\n",
    "kamodo_object = SF.WO.Functionalize_TimeSeries(utc_time, 'CINDIT_i', 'K', \n",
    "                                               ivm.data['ionTemperature'].values, \n",
    "                                               kamodo_object)\n",
    "kamodo_object['DIFF'] = 'abs(CINDIT_i - T_i)'\n",
    "kamodo_object"
   ]
  },
  {
   "cell_type": "code",
   "execution_count": null,
   "id": "67f9b7da",
   "metadata": {},
   "outputs": [],
   "source": [
    "# Now we can plot model and data on the same figure with the difference\n",
    "kamodo_object.plot('T_i','CINDIT_i','DIFF')"
   ]
  },
  {
   "cell_type": "code",
   "execution_count": null,
   "id": "22830941",
   "metadata": {},
   "outputs": [],
   "source": []
  }
 ],
 "metadata": {
  "kernelspec": {
   "display_name": "Python 3 (ipykernel)",
   "language": "python",
   "name": "python3"
  },
  "language_info": {
   "codemirror_mode": {
    "name": "ipython",
    "version": 3
   },
   "file_extension": ".py",
   "mimetype": "text/x-python",
   "name": "python",
   "nbconvert_exporter": "python",
   "pygments_lexer": "ipython3",
   "version": "3.7.13"
  }
 },
 "nbformat": 4,
 "nbformat_minor": 5
}
