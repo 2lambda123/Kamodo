{
 "cells": [
  {
   "cell_type": "markdown",
   "metadata": {},
   "source": [
    "# Demo notebook for Model Reader - TIEGCM Example\n",
    "See Block 3 for instructions. You may run the notebook as is if you have the sample data file, but you must\n",
    "change the 'filename' variable in block 3 to have the correct file path."
   ]
  },
  {
   "cell_type": "code",
   "execution_count": null,
   "metadata": {},
   "outputs": [],
   "source": [
    "# import block\n",
    "import numpy as np\n",
    "from kamodo_ccmc.readers.tiegcm_4D import MODEL, model_varnames\n",
    "# Alternatively, can import reader with below logic:\n",
    "# from kamodo_ccmc.flythrough.model_wrapper import Choose_Model\n",
    "# module = Choose_Model('TIEGCM')   #leave input empty to retrieve a list of possible models\n",
    "reader = MODEL()"
   ]
  },
  {
   "cell_type": "code",
   "execution_count": null,
   "metadata": {
    "scrolled": true
   },
   "outputs": [],
   "source": [
    "# Print possible variable names for given model\n",
    "# Not all variables will be available in a given output file\n",
    "print('Standardized variables:\\n---------------------------')\n",
    "for key in model_varnames.keys():\n",
    "    print(model_varnames[key][0]+':', model_varnames[key][1:])\n",
    "# variable name, description, variable number, coordinate type, coordinate grid, list of coordinate names, units of data\n",
    "# For more information on the coordinate systems indicated below, see kamodo_ccmc.flythrough.utils.ConvertCoord in the \n",
    "#  coordinate tutorial notebook."
   ]
  },
  {
   "cell_type": "code",
   "execution_count": null,
   "metadata": {},
   "outputs": [],
   "source": [
    "# Print all available variables in the file selected\n",
    "filename = 'C:/Users/rringuet/Kamodo_Data/TIEGCM/Data/s001.nc'  #TIEGCM file doesn't have any 3D variables\n",
    "# Change the filename to reflect the path on your machine.\n",
    "# This file is available at https://drive.google.com/file/d/1pHx9Q8v4vO59_RUMX-SJqYv_-dE3h-st/view?usp=sharing\n",
    "# For model readers that produce more than one file per day, the input 'filename' is the naming pattern\n",
    "# e.g. for the CTIPe reader: filename = 'C:/Users/rringuet/Kamodo_WinDev1/CTIPe/Data/2015-03-20'\n",
    "\n",
    "kamodo_object = reader(filename, fulltime=False, variables_requested='all')\n",
    "for key in kamodo_object.var_dict.keys():\n",
    "    print(key, kamodo_object.var_dict[key])"
   ]
  },
  {
   "cell_type": "code",
   "execution_count": null,
   "metadata": {
    "scrolled": false
   },
   "outputs": [],
   "source": [
    "# Demonstrate various function call methods. \n",
    "# INSTRUCTIONS:\n",
    "# Comment out all but one 'kamodo_object' line and rerun entire notbook to test function call variations.\n",
    "\n",
    "# Default function call: functionalize all variables, INcluding gridded versions\n",
    "# kamodo_object = reader(filename)  # (gridded_int=True is default)\n",
    "\n",
    "# Option 1: functionalize all variables, EXcluding gridded versions\n",
    "# kamodo_object = reader(filename, gridded_int=False)  \n",
    "\n",
    "# Option 2: functionalize variables in list, INcluding gridded versions\n",
    "kamodo_object = reader(filename, variables_requested=['T_n','TEC','psi_N2'])  \n",
    "\n",
    "# Option 3: load a single variable without gridded version, and include the name of run\n",
    "# kamodo_object = reader(filename, variables_requested=['T_n'], gridded_int=False, runname='Testing')  \n",
    "print()\n",
    "\n",
    "# Show functionalized variables in kamodo object\n",
    "# Notes: \n",
    "# - Without the gridded function versions, there are no indications of the coordinate type (cartesian vs spherical)\n",
    "#       Cartesian coordinate variables are always in R_earth units.\n",
    "#       Spherical variables are typically (deg, deg, R_earth), sometimes (deg, deg, km). \n",
    "#       The next code block shows how to check this.\n",
    "# - All variable names are case-sensitive\n",
    "# - Requesting variables that are NOT in the list above triggers a printed message: '... name not recognized'\n",
    "# - Requesting variables that ARE in the list above but not in the file triggers a printed message: '...not available'\n",
    "# - If none of the variables requested are in the file, the kamodo_object variable will be empty and the remaining\n",
    "#       code blocks will error.\n",
    "# - Any pressure level variables that the requested variables depend on are automatically included\n",
    "kamodo_object"
   ]
  },
  {
   "cell_type": "code",
   "execution_count": null,
   "metadata": {},
   "outputs": [],
   "source": [
    "# Method to show variable coordinate dependencies for non-gridded variables (variables without 'ijk' as a subscript)\n",
    "# Notice these are in spherical coordinates. \n",
    "# In this case, all variables depend on various pressure level grids (ilev, ilev1, milev), which have no units.\n",
    "test_var = list(kamodo_object.variables.keys())[0]  # choose first variable in kamodo object to show functionality.\n",
    "print(kamodo_object.variables[test_var]['xvec'])  # for one variable\n",
    "# for key in kamodo_object.variables.keys(): print(key, kamodo_object.variables[key]['xvec'])  # for all variables"
   ]
  },
  {
   "cell_type": "code",
   "execution_count": null,
   "metadata": {},
   "outputs": [],
   "source": [
    "# Method to show variable coordinate dependencies for a gridded variable\n",
    "# Notice these are in spherical coordinates. \n",
    "# In this case, all variables depend on various pressure level grids (ilev, ilev1, milev), which have no units.\n",
    "if test_var+'_ijk' not in kamodo_object.variables.keys():\n",
    "    print('Gridded version of function not found.')\n",
    "    grid_var = test_var\n",
    "else: grid_var = test_var+'_ijk'\n",
    "kamodo_object[grid_var]  #for one variable"
   ]
  },
  {
   "cell_type": "code",
   "execution_count": null,
   "metadata": {},
   "outputs": [],
   "source": [
    "# Show how to retrieve beginning and ending time values included in model data output in various formats\n",
    "print('UTC timestamp:',kamodo_object.filetimes)  # UTC timestamps\n",
    "print('Python datetime object:',kamodo_object.filedate)  # python datetime object in UTC for file date (standard is midnight)\n",
    "print('Datetime string:',kamodo_object.datetimes)  # string representation in 'YYYY-MM-DD HH:MM:SS' format"
   ]
  },
  {
   "cell_type": "code",
   "execution_count": null,
   "metadata": {},
   "outputs": [],
   "source": [
    "# Plot.\n",
    "kamodo_object.plot('T_n_ijk', plot_partial={'T_n_ijk': {'time': 2.5, 'ilev': 5.}})"
   ]
  },
  {
   "cell_type": "code",
   "execution_count": null,
   "metadata": {},
   "outputs": [],
   "source": [
    "# Example of interpolation command for a regular function\n",
    "kamodo_object[test_var]((2.5, -20.5, -20.5, 3.4))"
   ]
  },
  {
   "cell_type": "code",
   "execution_count": null,
   "metadata": {},
   "outputs": [],
   "source": [
    "# Example of interpolation command for a gridded function\n",
    "# This will fail if the gridded variable was not created.\n",
    "# The value will be the same as the previous block's result\n",
    "kamodo_object[test_var+'_ijk'](2.5, -20.5, -20.5, 3.4)"
   ]
  },
  {
   "cell_type": "code",
   "execution_count": null,
   "metadata": {},
   "outputs": [],
   "source": []
  }
 ],
 "metadata": {
  "kernelspec": {
   "display_name": "Python 3 (ipykernel)",
   "language": "python",
   "name": "python3"
  },
  "language_info": {
   "codemirror_mode": {
    "name": "ipython",
    "version": 3
   },
   "file_extension": ".py",
   "mimetype": "text/x-python",
   "name": "python",
   "nbconvert_exporter": "python",
   "pygments_lexer": "ipython3",
   "version": "3.7.13"
  }
 },
 "nbformat": 4,
 "nbformat_minor": 2
}
