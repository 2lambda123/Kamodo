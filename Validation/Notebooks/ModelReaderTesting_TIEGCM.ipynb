{
 "cells": [
  {
   "cell_type": "markdown",
   "metadata": {},
   "source": [
    "# Demo notebook for Model Reader"
   ]
  },
  {
   "cell_type": "code",
   "execution_count": null,
   "metadata": {},
   "outputs": [],
   "source": [
    "# Delete the time files before running.\n",
    "model = 'TIEGCM'\n",
    "variables_requested = ['T_n', 'rho', 'TEC', 'H_milev']\n",
    "# change file path to where data is stored on your machine\n",
    "file_dir = 'C:/Users/rringuet/Kamodo_Data/TIEGCM/Uriel_Ramirez_012517_IT_1/'\n",
    "from os.path import isfile\n",
    "from os import remove\n",
    "if isfile(file_dir+model+'_times.txt'):\n",
    "    remove(file_dir+model+'_times.txt')\n",
    "if isfile(file_dir+model+'_list.txt'):\n",
    "    remove(file_dir+model+'_list.txt')"
   ]
  },
  {
   "cell_type": "code",
   "execution_count": null,
   "metadata": {},
   "outputs": [],
   "source": [
    "# Check that time files creation works, that reader works for one variable,\n",
    "# and that an unknown variable request does not break it.\n",
    "import kamodo_ccmc.flythrough.model_wrapper as MW\n",
    "reader = MW.Model_Reader(model)\n",
    "kamodo_object = reader(file_dir, variables_requested=['Trash'])\n",
    "kamodo_object"
   ]
  },
  {
   "cell_type": "code",
   "execution_count": null,
   "metadata": {},
   "outputs": [],
   "source": [
    "# Check that reading the time files works and that reader works for one variable,\n",
    "kamodo_object = reader(file_dir, variables_requested=['T_n'])\n",
    "kamodo_object"
   ]
  },
  {
   "cell_type": "code",
   "execution_count": null,
   "metadata": {},
   "outputs": [],
   "source": [
    "# Confirm that interpolation works\n",
    "print(kamodo_object.T_n([5.2, 10., 60., 350.]))\n",
    "print(kamodo_object.T_n_ijk(time=5.2, lon=10., lat=60., height=350.))\n",
    "print(kamodo_object.T_n_ijk(time=5.2, lon=10).shape)"
   ]
  },
  {
   "cell_type": "code",
   "execution_count": null,
   "metadata": {},
   "outputs": [],
   "source": [
    "# Check that reading the time files works, and that the reader works for all variables\n",
    "kamodo_object = reader(file_dir)\n",
    "kamodo_object"
   ]
  },
  {
   "cell_type": "code",
   "execution_count": null,
   "metadata": {},
   "outputs": [],
   "source": [
    "# Check that the kamodo object was built properly.\n",
    "print(kamodo_object.T_n([5.2, 10., 60., 350.]))"
   ]
  },
  {
   "cell_type": "code",
   "execution_count": null,
   "metadata": {},
   "outputs": [],
   "source": [
    "# Check that the reader works for the testing subset\n",
    "kamodo_object = reader(file_dir, variables_requested=variables_requested)\n",
    "kamodo_object"
   ]
  },
  {
   "cell_type": "code",
   "execution_count": null,
   "metadata": {},
   "outputs": [],
   "source": [
    "# Confirm that the interpolator works for each testing variable and type\n",
    "print(kamodo_object.T_n([5.2, 10., 60., 350.]))\n",
    "print(kamodo_object.T_n_ijk(time=5.2, lon=10., lat=60., height=350.))\n",
    "print(kamodo_object.T_n([5.2, 10., 60., 350.]) == kamodo_object.T_n_ijk(time=5.2, lon=10., lat=60., height=350.))\n",
    "print(kamodo_object.T_n_ijk(time=5.2, lon=10.).shape)\n",
    "print(kamodo_object.rho([5.2, 10., 60., 350.]))\n",
    "print(kamodo_object.rho_ijk(time=5.2, lon=10., lat=60., height=350.))\n",
    "print(kamodo_object.rho([5.2, 10., 60., 350.]) == kamodo_object.rho_ijk(time=5.2, lon=10., lat=60., height=350.))\n",
    "print(kamodo_object.rho_ijk(time=5.2, lon=10.).shape)\n",
    "print(kamodo_object.TEC([5.2, 10., 60.]))\n",
    "print(kamodo_object.TEC_ijk(time=5.2, lon=10., lat=60.))\n",
    "print(kamodo_object.TEC([5.2, 10., 60.]) == kamodo_object.TEC_ijk(time=5.2, lon=10., lat=60.))\n",
    "print(kamodo_object.TEC_ijk(time=5.2).shape)\n",
    "print(kamodo_object.H_milev([5.2, 10., 60., 5.2]))\n",
    "print(kamodo_object.H_milev_ijk(time=5.2, mlon=10., mlat=60., milev=5.2))\n",
    "print(kamodo_object.H_milev([5.2, 10., 60., 5.2]) == kamodo_object.H_milev_ijk(time=5.2, mlon=10., mlat=60., milev=5.2))\n",
    "print(kamodo_object.H_milev_ijk(time=5.2, mlon=10.).shape)"
   ]
  },
  {
   "cell_type": "code",
   "execution_count": null,
   "metadata": {},
   "outputs": [],
   "source": [
    "from kamodo import get_defaults\n",
    "for var in variables_requested:\n",
    "    print('\\n', var)\n",
    "    defaults = get_defaults(kamodo_object[var])\n",
    "    for key in defaults:\n",
    "        print(key, len(defaults[key]))\n",
    "        for item in defaults[key]:\n",
    "            print(item)\n",
    "    defaults_ijk = get_defaults(kamodo_object[var+'_ijk'])\n",
    "    for key in defaults_ijk:\n",
    "        print(key, len(defaults_ijk[key]), defaults_ijk[key].min(), defaults_ijk[key].max())\n",
    "kamodo_object.filedate"
   ]
  },
  {
   "cell_type": "code",
   "execution_count": null,
   "metadata": {},
   "outputs": [],
   "source": [
    "fig = kamodo_object.plot('T_n_ijk', plot_partial={'T_n_ijk': {'time': 40., 'height': 200.}})\n",
    "fig.update_traces(colorscale=\"Viridis\", ncontours=200, contours=dict(coloring=\"fill\", showlines=False))\n",
    "fig"
   ]
  },
  {
   "cell_type": "code",
   "execution_count": null,
   "metadata": {},
   "outputs": [],
   "source": [
    "fig = kamodo_object.plot('T_n_ijk', plot_partial={'T_n_ijk': {'lat': 10., 'lon': -20.}})\n",
    "fig.update_traces(colorscale=\"Viridis\", ncontours=200, contours=dict(coloring=\"fill\", showlines=False))\n",
    "fig"
   ]
  },
  {
   "cell_type": "code",
   "execution_count": null,
   "metadata": {},
   "outputs": [],
   "source": [
    "fig = kamodo_object.plot('TEC_ijk', plot_partial={'TEC_ijk': {'time': 30.1}})\n",
    "fig.update_traces(colorscale=\"Viridis\", ncontours=200, contours=dict(coloring=\"fill\", showlines=False))\n",
    "fig"
   ]
  },
  {
   "cell_type": "code",
   "execution_count": null,
   "metadata": {},
   "outputs": [],
   "source": [
    "fig = kamodo_object.plot('TEC_ijk', plot_partial={'TEC_ijk': {'lon': 30.1}})\n",
    "fig.update_traces(colorscale=\"Viridis\", ncontours=200, contours=dict(coloring=\"fill\", showlines=False))\n",
    "fig"
   ]
  },
  {
   "cell_type": "code",
   "execution_count": null,
   "metadata": {},
   "outputs": [],
   "source": [
    "fig = kamodo_object.plot('rho_ijk', plot_partial={'rho_ijk': {'time': 40., 'height': 200.}})\n",
    "fig.update_traces(colorscale=\"Viridis\", ncontours=200, contours=dict(coloring=\"fill\", showlines=False))\n",
    "fig"
   ]
  },
  {
   "cell_type": "code",
   "execution_count": null,
   "metadata": {},
   "outputs": [],
   "source": [
    "from kamodo_ccmc.readers.reader_utilities import toLog10\n",
    "fig = kamodo_object.plot('rho_ijk', plot_partial={'rho_ijk': {'lat': 10., 'lon': -20.}})\n",
    "fig.update_traces(colorscale=\"Viridis\", ncontours=200, contours=dict(coloring=\"fill\", showlines=False))\n",
    "fig = toLog10(fig)\n",
    "fig"
   ]
  },
  {
   "cell_type": "code",
   "execution_count": null,
   "metadata": {},
   "outputs": [],
   "source": [
    "fig = kamodo_object.plot('H_milev_ijk', plot_partial={'H_milev_ijk': {'time': 40., 'milev': 5.1}})\n",
    "fig.update_traces(colorscale=\"Viridis\", ncontours=200, contours=dict(coloring=\"fill\", showlines=False))\n",
    "fig"
   ]
  },
  {
   "cell_type": "code",
   "execution_count": null,
   "metadata": {},
   "outputs": [],
   "source": [
    "fig = kamodo_object.plot('H_milev_ijk', plot_partial={'H_milev_ijk': {'mlon': 40., 'mlat': 10.1}})\n",
    "fig.update_traces(colorscale=\"Viridis\", ncontours=200, contours=dict(coloring=\"fill\", showlines=False))\n",
    "fig"
   ]
  },
  {
   "cell_type": "code",
   "execution_count": null,
   "metadata": {},
   "outputs": [],
   "source": [
    "MW.Variable_Search('density')"
   ]
  },
  {
   "cell_type": "code",
   "execution_count": null,
   "metadata": {},
   "outputs": [],
   "source": [
    "MW.Variable_Search('density', model)"
   ]
  },
  {
   "cell_type": "code",
   "execution_count": null,
   "metadata": {},
   "outputs": [],
   "source": [
    "MW.Variable_Search('density', model, file_dir)"
   ]
  },
  {
   "cell_type": "code",
   "execution_count": null,
   "metadata": {},
   "outputs": [],
   "source": [
    "from kamodo_ccmc.flythrough import SatelliteFlythrough as SF\n",
    "import datetime as dt\n",
    "start_utcts = dt.datetime(2015, 3, 18, 10).replace(tzinfo=dt.timezone.utc).timestamp()\n",
    "end_utcts = dt.datetime(2015, 3, 19, 2).replace(tzinfo=dt.timezone.utc).timestamp()-1\n",
    "results = SF.ModelFlythrough(model, file_dir, ['T_n'], [start_utcts, end_utcts], [0., 180.], [60., -60.],\n",
    "                             [400., 400.], 'GDZ-sph')\n",
    "results['T_n']"
   ]
  },
  {
   "cell_type": "code",
   "execution_count": null,
   "metadata": {},
   "outputs": [],
   "source": [
    "results = SF.ModelFlythrough(model, file_dir, ['T_n'], [start_utcts], [0.], [60.],\n",
    "                             [400.], 'GDZ-sph')\n",
    "results['T_n']"
   ]
  },
  {
   "cell_type": "code",
   "execution_count": null,
   "metadata": {},
   "outputs": [],
   "source": []
  }
 ],
 "metadata": {
  "kernelspec": {
   "display_name": "Python 3 (ipykernel)",
   "language": "python",
   "name": "python3"
  },
  "language_info": {
   "codemirror_mode": {
    "name": "ipython",
    "version": 3
   },
   "file_extension": ".py",
   "mimetype": "text/x-python",
   "name": "python",
   "nbconvert_exporter": "python",
   "pygments_lexer": "ipython3",
   "version": "3.7.13"
  }
 },
 "nbformat": 4,
 "nbformat_minor": 2
}
