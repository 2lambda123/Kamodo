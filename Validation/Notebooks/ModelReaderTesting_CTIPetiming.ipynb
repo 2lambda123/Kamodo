{
 "cells": [
  {
   "cell_type": "markdown",
   "metadata": {},
   "source": [
    "# Demo notebook for Model Reader"
   ]
  },
  {
   "cell_type": "code",
   "execution_count": 1,
   "metadata": {
    "scrolled": true
   },
   "outputs": [
    {
     "name": "stdout",
     "output_type": "stream",
     "text": [
      "\n",
      "The file directory contains the following standardized variable names:\n",
      "-----------------------------------------------------------------------------------\n",
      "rho_ilev1 : '['total mass density', 0, 'GDZ', 'sph', ['time', 'lon', 'lat', 'ilev1'], 'kg/m**3']'\n",
      "rho : '['total mass density', 0, 'GDZ', 'sph', ['time', 'lon', 'lat', 'height'], 'kg/m**3']'\n",
      "T_ilev1 : '['temperature', 1, 'GDZ', 'sph', ['time', 'lon', 'lat', 'ilev1'], 'K']'\n",
      "T : '['temperature', 1, 'GDZ', 'sph', ['time', 'lon', 'lat', 'height'], 'K']'\n",
      "m_avgmol_ilev1 : '['mean molecular mass', 10, 'GDZ', 'sph', ['time', 'lon', 'lat', 'ilev1'], 'amu']'\n",
      "m_avgmol : '['mean molecular mass', 10, 'GDZ', 'sph', ['time', 'lon', 'lat', 'height'], 'amu']'\n",
      "H_ilev1 : '['height dependent on secondary pressure level', 5, 'GDZ', 'sph', ['time', 'lon', 'lat', 'ilev1'], 'm']'\n",
      "T_e : '['electron temperature', 2, 'GDZ', 'sph', ['time', 'lon', 'lat', 'height'], 'K']'\n",
      "T_i : '['ion temperature', 3, 'GDZ', 'sph', ['time', 'lon', 'lat', 'height'], 'K']'\n",
      "N_e : '['electron number density', 11, 'GDZ', 'sph', ['time', 'lon', 'lat', 'height'], '1/m**3']'\n",
      "N_Oplus : '['number density of atomic oxygen ion', 24, 'GDZ', 'sph', ['time', 'lon', 'lat', 'height'], '1/m**3']'\n",
      "N_Hplus : '['number density of atomic hydrogen ion', 25, 'GDZ', 'sph', ['time', 'lon', 'lat', 'height'], '1/m**3']'\n",
      "v_nnorth_ilev : '['meridional neutral wind velocity (north)', 6, 'GDZ', 'sph', ['time', 'lon', 'lat', 'ilev'], 'm/s']'\n",
      "v_nnorth : '['meridional neutral wind velocity (north)', 6, 'GDZ', 'sph', ['time', 'lon', 'lat', 'height'], 'm/s']'\n",
      "v_neast_ilev : '['zonal neutral wind velocity (east)', 7, 'GDZ', 'sph', ['time', 'lon', 'lat', 'ilev'], 'm/s']'\n",
      "v_neast : '['zonal neutral wind velocity (east)', 7, 'GDZ', 'sph', ['time', 'lon', 'lat', 'height'], 'm/s']'\n",
      "v_nup_ilev : '['vertical neutral wind velocity (up)', 8, 'GDZ', 'sph', ['time', 'lon', 'lat', 'ilev'], 'm/s']'\n",
      "v_nup : '['vertical neutral wind velocity (up)', 8, 'GDZ', 'sph', ['time', 'lon', 'lat', 'height'], 'm/s']'\n",
      "T_n_ilev : '['neutral temperature', 9, 'GDZ', 'sph', ['time', 'lon', 'lat', 'ilev'], 'K']'\n",
      "T_n : '['neutral temperature', 9, 'GDZ', 'sph', ['time', 'lon', 'lat', 'height'], 'K']'\n",
      "Q_Solar_ilev : '['solar heating', 13, 'GDZ', 'sph', ['time', 'lon', 'lat', 'ilev'], 'J/kg/s']'\n",
      "Q_Solar : '['solar heating', 13, 'GDZ', 'sph', ['time', 'lon', 'lat', 'height'], 'J/kg/s']'\n",
      "Q_Joule_ilev : '['joule heating', 14, 'GDZ', 'sph', ['time', 'lon', 'lat', 'ilev'], 'J/kg/s']'\n",
      "Q_Joule : '['joule heating', 14, 'GDZ', 'sph', ['time', 'lon', 'lat', 'height'], 'J/kg/s']'\n",
      "Q_rad_ilev : '['radiative heating or cooling', 15, 'GDZ', 'sph', ['time', 'lon', 'lat', 'ilev'], 'J/kg/s']'\n",
      "Q_rad : '['radiative heating or cooling', 15, 'GDZ', 'sph', ['time', 'lon', 'lat', 'height'], 'J/kg/s']'\n",
      "N_O_ilev : '['number density of atomic oxygen', 16, 'GDZ', 'sph', ['time', 'lon', 'lat', 'ilev'], '1/m**3']'\n",
      "N_O : '['number density of atomic oxygen', 16, 'GDZ', 'sph', ['time', 'lon', 'lat', 'height'], '1/m**3']'\n",
      "N_O2_ilev : '['number density of molecular oxygen', 17, 'GDZ', 'sph', ['time', 'lon', 'lat', 'ilev'], '1/m**3']'\n",
      "N_O2 : '['number density of molecular oxygen', 17, 'GDZ', 'sph', ['time', 'lon', 'lat', 'height'], '1/m**3']'\n",
      "N_N2_ilev : '['number density of molecular nitrogen', 18, 'GDZ', 'sph', ['time', 'lon', 'lat', 'ilev'], '1/m**3']'\n",
      "N_N2 : '['number density of molecular nitrogen', 18, 'GDZ', 'sph', ['time', 'lon', 'lat', 'height'], '1/m**3']'\n",
      "N_NO_ilev : '['number density of molecular nitric oxide', 19, 'GDZ', 'sph', ['time', 'lon', 'lat', 'ilev'], '1/m**3']'\n",
      "N_NO : '['number density of molecular nitric oxide', 19, 'GDZ', 'sph', ['time', 'lon', 'lat', 'height'], '1/m**3']'\n",
      "N_NOplus_ilev : '['number density of nitric oxide ion', 20, 'GDZ', 'sph', ['time', 'lon', 'lat', 'ilev'], '1/m**3']'\n",
      "N_NOplus : '['number density of nitric oxide ion', 20, 'GDZ', 'sph', ['time', 'lon', 'lat', 'height'], '1/m**3']'\n",
      "N_N2plus_ilev : '['number density of molecular nitrogen ion', 21, 'GDZ', 'sph', ['time', 'lon', 'lat', 'ilev'], '1/m**3']'\n",
      "N_N2plus : '['number density of molecular nitrogen ion', 21, 'GDZ', 'sph', ['time', 'lon', 'lat', 'height'], '1/m**3']'\n",
      "N_O2plus_ilev : '['number density of molecular oxygen ion', 22, 'GDZ', 'sph', ['time', 'lon', 'lat', 'ilev'], '1/m**3']'\n",
      "N_O2plus : '['number density of molecular oxygen ion', 22, 'GDZ', 'sph', ['time', 'lon', 'lat', 'height'], '1/m**3']'\n",
      "N_Nplus_ilev : '['number density of atomic nitrogen ion', 23, 'GDZ', 'sph', ['time', 'lon', 'lat', 'ilev'], '1/m**3']'\n",
      "N_Nplus : '['number density of atomic nitrogen ion', 23, 'GDZ', 'sph', ['time', 'lon', 'lat', 'height'], '1/m**3']'\n",
      "sigma_P_ilev : '['Pedersen conductivity', 26, 'GDZ', 'sph', ['time', 'lon', 'lat', 'ilev'], 'S/m']'\n",
      "sigma_P : '['Pedersen conductivity', 26, 'GDZ', 'sph', ['time', 'lon', 'lat', 'height'], 'S/m']'\n",
      "sigma_H_ilev : '['Hall conductivity', 27, 'GDZ', 'sph', ['time', 'lon', 'lat', 'ilev'], 'S/m']'\n",
      "sigma_H : '['Hall conductivity', 27, 'GDZ', 'sph', ['time', 'lon', 'lat', 'height'], 'S/m']'\n",
      "v_inorth_ilev : '['meridional ion wind velocity (north)', 28, 'GDZ', 'sph', ['time', 'lon', 'lat', 'ilev'], 'm/s']'\n",
      "v_inorth : '['meridional ion wind velocity (north)', 28, 'GDZ', 'sph', ['time', 'lon', 'lat', 'height'], 'm/s']'\n",
      "v_ieast_ilev : '['zonal ion wind velocity (east)', 29, 'GDZ', 'sph', ['time', 'lon', 'lat', 'ilev'], 'm/s']'\n",
      "v_ieast : '['zonal ion wind velocity (east)', 29, 'GDZ', 'sph', ['time', 'lon', 'lat', 'height'], 'm/s']'\n",
      "W_JouleH : '['height integrated joule heating', 30, 'GDZ', 'sph', ['time', 'lon', 'lat'], 'W/m**2']'\n",
      "Phi_E : '['energy flux', 31, 'GDZ', 'sph', ['time', 'lon', 'lat'], 'mW/m**2']'\n",
      "E_avg : '['average energy', 32, 'GDZ', 'sph', ['time', 'lon', 'lat'], 'keV']'\n",
      "TEC : '['vertical total electron content (height integrated from bottom to top boundary)', 33, 'GDZ', 'sph', ['time', 'lon', 'lat'], '1/m**2']'\n",
      "E_theta140km : '['Electric field at 140 km, theta component', 34, 'GDZ', 'sph', ['time', 'Elon', 'Elat'], 'V/m']'\n",
      "E_lambda140km : '['Electric field at 140 km, lambda component', 35, 'GDZ', 'sph', ['time', 'Elon', 'Elat'], 'V/m']'\n",
      "E_theta300km : '['Electric field at 300 km, theta component', 36, 'GDZ', 'sph', ['time', 'Elon', 'Elat'], 'V/m']'\n",
      "E_lambda300km : '['Electric field at 300 km, lambda component', 37, 'GDZ', 'sph', ['time', 'Elon', 'Elat'], 'V/m']'\n",
      "H_ilev : '['height dependent on primary pressure level', 4, 'GDZ', 'sph', ['time', 'lon', 'lat', 'ilev'], 'm']'\n"
     ]
    }
   ],
   "source": [
    "import kamodo_ccmc.flythrough.model_wrapper as MW\n",
    "model = 'CTIPe'\n",
    "# change file path to where data is stored on your machine\n",
    "file_dir = 'C:/Users/rringuet/Kamodo_Data/CTIPe/Data/'\n",
    "MW.Variable_Search('', model, file_dir)"
   ]
  },
  {
   "cell_type": "code",
   "execution_count": 14,
   "metadata": {},
   "outputs": [
    {
     "name": "stdout",
     "output_type": "stream",
     "text": [
      "4.520290799999998\n"
     ]
    },
    {
     "data": {
      "text/latex": [
       "\\begin{equation}\\operatorname{T_{e}}{\\left(\\vec{r}_{GDZsph4D} \\right)}[K] = \\lambda{\\left(\\vec{r}_{GDZsph4D} \\right)}\\end{equation} \\begin{equation}\\operatorname{T_{e ijk}}(time[hr],lon[deg],lat[deg],height[km])[K] = \\lambda{\\left(time,lon,lat,height \\right)}\\end{equation} \\begin{equation}\\operatorname{T_{i}}{\\left(\\vec{r}_{GDZsph4D} \\right)}[K] = \\lambda{\\left(\\vec{r}_{GDZsph4D} \\right)}\\end{equation} \\begin{equation}\\operatorname{T_{i ijk}}(time[hr],lon[deg],lat[deg],height[km])[K] = \\lambda{\\left(time,lon,lat,height \\right)}\\end{equation} \\begin{equation}\\operatorname{N_{e}}{\\left(\\vec{r}_{GDZsph4D} \\right)}[\\frac{1}{m^{3}}] = \\lambda{\\left(\\vec{r}_{GDZsph4D} \\right)}\\end{equation} \\begin{equation}\\operatorname{N_{e ijk}}(time[hr],lon[deg],lat[deg],ilev[1])[\\frac{1}{m^{3}}] = \\lambda{\\left(time,lon,lat,ilev \\right)}\\end{equation} \\begin{equation}\\operatorname{N_{O+}}{\\left(\\vec{r}_{GDZsph4D} \\right)}[\\frac{1}{m^{3}}] = \\lambda{\\left(\\vec{r}_{GDZsph4D} \\right)}\\end{equation} \\begin{equation}\\operatorname{N_{O+ ijk}}(time[hr],lon[deg],lat[deg],height[km])[\\frac{1}{m^{3}}] = \\lambda{\\left(time,lon,lat,height \\right)}\\end{equation} \\begin{equation}\\operatorname{N_{H+}}{\\left(\\vec{r}_{GDZsph4D} \\right)}[\\frac{1}{m^{3}}] = \\lambda{\\left(\\vec{r}_{GDZsph4D} \\right)}\\end{equation} \\begin{equation}\\operatorname{N_{H+ ijk}}(time[hr],lon[deg],lat[deg],height[km])[\\frac{1}{m^{3}}] = \\lambda{\\left(time,lon,lat,height \\right)}\\end{equation} \\begin{equation}\\operatorname{W_{JouleH}}{\\left(\\vec{r}_{GDZsph3D} \\right)}[\\frac{W}{m^{2}}] = \\lambda{\\left(\\vec{r}_{GDZsph3D} \\right)}\\end{equation} \\begin{equation}\\operatorname{W_{JouleH ijk}}(time[hr],lon[deg],lat[deg])[\\frac{W}{m^{2}}] = \\lambda{\\left(time,lon,lat \\right)}\\end{equation} \\begin{equation}\\operatorname{E_{theta140km}}{\\left(\\vec{r}_{GDZsph3D} \\right)}[V / m] = \\lambda{\\left(\\vec{r}_{GDZsph3D} \\right)}\\end{equation} \\begin{equation}\\operatorname{E_{theta140km ijk}}(time[hr],Elon[deg],Elat[deg])[V / m] = \\lambda{\\left(time,Elon,Elat \\right)}\\end{equation} \\begin{equation}\\operatorname{E_{lambda140km}}{\\left(\\vec{r}_{GDZsph3D} \\right)}[V / m] = \\lambda{\\left(\\vec{r}_{GDZsph3D} \\right)}\\end{equation} \\begin{equation}\\operatorname{E_{lambda140km ijk}}(time[hr],Elon[deg],Elat[deg])[V / m] = \\lambda{\\left(time,Elon,Elat \\right)}\\end{equation} \\begin{equation}\\operatorname{E_{theta300km}}{\\left(\\vec{r}_{GDZsph3D} \\right)}[V / m] = \\lambda{\\left(\\vec{r}_{GDZsph3D} \\right)}\\end{equation} \\begin{equation}\\operatorname{E_{theta300km ijk}}(time[hr],Elon[deg],Elat[deg])[V / m] = \\lambda{\\left(time,Elon,Elat \\right)}\\end{equation} \\begin{equation}\\operatorname{E_{lambda300km}}{\\left(\\vec{r}_{GDZsph3D} \\right)}[V / m] = \\lambda{\\left(\\vec{r}_{GDZsph3D} \\right)}\\end{equation} \\begin{equation}\\operatorname{E_{lambda300km ijk}}(time[hr],Elon[deg],Elat[deg])[V / m] = \\lambda{\\left(time,Elon,Elat \\right)}\\end{equation}"
      ],
      "text/plain": [
       "{T_e(rvec_GDZsph4D): <function multitime_interp.<locals>.interp at 0x000001FD4643F318>, T_e: <function multitime_interp.<locals>.interp at 0x000001FD4643F318>, T_e_ijk(time, lon, lat, height): <function gridify.<locals>.decorator_gridify.<locals>.wrapped at 0x000001FD4643F558>, T_e_ijk: <function gridify.<locals>.decorator_gridify.<locals>.wrapped at 0x000001FD4643F558>, T_i(rvec_GDZsph4D): <function multitime_interp.<locals>.interp at 0x000001FD4643FEE8>, T_i: <function multitime_interp.<locals>.interp at 0x000001FD4643FEE8>, T_i_ijk(time, lon, lat, height): <function gridify.<locals>.decorator_gridify.<locals>.wrapped at 0x000001FD46448168>, T_i_ijk: <function gridify.<locals>.decorator_gridify.<locals>.wrapped at 0x000001FD46448168>, N_e(rvec_GDZsph4D): <function multitime_interp.<locals>.interp at 0x000001FD46448AF8>, N_e: <function multitime_interp.<locals>.interp at 0x000001FD46448AF8>, N_e_ijk(time, lon, lat, ilev): <function gridify.<locals>.decorator_gridify.<locals>.wrapped at 0x000001FD46448CA8>, N_e_ijk: <function gridify.<locals>.decorator_gridify.<locals>.wrapped at 0x000001FD46448CA8>, N_Oplus(rvec_GDZsph4D): <function multitime_interp.<locals>.interp at 0x000001FD46454708>, N_Oplus: <function multitime_interp.<locals>.interp at 0x000001FD46454708>, N_Oplus_ijk(time, lon, lat, height): <function gridify.<locals>.decorator_gridify.<locals>.wrapped at 0x000001FD464549D8>, N_Oplus_ijk: <function gridify.<locals>.decorator_gridify.<locals>.wrapped at 0x000001FD464549D8>, N_Hplus(rvec_GDZsph4D): <function multitime_interp.<locals>.interp at 0x000001FD46458318>, N_Hplus: <function multitime_interp.<locals>.interp at 0x000001FD46458318>, N_Hplus_ijk(time, lon, lat, height): <function gridify.<locals>.decorator_gridify.<locals>.wrapped at 0x000001FD46458558>, N_Hplus_ijk: <function gridify.<locals>.decorator_gridify.<locals>.wrapped at 0x000001FD46458558>, W_JouleH(rvec_GDZsph3D): <function multitime_interp.<locals>.interp at 0x000001FD46458E58>, W_JouleH: <function multitime_interp.<locals>.interp at 0x000001FD46458E58>, W_JouleH_ijk(time, lon, lat): <function gridify.<locals>.decorator_gridify.<locals>.wrapped at 0x000001FD464470D8>, W_JouleH_ijk: <function gridify.<locals>.decorator_gridify.<locals>.wrapped at 0x000001FD464470D8>, E_theta140km(rvec_GDZsph3D): <function multitime_interp.<locals>.interp at 0x000001FD46447C18>, E_theta140km: <function multitime_interp.<locals>.interp at 0x000001FD46447C18>, E_theta140km_ijk(time, Elon, Elat): <function gridify.<locals>.decorator_gridify.<locals>.wrapped at 0x000001FD46447DC8>, E_theta140km_ijk: <function gridify.<locals>.decorator_gridify.<locals>.wrapped at 0x000001FD46447DC8>, E_lambda140km(rvec_GDZsph3D): <function multitime_interp.<locals>.interp at 0x000001FD46450828>, E_lambda140km: <function multitime_interp.<locals>.interp at 0x000001FD46450828>, E_lambda140km_ijk(time, Elon, Elat): <function gridify.<locals>.decorator_gridify.<locals>.wrapped at 0x000001FD464509D8>, E_lambda140km_ijk: <function gridify.<locals>.decorator_gridify.<locals>.wrapped at 0x000001FD464509D8>, E_theta300km(rvec_GDZsph3D): <function multitime_interp.<locals>.interp at 0x000001FD4646C438>, E_theta300km: <function multitime_interp.<locals>.interp at 0x000001FD4646C438>, E_theta300km_ijk(time, Elon, Elat): <function gridify.<locals>.decorator_gridify.<locals>.wrapped at 0x000001FD4646C678>, E_theta300km_ijk: <function gridify.<locals>.decorator_gridify.<locals>.wrapped at 0x000001FD4646C678>, E_lambda300km(rvec_GDZsph3D): <function multitime_interp.<locals>.interp at 0x000001FD46468048>, E_lambda300km: <function multitime_interp.<locals>.interp at 0x000001FD46468048>, E_lambda300km_ijk(time, Elon, Elat): <function gridify.<locals>.decorator_gridify.<locals>.wrapped at 0x000001FD46468288>, E_lambda300km_ijk: <function gridify.<locals>.decorator_gridify.<locals>.wrapped at 0x000001FD46468288>}"
      ]
     },
     "execution_count": 14,
     "metadata": {},
     "output_type": "execute_result"
    }
   ],
   "source": [
    "var_list = ['T_e', 'T_i', 'N_e', 'N_Oplus', 'N_Hplus', 'E_lambda300km', 'E_theta300km',\n",
    "           'E_lambda140km', 'E_theta140km', 'W_JouleH']\n",
    "from time import perf_counter\n",
    "reader = MW.Model_Reader(model)\n",
    "t0 = perf_counter()\n",
    "kamodo_object = reader(file_dir, variables_requested=var_list)\n",
    "t1 = perf_counter()\n",
    "print(t1-t0)\n",
    "kamodo_object"
   ]
  },
  {
   "cell_type": "code",
   "execution_count": null,
   "metadata": {},
   "outputs": [],
   "source": [
    "# Check that time files creation works, that reader works for one variable,\n",
    "# and that an unknown variable request does not break it.\n",
    "import kamodo_ccmc.flythrough.model_wrapper as MW\n",
    "reader = MW.Model_Reader(model)\n",
    "kamodo_object = reader(file_dir, variables_requested=['Trash'])\n",
    "kamodo_object"
   ]
  },
  {
   "cell_type": "code",
   "execution_count": null,
   "metadata": {},
   "outputs": [],
   "source": [
    "# Check that reading the time files works and that reader works for one variable,\n",
    "kamodo_object = reader(file_dir, variables_requested=['T_n'])\n",
    "kamodo_object"
   ]
  },
  {
   "cell_type": "code",
   "execution_count": null,
   "metadata": {},
   "outputs": [],
   "source": [
    "kamodo_object.T_n.meta"
   ]
  },
  {
   "cell_type": "code",
   "execution_count": null,
   "metadata": {},
   "outputs": [],
   "source": [
    "# Confirm that interpolation works\n",
    "print(kamodo_object.T_n([5.2, 10., 60., 350.]))\n",
    "print(kamodo_object.T_n_ijk(time=5.2, lon=10., lat=60., height=350.))\n",
    "print(kamodo_object.T_n_ijk(time=5.2, lon=10).shape)"
   ]
  },
  {
   "cell_type": "code",
   "execution_count": null,
   "metadata": {},
   "outputs": [],
   "source": [
    "# Check that reading the time files works, and that the reader works for all variables\n",
    "kamodo_object = reader(file_dir)\n",
    "kamodo_object"
   ]
  },
  {
   "cell_type": "code",
   "execution_count": null,
   "metadata": {},
   "outputs": [],
   "source": [
    "# Check that the kamodo object was built properly.\n",
    "print(kamodo_object.T_n([5.2, 10., 60., 350.]))"
   ]
  },
  {
   "cell_type": "code",
   "execution_count": null,
   "metadata": {},
   "outputs": [],
   "source": [
    "# Check that the reader works for the testing subset\n",
    "kamodo_object = reader(file_dir, variables_requested=variables_requested)\n",
    "kamodo_object"
   ]
  },
  {
   "cell_type": "code",
   "execution_count": null,
   "metadata": {},
   "outputs": [],
   "source": [
    "# Confirm that the interpolator works for each testing variable and type\n",
    "print(kamodo_object.T_n([5.2, 10., 60., 350.]))\n",
    "print(kamodo_object.T_n_ijk(time=5.2, lon=10., lat=60., height=350.))\n",
    "print(kamodo_object.T_n([5.2, 10., 60., 350.]) == kamodo_object.T_n_ijk(time=5.2, lon=10., lat=60., height=350.))\n",
    "print(kamodo_object.T_n_ijk(time=5.2, lon=10.).shape)\n",
    "print(kamodo_object.T_e([5.2, 10., 60., 350.]))\n",
    "print(kamodo_object.T_e_ijk(time=5.2, lon=10., lat=60., height=350.))\n",
    "print(kamodo_object.T_e([5.2, 10., 60., 350.]) == kamodo_object.T_e_ijk(time=5.2, lon=10., lat=60., height=350.))\n",
    "print(kamodo_object.T_e_ijk(time=5.2, lon=10.).shape)\n",
    "print(kamodo_object.TEC([5.2, 10., 60.]))\n",
    "print(kamodo_object.TEC_ijk(time=5.2, lon=10., lat=60.))\n",
    "print(kamodo_object.TEC([5.2, 10., 60.]) == kamodo_object.TEC_ijk(time=5.2, lon=10., lat=60.))\n",
    "print(kamodo_object.TEC_ijk(time=5.2).shape)\n",
    "print(kamodo_object.E_theta300km([5.2, 10., 60.]))\n",
    "print(kamodo_object.E_theta300km_ijk(time=5.2, Elon=10., Elat=60.))\n",
    "print(kamodo_object.E_theta300km([5.2, 10., 60.]) == kamodo_object.E_theta300km_ijk(time=5.2, Elon=10., Elat=60.))\n",
    "print(kamodo_object.E_theta300km_ijk(time=5.2).shape)"
   ]
  },
  {
   "cell_type": "code",
   "execution_count": null,
   "metadata": {},
   "outputs": [],
   "source": [
    "from kamodo import get_defaults\n",
    "for var in variables_requested:\n",
    "    print('\\n', var)\n",
    "    defaults = get_defaults(kamodo_object[var])\n",
    "    for key in defaults:\n",
    "        print(key, len(defaults[key]))\n",
    "        for item in defaults[key]:\n",
    "            print(item)\n",
    "    defaults_ijk = get_defaults(kamodo_object[var+'_ijk'])\n",
    "    for key in defaults_ijk:\n",
    "        print(key, len(defaults_ijk[key]), defaults_ijk[key].min(), defaults_ijk[key].max())\n",
    "kamodo_object.filedate"
   ]
  },
  {
   "cell_type": "code",
   "execution_count": null,
   "metadata": {},
   "outputs": [],
   "source": [
    "fig = kamodo_object.plot('T_n_ijk', plot_partial={'T_n_ijk': {'time': 40., 'height': 200.}})\n",
    "fig.update_traces(colorscale=\"Viridis\", ncontours=200, contours=dict(coloring=\"fill\", showlines=False))\n",
    "fig"
   ]
  },
  {
   "cell_type": "code",
   "execution_count": null,
   "metadata": {},
   "outputs": [],
   "source": [
    "fig = kamodo_object.plot('T_n_ijk', plot_partial={'T_n_ijk': {'lat': 10., 'lon': -20.}})\n",
    "fig.update_traces(colorscale=\"Viridis\", ncontours=200, contours=dict(coloring=\"fill\", showlines=False))\n",
    "fig"
   ]
  },
  {
   "cell_type": "code",
   "execution_count": null,
   "metadata": {},
   "outputs": [],
   "source": [
    "fig = kamodo_object.plot('T_n_ijk', plot_partial={'T_n_ijk': {'lat': 10., 'height': 200.}})\n",
    "fig.update_traces(colorscale=\"Viridis\", ncontours=200, contours=dict(coloring=\"fill\", showlines=False))\n",
    "fig"
   ]
  },
  {
   "cell_type": "code",
   "execution_count": null,
   "metadata": {},
   "outputs": [],
   "source": [
    "fig = kamodo_object.plot('T_e_ijk', plot_partial={'T_e_ijk': {'time': 40., 'height': 200.}})\n",
    "fig.update_traces(colorscale=\"Viridis\", ncontours=200, contours=dict(coloring=\"fill\", showlines=False))\n",
    "fig"
   ]
  },
  {
   "cell_type": "code",
   "execution_count": null,
   "metadata": {},
   "outputs": [],
   "source": [
    "fig = kamodo_object.plot('T_e_ijk', plot_partial={'T_e_ijk': {'lat': 40., 'lon': -20.}})\n",
    "fig.update_traces(colorscale=\"Viridis\", ncontours=200, contours=dict(coloring=\"fill\", showlines=False))\n",
    "fig"
   ]
  },
  {
   "cell_type": "code",
   "execution_count": null,
   "metadata": {},
   "outputs": [],
   "source": [
    "fig = kamodo_object.plot('TEC_ijk', plot_partial={'TEC_ijk': {'time': 30.1}})\n",
    "fig.update_traces(colorscale=\"Viridis\", ncontours=200, contours=dict(coloring=\"fill\", showlines=False))\n",
    "fig"
   ]
  },
  {
   "cell_type": "code",
   "execution_count": null,
   "metadata": {},
   "outputs": [],
   "source": [
    "fig = kamodo_object.plot('TEC_ijk', plot_partial={'TEC_ijk': {'lat': 30.1}})\n",
    "fig.update_traces(colorscale=\"Viridis\", ncontours=200, contours=dict(coloring=\"fill\", showlines=False))\n",
    "fig"
   ]
  },
  {
   "cell_type": "code",
   "execution_count": null,
   "metadata": {},
   "outputs": [],
   "source": [
    "fig = kamodo_object.plot('E_theta300km_ijk', plot_partial={'E_theta300km_ijk': {'time': 30.1}})\n",
    "fig.update_traces(colorscale=\"Viridis\", ncontours=200, contours=dict(coloring=\"fill\", showlines=False))\n",
    "fig"
   ]
  },
  {
   "cell_type": "code",
   "execution_count": null,
   "metadata": {},
   "outputs": [],
   "source": [
    "fig = kamodo_object.plot('E_theta300km_ijk', plot_partial={'E_theta300km_ijk': {'Elat': 30.1}})\n",
    "fig.update_traces(colorscale=\"Viridis\", ncontours=200, contours=dict(coloring=\"fill\", showlines=False))\n",
    "fig"
   ]
  },
  {
   "cell_type": "code",
   "execution_count": null,
   "metadata": {},
   "outputs": [],
   "source": [
    "MW.Variable_Search('Joule')"
   ]
  },
  {
   "cell_type": "code",
   "execution_count": null,
   "metadata": {},
   "outputs": [],
   "source": [
    "MW.Variable_Search('Joule', model)"
   ]
  },
  {
   "cell_type": "code",
   "execution_count": null,
   "metadata": {},
   "outputs": [],
   "source": [
    "MW.Variable_Search('Joule', model, file_dir)"
   ]
  },
  {
   "cell_type": "code",
   "execution_count": null,
   "metadata": {},
   "outputs": [],
   "source": [
    "from kamodo_ccmc.flythrough import SatelliteFlythrough as SF\n",
    "import datetime as dt\n",
    "start_utcts = dt.datetime(2015, 3, 18, 1).replace(tzinfo=dt.timezone.utc).timestamp()\n",
    "end_utcts = dt.datetime(2015, 3, 18, 2).replace(tzinfo=dt.timezone.utc).timestamp()-1\n",
    "results = SF.ModelFlythrough(model, file_dir, [variables_requested[0]], [start_utcts, end_utcts], [0., 180.], [60., -60.],\n",
    "                             [400., 400.], 'GDZ-sph')\n",
    "results[variables_requested[0]]"
   ]
  },
  {
   "cell_type": "code",
   "execution_count": null,
   "metadata": {},
   "outputs": [],
   "source": [
    "results = SF.ModelFlythrough(model, file_dir, [variables_requested[0]], [start_utcts], [0.], [60.],\n",
    "                             [400.], 'GDZ-sph')\n",
    "results[variables_requested[0]]"
   ]
  },
  {
   "cell_type": "code",
   "execution_count": null,
   "metadata": {},
   "outputs": [],
   "source": []
  }
 ],
 "metadata": {
  "kernelspec": {
   "display_name": "Python 3 (ipykernel)",
   "language": "python",
   "name": "python3"
  },
  "language_info": {
   "codemirror_mode": {
    "name": "ipython",
    "version": 3
   },
   "file_extension": ".py",
   "mimetype": "text/x-python",
   "name": "python",
   "nbconvert_exporter": "python",
   "pygments_lexer": "ipython3",
   "version": "3.7.13"
  }
 },
 "nbformat": 4,
 "nbformat_minor": 2
}
