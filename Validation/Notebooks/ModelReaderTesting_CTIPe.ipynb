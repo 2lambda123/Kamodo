{
 "cells": [
  {
   "cell_type": "markdown",
   "metadata": {},
   "source": [
    "# Demo notebook for Model Reader"
   ]
  },
  {
   "cell_type": "code",
   "execution_count": 1,
   "metadata": {},
   "outputs": [
    {
     "name": "stdout",
     "output_type": "stream",
     "text": [
      "\n",
      "ADELPHI:\n",
      "J_east: ['electric current in eastern direction(increasing longitude) (height integrated current density)', 'SM-sph', ['time', 'lon', 'lat'], 'A/m']\n",
      "J_north: ['electric current in north direction (increasing latitude) (height integrated current density)', 'SM-sph', ['time', 'lon', 'lat'], 'A/m']\n",
      "\n",
      "AMGeO:\n",
      "No density variables found.\n",
      "\n",
      "CTIPe:\n",
      "rho_ilev1: ['total mass density', 'GDZ-sph', ['time', 'lon', 'lat', 'ilev1'], 'kg/m**3']\n",
      "rho: ['total mass density', 'GDZ-sph', ['time', 'lon', 'lat', 'height'], 'kg/m**3']\n",
      "N_e: ['electron number density', 'GDZ-sph', ['time', 'lon', 'lat', 'height'], '1/m**3']\n",
      "N_O_ilev: ['number density of atomic oxygen', 'GDZ-sph', ['time', 'lon', 'lat', 'ilev'], '1/m**3']\n",
      "N_O: ['number density of atomic oxygen', 'GDZ-sph', ['time', 'lon', 'lat', 'height'], '1/m**3']\n",
      "N_O2_ilev: ['number density of molecular oxygen', 'GDZ-sph', ['time', 'lon', 'lat', 'ilev'], '1/m**3']\n",
      "N_O2: ['number density of molecular oxygen', 'GDZ-sph', ['time', 'lon', 'lat', 'height'], '1/m**3']\n",
      "N_N2_ilev: ['number density of molecular nitrogen', 'GDZ-sph', ['time', 'lon', 'lat', 'ilev'], '1/m**3']\n",
      "N_N2: ['number density of molecular nitrogen', 'GDZ-sph', ['time', 'lon', 'lat', 'height'], '1/m**3']\n",
      "N_NO_ilev: ['number density of molecular nitric oxide', 'GDZ-sph', ['time', 'lon', 'lat', 'ilev'], '1/m**3']\n",
      "N_NO: ['number density of molecular nitric oxide', 'GDZ-sph', ['time', 'lon', 'lat', 'height'], '1/m**3']\n",
      "N_NOplus_ilev: ['number density of nitric oxide ion', 'GDZ-sph', ['time', 'lon', 'lat', 'ilev'], '1/m**3']\n",
      "N_NOplus: ['number density of nitric oxide ion', 'GDZ-sph', ['time', 'lon', 'lat', 'height'], '1/m**3']\n",
      "N_N2plus_ilev: ['number density of molecular nitrogen ion', 'GDZ-sph', ['time', 'lon', 'lat', 'ilev'], '1/m**3']\n",
      "N_N2plus: ['number density of molecular nitrogen ion', 'GDZ-sph', ['time', 'lon', 'lat', 'height'], '1/m**3']\n",
      "N_O2plus_ilev: ['number density of molecular oxygen ion', 'GDZ-sph', ['time', 'lon', 'lat', 'ilev'], '1/m**3']\n",
      "N_O2plus: ['number density of molecular oxygen ion', 'GDZ-sph', ['time', 'lon', 'lat', 'height'], '1/m**3']\n",
      "N_Nplus_ilev: ['number density of atomic nitrogen ion', 'GDZ-sph', ['time', 'lon', 'lat', 'ilev'], '1/m**3']\n",
      "N_Nplus: ['number density of atomic nitrogen ion', 'GDZ-sph', ['time', 'lon', 'lat', 'height'], '1/m**3']\n",
      "N_Oplus: ['number density of atomic oxygen ion', 'GDZ-sph', ['time', 'lon', 'lat', 'height'], '1/m**3']\n",
      "N_Hplus: ['number density of atomic hydrogen ion', 'GDZ-sph', ['time', 'lon', 'lat', 'height'], '1/m**3']\n",
      "\n",
      "DTM:\n",
      "rho: ['Total mass density', 'GDZ-sph', ['time', 'lon', 'lat', 'height'], 'g/cm**3']\n",
      "N_H: ['Atomic hydrogen partial density', 'GDZ-sph', ['time', 'lon', 'lat', 'height'], 'g/cm**3']\n",
      "N_He: ['Atomic helium partial density', 'GDZ-sph', ['time', 'lon', 'lat', 'height'], 'g/cm**3']\n",
      "N_O: ['Atomic oxygen partial density', 'GDZ-sph', ['time', 'lon', 'lat', 'height'], 'g/cm**3']\n",
      "N_N2: ['Molecular nitrogen partial density', 'GDZ-sph', ['time', 'lon', 'lat', 'height'], 'g/cm**3']\n",
      "N_O2: ['Molecular oxygen partial density', 'GDZ-sph', ['time', 'lon', 'lat', 'height'], 'g/cm**3']\n",
      "\n",
      "GAMERA_GM:\n",
      "N_plasma: ['Plasma number density (M/mp)', 'SM-car', ['time', 'X', 'Y', 'Z'], '1/cm**3']\n",
      "J_x: ['X-component of current density', 'SM-car', ['time', 'X', 'Y', 'Z'], 'nA/m**2']\n",
      "J_y: ['Y-component of current density', 'SM-car', ['time', 'X', 'Y', 'Z'], 'nA/m**2']\n",
      "J_z: ['Z-component of current density', 'SM-car', ['time', 'X', 'Y', 'Z'], 'nA/m**2']\n",
      "\n",
      "GITM:\n",
      "rho_Ar: ['mass density of argon', 'GDZ-sph', ['time', 'lon', 'lat', 'height'], 'kg/m**3']\n",
      "rho_H: ['mass density of hydrogen', 'GDZ-sph', ['time', 'lon', 'lat', 'height'], 'kg/m**3']\n",
      "rho_Hplus: ['mass density of hydrogen ion', 'GDZ-sph', ['time', 'lon', 'lat', 'height'], 'kg/m**3']\n",
      "rho_He: ['mass density of helium', 'GDZ-sph', ['time', 'lon', 'lat', 'height'], 'kg/m**3']\n",
      "rho_Heplus: ['mass density of helium ion', 'GDZ-sph', ['time', 'lon', 'lat', 'height'], 'kg/m**3']\n",
      "rho_N2: ['mass density of molecular nitrogen', 'GDZ-sph', ['time', 'lon', 'lat', 'height'], 'kg/m**3']\n",
      "rho_N2plus: ['mass density of molecular nitrogen ion', 'GDZ-sph', ['time', 'lon', 'lat', 'height'], 'kg/m**3']\n",
      "rho_Nplus: ['mass density of atomic nitrogen ion', 'GDZ-sph', ['time', 'lon', 'lat', 'height'], 'kg/m**3']\n",
      "rho_N2D: ['mass density of atomic nitrogen (2D state)', 'GDZ-sph', ['time', 'lon', 'lat', 'height'], 'kg/m**3']\n",
      "rho_N2P: ['mass density of atomic nitrogen (2P state)', 'GDZ-sph', ['time', 'lon', 'lat', 'height'], 'kg/m**3']\n",
      "rho_N4S: ['mass density of atomic nitrogen (4S state)', 'GDZ-sph', ['time', 'lon', 'lat', 'height'], 'kg/m**3']\n",
      "rho_NO: ['mass density of nitric oxide', 'GDZ-sph', ['time', 'lon', 'lat', 'height'], 'kg/m**3']\n",
      "rho_NOplus: ['mass density of nitric oxide ion', 'GDZ-sph', ['time', 'lon', 'lat', 'height'], 'kg/m**3']\n",
      "rho_O2: ['mass density of molecular oxygen', 'GDZ-sph', ['time', 'lon', 'lat', 'height'], 'kg/m**3']\n",
      "rho_O1D: ['mass density of atomic oxygen (1D state)', 'GDZ-sph', ['time', 'lon', 'lat', 'height'], 'kg/m**3']\n",
      "rho_O2plus: ['mass density of molecular oxygen ion', 'GDZ-sph', ['time', 'lon', 'lat', 'height'], 'kg/m**3']\n",
      "rho_O2D: ['mass density of atomic oxygen (2D state)', 'GDZ-sph', ['time', 'lon', 'lat', 'height'], '1/m**3']\n",
      "rho_Oplus2P: ['mass density of atomic oxygen ion (2P state)', 'GDZ-sph', ['time', 'lon', 'lat', 'height'], 'kg/m**3']\n",
      "rho_O3P: ['mass density of atomic oxygen (3P state)', 'GDZ-sph', ['time', 'lon', 'lat', 'height'], 'kg/m**3']\n",
      "rho_Oplus4S4P: ['mass density of atomic oxygen ion (4S or 4P state)', 'GDZ-sph', ['time', 'lon', 'lat', 'height'], 'kg/m**3']\n",
      "rho_n: ['neutral mass density', 'GDZ-sph', ['time', 'lon', 'lat', 'height'], 'kg/m**3']\n",
      "N_e: ['electron number density', 'GDZ-sph', ['time', 'lon', 'lat', 'height'], '1/m**3']\n",
      "rho_CO2: ['mass density of carbon dioxide', 'GDZ-sph', ['time', 'lon', 'lat', 'height'], 'kg/m**3']\n",
      "j_R2: ['region 2 electric current density', 'GDZ-sph', ['time', 'lon', 'lat', 'height'], 'A/m**2']\n",
      "j_R1: ['region 1 electric current density', 'GDZ-sph', ['time', 'lon', 'lat', 'height'], 'A/m**2']\n",
      "NmF2: ['Maximum electron number density in F2 layer', 'GDZ-sph', ['time', 'lon', 'lat'], '']\n",
      "hmF2: ['Height of maximum electron number density in F2 layer', 'GDZ-sph', ['time', 'lon', 'lat'], 'km']\n",
      "\n",
      "IRI:\n",
      "N_e: ['electron number density', 'GDZ-sph', ['time', 'lon', 'lat', 'height'], '1/m**3']\n",
      "N_Oplus: ['number density of atomic oxygen ion', 'GDZ-sph', ['time', 'lon', 'lat', 'height'], '1/m**3']\n",
      "N_Hplus: ['number density of atomic hydrogen ion', 'GDZ-sph', ['time', 'lon', 'lat', 'height'], '1/m**3']\n",
      "N_Heplus: ['number density of atomic helium ion', 'GDZ-sph', ['time', 'lon', 'lat', 'height'], '1/m**3']\n",
      "N_O2plus: ['number density of molecular oxygen ion', 'GDZ-sph', ['time', 'lon', 'lat', 'height'], '1/m**3']\n",
      "N_NOplus: ['number density of molecular nitric oxide', 'GDZ-sph', ['time', 'lon', 'lat', 'height'], '1/m**3']\n",
      "N_Nplus: ['number density of atomic nitrogen ion', 'GDZ-sph', ['time', 'lon', 'lat', 'height'], '1/m**3']\n",
      "NmF2: ['maximum electron number density in F2 layer', 'GDZ-sph', ['time', 'lon', 'lat'], '1/m**3']\n",
      "HmF2: ['height of maximum electron number density in F2 layer', 'GDZ-sph', ['time', 'lon', 'lat'], 'km']\n",
      "\n",
      "OpenGGCM_GM:\n",
      "N_plasma: ['number density of plasma (hydrogen equivalent)', 'GSE-car', ['time', 'x', 'y', 'z'], '1/cm**3']\n",
      "j_x: ['current density, x component', 'GSE-car', ['time', 'x', 'y', 'z'], 'muA/m**2']\n",
      "j_y: ['current density, y component', 'GSE-car', ['time', 'x', 'y', 'z'], 'muA/m**2']\n",
      "j_z: ['current density, z component', 'GSE-car', ['time', 'x', 'y', 'z'], 'muA/m**2']\n",
      "\n",
      "SuperDARN_uni:\n",
      "No density variables found.\n",
      "\n",
      "SuperDARN_equ:\n",
      "No density variables found.\n",
      "\n",
      "SWMF_IE:\n",
      "j_R: ['radial current density', 'SM-sph', ['time', 'lon', 'lat'], 'muA/m**2']\n",
      "j_x: ['current density, x component', 'SM-sph', ['time', 'lon', 'lat'], 'muA/m**2']\n",
      "j_y: ['current density, y component', 'SM-sph', ['time', 'lon', 'lat'], 'muA/m**2']\n",
      "j_z: ['current density, z component', 'SM-sph', ['time', 'lon', 'lat'], 'muA/m**2']\n",
      "Phi_Nion: ['flux of ions in number density', 'SM-sph', ['time', 'lon', 'lat'], '1/cm**2/s']\n",
      "rho_RTamu: ['molecular mass density (RT) (ray tracing integrated along field line)', 'SM-sph', ['time', 'lon', 'lat'], 'amu/cm**3']\n",
      "\n",
      "SWMF_GM:\n",
      "u: ['Energy density', 'GSM-car', ['time', 'X', 'Y', 'Z'], 'J/m**3']\n",
      "J_x: ['x component of the current density', 'GSM-car', ['time', 'X', 'Y', 'Z'], 'muA/m**2']\n",
      "J_y: ['y component of the current density', 'GSM-car', ['time', 'X', 'Y', 'Z'], 'muA/m**2']\n",
      "J_z: ['z component of the current density', 'GSM-car', ['time', 'X', 'Y', 'Z'], 'muA/m**2']\n",
      "N_p: ['proton number density', 'GSM-car', ['time', 'X', 'Y', 'Z'], '10**6/cm**3']\n",
      "\n",
      "TIEGCM:\n",
      "N_O2plus_ilev: ['number density of molecular oxygen ion', 'GDZ-sph', ['time', 'lon', 'lat', 'ilev'], '1/cm**3']\n",
      "N_O2plus: ['number density of molecular oxygen ion', 'GDZ-sph', ['time', 'lon', 'lat', 'height'], '1/cm**3']\n",
      "N_Oplus_ilev: ['number density of atomic oxygen ion', 'GDZ-sph', ['time', 'lon', 'lat', 'ilev'], '1/cm**3']\n",
      "N_Oplus: ['number density of atomic oxygen ion', 'GDZ-sph', ['time', 'lon', 'lat', 'height'], '1/cm**3']\n",
      "N_N2_ilev: ['number density of molecular nitrogen', 'GDZ-sph', ['time', 'lon', 'lat', 'ilev'], '1/cm**3']\n",
      "N_N2: ['number density of molecular nitrogen', 'GDZ-sph', ['time', 'lon', 'lat', 'height'], '1/cm**3']\n",
      "N_Nplus_ilev: ['number density of atomic nitrogen ion', 'GDZ-sph', ['time', 'lon', 'lat', 'ilev'], '1/cm**3']\n",
      "N_Nplus: ['number density of atomic nitrogen ion', 'GDZ-sph', ['time', 'lon', 'lat', 'height'], '1/cm**3']\n",
      "N_O2_ilev: ['number density of molecular oxygen', 'GDZ-sph', ['time', 'lon', 'lat', 'ilev'], '1/cm**3']\n",
      "N_O2: ['number density of molecular oxygen', 'GDZ-sph', ['time', 'lon', 'lat', 'height'], '1/cm**3']\n",
      "rho_ilev1: ['total mass density', 'GDZ-sph', ['time', 'lon', 'lat', 'ilev1'], 'g/cm**3']\n",
      "rho: ['total mass density', 'GDZ-sph', ['time', 'lon', 'lat', 'height'], 'g/cm**3']\n",
      "N_e_ilev: ['electron number density', 'GDZ-sph', ['time', 'lon', 'lat', 'ilev1'], '1/cm**3']\n",
      "N_e: ['electron number density', 'GDZ-sph', ['time', 'lon', 'lat', 'height'], '1/cm**3']\n",
      "HmF2: ['height of maximum electron number density in F2 layer', 'GDZ-sph', ['time', 'lon', 'lat'], 'km']\n",
      "NmF2: ['maximum electron number density in F2 layer', 'GDZ-sph', ['time', 'lon', 'lat'], '1/cm**3']\n",
      "\n",
      "WACCMX:\n",
      "TEC: ['Electron Column Density', 'GDZ-sph', ['time', 'lon', 'lat'], '10**16/m**2']\n",
      "rho_ilev1: ['Air density', 'GDZ-sph', ['time', 'lon', 'lat', 'ilev1'], 'kg/m**3']\n",
      "rho_ilev: ['Air density', 'GDZ-sph', ['time', 'lon', 'lat', 'ilev'], 'kg/m**3']\n",
      "rho: ['Air density', 'GDZ-sph', ['time', 'lon', 'lat', 'height'], 'kg/m**3']\n",
      "N_e_ilev: ['e Number Density (sum of O2+,NO+,N2+,O+)', 'GDZ-sph', ['time', 'lon', 'lat', 'ilev'], 'cm**3']\n",
      "N_e: ['e Number Density (sum of O2+,NO+,N2+,O+)', 'GDZ-sph', ['time', 'lon', 'lat', 'height'], 'cm**3']\n",
      "NmF2: ['Peak Density of the F2 Layer', 'GDZ-sph', ['time', 'lon', 'lat'], '1/cm**3']\n",
      "N_Oplus_ilev: ['O+ Number Density', 'GDZ-sph', ['time', 'lon', 'lat', 'ilev'], '1/cm**3']\n",
      "N_Oplus: ['O+ Number Density', 'GDZ-sph', ['time', 'lon', 'lat', 'height'], '1/cm**3']\n",
      "\n",
      "WAMIPE:\n",
      "rho_400km: ['Density at 400 km.', 'GDZ-sph', ['time', 'lon', 'lat'], 'kg/m**3']\n",
      "N_O_ilev: ['Oxygen number density', 'GDZ-sph', ['time', 'lon', 'lat', 'ilev'], '1/m**3']\n",
      "N_O: ['Oxygen number density', 'GDZ-sph', ['time', 'lon', 'lat', 'height'], '1/m**3']\n",
      "N_O2_ilev: ['Molecular oxygen number density', 'GDZ-sph', ['time', 'lon', 'lat', 'ilev'], '1/m**3']\n",
      "N_O2: ['Molecular oxygen number density', 'GDZ-sph', ['time', 'lon', 'lat', 'height'], '1/m**3']\n",
      "N_N2_ilev: ['Molecular nitrogen number density', 'GDZ-sph', ['time', 'lon', 'lat', 'ilev'], '1/m**3']\n",
      "N_N2: ['Molecular nitrogen number density', 'GDZ-sph', ['time', 'lon', 'lat', 'height'], '1/m**3']\n",
      "NmF2: ['Maximum number density in the F2 layer', 'GDZ-sph', ['time', 'lon', 'lat'], '1/m**3']\n",
      "HmF2: ['Height of the maximum number density in the F2 layer', 'GDZ-sph', ['time', 'lon', 'lat'], 'km']\n",
      "N_Oplus: ['O+ number density', 'GDZ-sph', ['time', 'lon', 'lat', 'height'], '1/m**3']\n",
      "N_Hplus: ['H+ number density', 'GDZ-sph', ['time', 'lon', 'lat', 'height'], '1/m**3']\n",
      "N_Heplus: ['He+ number density', 'GDZ-sph', ['time', 'lon', 'lat', 'height'], '1/m**3']\n",
      "N_Nplus: ['N+ number density', 'GDZ-sph', ['time', 'lon', 'lat', 'height'], '1/m**3']\n",
      "N_NOplus: ['NO+ number density', 'GDZ-sph', ['time', 'lon', 'lat', 'height'], '1/m**3']\n",
      "N_O2plus: ['N2+ number density', 'GDZ-sph', ['time', 'lon', 'lat', 'height'], '1/m**3']\n",
      "\n",
      "Weimer:\n",
      "No density variables found.\n"
     ]
    }
   ],
   "source": [
    "import kamodo_ccmc.flythrough.model_wrapper as MW\n",
    "MW.Variable_Search('density')"
   ]
  },
  {
   "cell_type": "code",
   "execution_count": 2,
   "metadata": {},
   "outputs": [
    {
     "name": "stdout",
     "output_type": "stream",
     "text": [
      "Possible models are: \n",
      "ADELPHI: AMPERE-Derived ELectrodynamic Properties of the High-latitude Ionosphere https://doi.org/10.1029/2020SW002677\n",
      "AMGeO: Assimilative Mapping of Geospace Observations https://doi.org/10.5281/zenodo.3564914\n",
      "CTIPe: Coupled Thermosphere Ionosphere Plasmasphere Electrodynamics Model https://doi.org/10.1029/2007SW000364\n",
      "DTM: The Drag Temperature Model https://doi.org/10.1051/swsc/2015001\n",
      "GAMERA_GM: Grid Agnostic MHD for Extended Research Applications - Global Magnetosphere outputs https://doi.org/10.3847/1538-4365/ab3a4c (coming soon)\n",
      "GITM: Global Ionosphere Thermosphere Model https://doi.org/10.1016/j.jastp.2006.01.008\n",
      "IRI: International Reference Ionosphere Model https://doi.org/10.5194/ars-16-1-2018\n",
      "OpenGGCM_GM: The Open Geospace General Circulation Model - Global Magnetosphere outputs only https://doi.org/10.1023/A:1014228230714\n",
      "SuperDARN_uni: SuperDARN uniform grid output https://doi.org/10.1029/2010JA016017\n",
      "SuperDARN_equ: SuperDARN equal area grid output https://doi.org/10.1029/2010JA016017\n",
      "SWMF_IE: Space Weather Modeling Framework - Ionosphere and Electrodynamics outputs https://doi.org/10.1029/2006SW000272\n",
      "SWMF_GM: Space Weather Modeling Framework - Global Magnetosphere outputs https://doi.org/10.1029/2006SW000272\n",
      "TIEGCM: Thermosphere Ionosphere Electrodynamics General Circulation Model https://doi.org/10.1029/2012GM001297\n",
      "WACCMX: Whole Atmosphere Community Climate Model With Thermosphere and Ionosphere Extension https://doi.org/10.1002/2017MS001232\n",
      "WAMIPE: The coupled Whole Atmosphere Model - Ionosphere Plasmasphere Model https://doi.org/10.1002/2015GL067312 and https://doi.org/10.1029/2022SW003193\n",
      "Weimer: Weimer Ionosphere model https://doi.org/10.1029/2005JA011270\n"
     ]
    }
   ],
   "source": [
    "MW.Choose_Model()"
   ]
  },
  {
   "cell_type": "code",
   "execution_count": null,
   "metadata": {},
   "outputs": [],
   "source": [
    "# Delete the time files before running.\n",
    "model = 'CTIPe'\n",
    "variables_requested = ['T_n', 'T_e', 'TEC', 'E_theta300km']\n",
    "# change file path to where data is stored on your machine\n",
    "file_dir = 'C:/Users/rringuet/Kamodo_Data/CTIPe/Data/'\n",
    "from os.path import isfile\n",
    "from os import remove\n",
    "if isfile(file_dir+model+'_times.txt'):\n",
    "    remove(file_dir+model+'_times.txt')\n",
    "if isfile(file_dir+model+'_list.txt'):\n",
    "    remove(file_dir+model+'_list.txt')"
   ]
  },
  {
   "cell_type": "code",
   "execution_count": null,
   "metadata": {},
   "outputs": [],
   "source": [
    "# Check that time files creation works, that reader works for one variable,\n",
    "# and that an unknown variable request does not break it.\n",
    "import kamodo_ccmc.flythrough.model_wrapper as MW\n",
    "reader = MW.Model_Reader(model)\n",
    "kamodo_object = reader(file_dir, variables_requested=['Trash'])\n",
    "kamodo_object"
   ]
  },
  {
   "cell_type": "code",
   "execution_count": null,
   "metadata": {},
   "outputs": [],
   "source": [
    "# Check that reading the time files works and that reader works for one variable,\n",
    "kamodo_object = reader(file_dir, variables_requested=['T_n'])\n",
    "kamodo_object"
   ]
  },
  {
   "cell_type": "code",
   "execution_count": null,
   "metadata": {},
   "outputs": [],
   "source": [
    "kamodo_object.T_n.meta"
   ]
  },
  {
   "cell_type": "code",
   "execution_count": null,
   "metadata": {},
   "outputs": [],
   "source": [
    "# Confirm that interpolation works\n",
    "print(kamodo_object.T_n([5.2, 10., 60., 350.]))\n",
    "print(kamodo_object.T_n_ijk(time=5.2, lon=10., lat=60., height=350.))\n",
    "print(kamodo_object.T_n_ijk(time=5.2, lon=10).shape)"
   ]
  },
  {
   "cell_type": "code",
   "execution_count": null,
   "metadata": {},
   "outputs": [],
   "source": [
    "# Check that reading the time files works, and that the reader works for all variables\n",
    "kamodo_object = reader(file_dir)\n",
    "kamodo_object"
   ]
  },
  {
   "cell_type": "code",
   "execution_count": null,
   "metadata": {},
   "outputs": [],
   "source": [
    "# Check that the kamodo object was built properly.\n",
    "print(kamodo_object.T_n([5.2, 10., 60., 350.]))"
   ]
  },
  {
   "cell_type": "code",
   "execution_count": null,
   "metadata": {},
   "outputs": [],
   "source": [
    "# Check that the reader works for the testing subset\n",
    "kamodo_object = reader(file_dir, variables_requested=variables_requested)\n",
    "kamodo_object"
   ]
  },
  {
   "cell_type": "code",
   "execution_count": null,
   "metadata": {},
   "outputs": [],
   "source": [
    "# Confirm that the interpolator works for each testing variable and type\n",
    "print(kamodo_object.T_n([5.2, 10., 60., 350.]))\n",
    "print(kamodo_object.T_n_ijk(time=5.2, lon=10., lat=60., height=350.))\n",
    "print(kamodo_object.T_n([5.2, 10., 60., 350.]) == kamodo_object.T_n_ijk(time=5.2, lon=10., lat=60., height=350.))\n",
    "print(kamodo_object.T_n_ijk(time=5.2, lon=10.).shape)\n",
    "print(kamodo_object.T_e([5.2, 10., 60., 350.]))\n",
    "print(kamodo_object.T_e_ijk(time=5.2, lon=10., lat=60., height=350.))\n",
    "print(kamodo_object.T_e([5.2, 10., 60., 350.]) == kamodo_object.T_e_ijk(time=5.2, lon=10., lat=60., height=350.))\n",
    "print(kamodo_object.T_e_ijk(time=5.2, lon=10.).shape)\n",
    "print(kamodo_object.TEC([5.2, 10., 60.]))\n",
    "print(kamodo_object.TEC_ijk(time=5.2, lon=10., lat=60.))\n",
    "print(kamodo_object.TEC([5.2, 10., 60.]) == kamodo_object.TEC_ijk(time=5.2, lon=10., lat=60.))\n",
    "print(kamodo_object.TEC_ijk(time=5.2).shape)\n",
    "print(kamodo_object.E_theta300km([5.2, 10., 60.]))\n",
    "print(kamodo_object.E_theta300km_ijk(time=5.2, Elon=10., Elat=60.))\n",
    "print(kamodo_object.E_theta300km([5.2, 10., 60.]) == kamodo_object.E_theta300km_ijk(time=5.2, Elon=10., Elat=60.))\n",
    "print(kamodo_object.E_theta300km_ijk(time=5.2).shape)"
   ]
  },
  {
   "cell_type": "code",
   "execution_count": null,
   "metadata": {},
   "outputs": [],
   "source": [
    "from kamodo import get_defaults\n",
    "for var in variables_requested:\n",
    "    print('\\n', var)\n",
    "    defaults = get_defaults(kamodo_object[var])\n",
    "    for key in defaults:\n",
    "        print(key, len(defaults[key]))\n",
    "        for item in defaults[key]:\n",
    "            print(item)\n",
    "    defaults_ijk = get_defaults(kamodo_object[var+'_ijk'])\n",
    "    for key in defaults_ijk:\n",
    "        print(key, len(defaults_ijk[key]), defaults_ijk[key].min(), defaults_ijk[key].max())\n",
    "kamodo_object.filedate"
   ]
  },
  {
   "cell_type": "code",
   "execution_count": null,
   "metadata": {},
   "outputs": [],
   "source": [
    "fig = kamodo_object.plot('T_n_ijk', plot_partial={'T_n_ijk': {'time': 40., 'height': 200.}})\n",
    "fig.update_traces(colorscale=\"Viridis\", ncontours=200, contours=dict(coloring=\"fill\", showlines=False))\n",
    "fig"
   ]
  },
  {
   "cell_type": "code",
   "execution_count": null,
   "metadata": {},
   "outputs": [],
   "source": [
    "fig = kamodo_object.plot('T_n_ijk', plot_partial={'T_n_ijk': {'lat': 10., 'lon': -20.}})\n",
    "fig.update_traces(colorscale=\"Viridis\", ncontours=200, contours=dict(coloring=\"fill\", showlines=False))\n",
    "fig"
   ]
  },
  {
   "cell_type": "code",
   "execution_count": null,
   "metadata": {},
   "outputs": [],
   "source": [
    "fig = kamodo_object.plot('T_n_ijk', plot_partial={'T_n_ijk': {'lat': 10., 'height': 200.}})\n",
    "fig.update_traces(colorscale=\"Viridis\", ncontours=200, contours=dict(coloring=\"fill\", showlines=False))\n",
    "fig"
   ]
  },
  {
   "cell_type": "code",
   "execution_count": null,
   "metadata": {},
   "outputs": [],
   "source": [
    "fig = kamodo_object.plot('T_e_ijk', plot_partial={'T_e_ijk': {'time': 40., 'height': 200.}})\n",
    "fig.update_traces(colorscale=\"Viridis\", ncontours=200, contours=dict(coloring=\"fill\", showlines=False))\n",
    "fig"
   ]
  },
  {
   "cell_type": "code",
   "execution_count": null,
   "metadata": {},
   "outputs": [],
   "source": [
    "fig = kamodo_object.plot('T_e_ijk', plot_partial={'T_e_ijk': {'lat': 40., 'lon': -20.}})\n",
    "fig.update_traces(colorscale=\"Viridis\", ncontours=200, contours=dict(coloring=\"fill\", showlines=False))\n",
    "fig"
   ]
  },
  {
   "cell_type": "code",
   "execution_count": null,
   "metadata": {},
   "outputs": [],
   "source": [
    "fig = kamodo_object.plot('TEC_ijk', plot_partial={'TEC_ijk': {'time': 30.1}})\n",
    "fig.update_traces(colorscale=\"Viridis\", ncontours=200, contours=dict(coloring=\"fill\", showlines=False))\n",
    "fig"
   ]
  },
  {
   "cell_type": "code",
   "execution_count": null,
   "metadata": {},
   "outputs": [],
   "source": [
    "fig = kamodo_object.plot('TEC_ijk', plot_partial={'TEC_ijk': {'lat': 30.1}})\n",
    "fig.update_traces(colorscale=\"Viridis\", ncontours=200, contours=dict(coloring=\"fill\", showlines=False))\n",
    "fig"
   ]
  },
  {
   "cell_type": "code",
   "execution_count": null,
   "metadata": {},
   "outputs": [],
   "source": [
    "fig = kamodo_object.plot('E_theta300km_ijk', plot_partial={'E_theta300km_ijk': {'time': 30.1}})\n",
    "fig.update_traces(colorscale=\"Viridis\", ncontours=200, contours=dict(coloring=\"fill\", showlines=False))\n",
    "fig"
   ]
  },
  {
   "cell_type": "code",
   "execution_count": null,
   "metadata": {},
   "outputs": [],
   "source": [
    "fig = kamodo_object.plot('E_theta300km_ijk', plot_partial={'E_theta300km_ijk': {'Elat': 30.1}})\n",
    "fig.update_traces(colorscale=\"Viridis\", ncontours=200, contours=dict(coloring=\"fill\", showlines=False))\n",
    "fig"
   ]
  },
  {
   "cell_type": "code",
   "execution_count": null,
   "metadata": {},
   "outputs": [],
   "source": [
    "MW.Variable_Search('Joule')"
   ]
  },
  {
   "cell_type": "code",
   "execution_count": null,
   "metadata": {},
   "outputs": [],
   "source": [
    "MW.Variable_Search('Joule', model)"
   ]
  },
  {
   "cell_type": "code",
   "execution_count": null,
   "metadata": {},
   "outputs": [],
   "source": [
    "MW.Variable_Search('Joule', model, file_dir)"
   ]
  },
  {
   "cell_type": "code",
   "execution_count": null,
   "metadata": {},
   "outputs": [],
   "source": [
    "from kamodo_ccmc.flythrough import SatelliteFlythrough as SF\n",
    "import datetime as dt\n",
    "start_utcts = dt.datetime(2015, 3, 18, 1).replace(tzinfo=dt.timezone.utc).timestamp()\n",
    "end_utcts = dt.datetime(2015, 3, 18, 2).replace(tzinfo=dt.timezone.utc).timestamp()-1\n",
    "results = SF.ModelFlythrough(model, file_dir, [variables_requested[0]], [start_utcts, end_utcts], [0., 180.], [60., -60.],\n",
    "                             [400., 400.], 'GDZ-sph')\n",
    "results[variables_requested[0]]"
   ]
  },
  {
   "cell_type": "code",
   "execution_count": null,
   "metadata": {},
   "outputs": [],
   "source": [
    "results = SF.ModelFlythrough(model, file_dir, [variables_requested[0]], [start_utcts], [0.], [60.],\n",
    "                             [400.], 'GDZ-sph')\n",
    "results[variables_requested[0]]"
   ]
  },
  {
   "cell_type": "code",
   "execution_count": null,
   "metadata": {},
   "outputs": [],
   "source": []
  }
 ],
 "metadata": {
  "kernelspec": {
   "display_name": "Python 3 (ipykernel)",
   "language": "python",
   "name": "python3"
  },
  "language_info": {
   "codemirror_mode": {
    "name": "ipython",
    "version": 3
   },
   "file_extension": ".py",
   "mimetype": "text/x-python",
   "name": "python",
   "nbconvert_exporter": "python",
   "pygments_lexer": "ipython3",
   "version": "3.7.13"
  }
 },
 "nbformat": 4,
 "nbformat_minor": 2
}
