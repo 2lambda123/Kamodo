{
 "cells": [
  {
   "cell_type": "markdown",
   "metadata": {},
   "source": [
    "# Weimer Model Reader Timing"
   ]
  },
  {
   "cell_type": "code",
   "execution_count": 4,
   "metadata": {},
   "outputs": [
    {
     "name": "stdout",
     "output_type": "stream",
     "text": [
      "Converted data file not found. Converting files with D:/Weimer/SUMESH_GOPINATH_021022_IT_4_Testing\\SUMESH_GOPINATH_021022_IT_4 naming pattern to a netCDF4 file.\n",
      "Time to create netCDF4 file: 87.16188989999999\n",
      "Creating the time files...done.\n",
      "\n",
      "The file directory contains the following standardized variable names:\n",
      "-----------------------------------------------------------------------------------\n",
      "phi : '['Electric potential', 0, 'SM', 'sph', ['time', 'lon', 'lat'], 'kV']'\n"
     ]
    }
   ],
   "source": [
    "import kamodo_ccmc.flythrough.model_wrapper as MW\n",
    "model = 'Weimer'\n",
    "# change file path to where data is stored on your machine\n",
    "file_dir = 'D:/Weimer/SUMESH_GOPINATH_021022_IT_4_Testing/'\n",
    "MW.Variable_Search('', model, file_dir)"
   ]
  },
  {
   "cell_type": "code",
   "execution_count": 14,
   "metadata": {},
   "outputs": [
    {
     "name": "stdout",
     "output_type": "stream",
     "text": [
      "Converted data file not found. Converting files with D:/Weimer/SUMESH_GOPINATH_021022_IT_4_Testing\\SUMESH_GOPINATH_021022_IT_4 naming pattern to a netCDF4 file.\n",
      "Time to create netCDF4 file: 83.5912651000001\n",
      "Creating the time files...done.\n",
      "83.9182558\n"
     ]
    },
    {
     "data": {
      "text/latex": [
       "\\begin{equation}\\phi{\\left(\\vec{r}_{SMsph3D} \\right)}[kV] = \\lambda{\\left(\\vec{r}_{SMsph3D} \\right)}\\end{equation} \\begin{equation}\\phi_{ijk}(time[hr],lon[deg],lat[deg])[kV] = \\lambda{\\left(time,lon,lat \\right)}\\end{equation}"
      ],
      "text/plain": [
       "{phi(rvec_SMsph3D): <function multitime_biginterp.<locals>.interp at 0x000001B5119C1AF8>, phi: <function multitime_biginterp.<locals>.interp at 0x000001B5119C1AF8>, phi_ijk(time, lon, lat): <function gridify.<locals>.decorator_gridify.<locals>.wrapped at 0x000001B5119C1DC8>, phi_ijk: <function gridify.<locals>.decorator_gridify.<locals>.wrapped at 0x000001B5119C1DC8>}"
      ]
     },
     "execution_count": 14,
     "metadata": {},
     "output_type": "execute_result"
    }
   ],
   "source": [
    "model = 'Weimer'\n",
    "var_list = ['phi']\n",
    "file_dir = 'D:/Weimer/SUMESH_GOPINATH_021022_IT_4_Testing/'\n",
    "from time import perf_counter\n",
    "reader = MW.Model_Reader(model)\n",
    "t0 = perf_counter()\n",
    "kamodo_object = reader(file_dir, variables_requested=var_list)\n",
    "t1 = perf_counter()\n",
    "print(t1-t0)\n",
    "kamodo_object"
   ]
  },
  {
   "cell_type": "code",
   "execution_count": null,
   "metadata": {},
   "outputs": [],
   "source": []
  }
 ],
 "metadata": {
  "kernelspec": {
   "display_name": "Python 3 (ipykernel)",
   "language": "python",
   "name": "python3"
  },
  "language_info": {
   "codemirror_mode": {
    "name": "ipython",
    "version": 3
   },
   "file_extension": ".py",
   "mimetype": "text/x-python",
   "name": "python",
   "nbconvert_exporter": "python",
   "pygments_lexer": "ipython3",
   "version": "3.7.13"
  }
 },
 "nbformat": 4,
 "nbformat_minor": 2
}
