{
 "cells": [
  {
   "cell_type": "markdown",
   "metadata": {},
   "source": [
    "# Demo notebook for Model Reader"
   ]
  },
  {
   "cell_type": "code",
   "execution_count": 1,
   "metadata": {
    "scrolled": true
   },
   "outputs": [
    {
     "name": "stdout",
     "output_type": "stream",
     "text": [
      "\n",
      "The file directory contains the following standardized variable names:\n",
      "-----------------------------------------------------------------------------------\n",
      "T_n_ilev : '['neutral temperature', 1, 'GDZ', 'sph', ['time', 'lon', 'lat', 'ilev'], 'K']'\n",
      "mmr_O2_ilev : '['mass mixing ratio of molecular oxygen', 2, 'GDZ', 'sph', ['time', 'lon', 'lat', 'ilev'], '']'\n",
      "mmr_O_ilev : '['mass mixing ratio of atomic oxygen', 3, 'GDZ', 'sph', ['time', 'lon', 'lat', 'ilev'], '']'\n",
      "mmr_He_ilev : '['mass mixing ratio of atomic helium', 5, 'GDZ', 'sph', ['time', 'lon', 'lat', 'ilev'], '']'\n",
      "mmr_NO_ilev : '['mass mixing ratio of molecular nitric oxide', 6, 'GDZ', 'sph', ['time', 'lon', 'lat', 'ilev'], '']'\n",
      "mmr_Nstate4S_ilev : '['mass mixing ratio of atomic nitrogen (4S state)', 7, 'GDZ', 'sph', ['time', 'lon', 'lat', 'ilev'], '']'\n",
      "T_e_ilev : '['electron temperature', 9, 'GDZ', 'sph', ['time', 'lon', 'lat', 'ilev'], 'K']'\n",
      "T_i_ilev : '['ion temperature', 10, 'GDZ', 'sph', ['time', 'lon', 'lat', 'ilev'], 'K']'\n",
      "N_Oplus_ilev : '['number density of atomic oxygen ion', 12, 'GDZ', 'sph', ['time', 'lon', 'lat', 'ilev'], '1/cm**3']'\n",
      "N_N2_ilev : '['number density of molecular nitrogen', 13, 'GDZ', 'sph', ['time', 'lon', 'lat', 'ilev'], '1/cm**3']'\n",
      "v_neast_ilev : '['zonal neutral wind velocity (east)', 16, 'GDZ', 'sph', ['time', 'lon', 'lat', 'ilev'], 'cm/s']'\n",
      "v_nnorth_ilev : '['meridional neutral wind velocity (north)', 17, 'GDZ', 'sph', ['time', 'lon', 'lat', 'ilev'], 'cm/s']'\n",
      "sigma_P_ilev : '['Pedersen conductivity', 22, 'GDZ', 'sph', ['time', 'lon', 'lat', 'ilev'], 'S/m']'\n",
      "sigma_H_ilev : '['Hall conductivity', 23, 'GDZ', 'sph', ['time', 'lon', 'lat', 'ilev'], 'S/m']'\n",
      "Q_Joule_ilev : '['joule heating', 24, 'GDZ', 'sph', ['time', 'lon', 'lat', 'ilev'], 'erg/g/s']'\n",
      "OtoN2_ilev : '['Oxygen/molecular nitrogen ratio', 25, 'GDZ', 'sph', ['time', 'lon', 'lat', 'ilev'], '']'\n",
      "N_O2_ilev : '['number density of molecular oxygen', 27, 'GDZ', 'sph', ['time', 'lon', 'lat', 'ilev'], '1/cm**3']'\n",
      "rho_ilev1 : '['total mass density', 28, 'GDZ', 'sph', ['time', 'lon', 'lat', 'ilev1'], 'g/cm**3']'\n",
      "H_ilev1 : '['height dependent on secondary pressure level', 29, 'GDZ', 'sph', ['time', 'lon', 'lat', 'ilev1'], 'cm']'\n",
      "H_geopot : '['geopotential height', 30, 'GDZ', 'sph', ['time', 'lon', 'lat', 'ilev1'], 'cm']'\n",
      "N_e_ilev : '['electron number density', 31, 'GDZ', 'sph', ['time', 'lon', 'lat', 'ilev1'], '1/cm**3']'\n",
      "omega_ilev : '['Vertical motion frequency', 32, 'GDZ', 'sph', ['time', 'lon', 'lat', 'ilev1'], '1/s']'\n",
      "V_ilev : '['electric potential', 33, 'GDZ', 'sph', ['time', 'lon', 'lat', 'ilev1'], 'V']'\n",
      "v_iExBeast_ilev : '['zonal ExB ion velocity (east)', 34, 'GDZ', 'sph', ['time', 'lon', 'lat', 'ilev1'], 'cm/s']'\n",
      "v_iExBnorth_ilev : '['meridional ExB ion velocity (north)', 35, 'GDZ', 'sph', ['time', 'lon', 'lat', 'ilev1'], 'cm/s']'\n",
      "v_iExBup_ilev : '['vertical ExB ion velocity (up)', 36, 'GDZ', 'sph', ['time', 'lon', 'lat', 'ilev1'], 'cm/s']'\n",
      "H_milev : '['height dependent on geomagnetic pressure level', 37, 'MAG', 'sph', ['time', 'mlon', 'mlat', 'milev'], 'km']'\n",
      "TEC : '['vertical total electron content (height integrated from bottom to top boundary)', 38, 'GDZ', 'sph', ['time', 'lon', 'lat'], '1/cm**2']'\n",
      "W_JouleH : '['height integrated joule heating', 45, 'GDZ', 'sph', ['time', 'lon', 'lat'], 'erg/cm**2/s']'\n",
      "Phi_E : '['energy flux', 46, 'GDZ', 'sph', ['time', 'lon', 'lat'], 'erg/cm**2/s']'\n",
      "HmF2 : '['height of maximum electron number density in F2 layer', 47, 'GDZ', 'sph', ['time', 'lon', 'lat'], 'km']'\n",
      "NmF2 : '['maximum electron number density in F2 layer', 48, 'GDZ', 'sph', ['time', 'lon', 'lat'], '1/cm**3']'\n",
      "T_n : '['neutral temperature', 1, 'GDZ', 'sph', ['time', 'lon', 'lat', 'height'], 'K']'\n",
      "mmr_O2 : '['mass mixing ratio of molecular oxygen', 2, 'GDZ', 'sph', ['time', 'lon', 'lat', 'height'], '']'\n",
      "mmr_O : '['mass mixing ratio of atomic oxygen', 3, 'GDZ', 'sph', ['time', 'lon', 'lat', 'height'], '']'\n",
      "mmr_He : '['mass mixing ratio of atomic helium', 5, 'GDZ', 'sph', ['time', 'lon', 'lat', 'height'], '']'\n",
      "mmr_NO : '['mass mixing ratio of molecular nitric oxide', 6, 'GDZ', 'sph', ['time', 'lon', 'lat', 'height'], '']'\n",
      "mmr_Nstate4S : '['mass mixing ratio of atomic nitrogen (4S state)', 7, 'GDZ', 'sph', ['time', 'lon', 'lat', 'height'], '']'\n",
      "T_e : '['electron temperature', 9, 'GDZ', 'sph', ['time', 'lon', 'lat', 'height'], 'K']'\n",
      "T_i : '['ion temperature', 10, 'GDZ', 'sph', ['time', 'lon', 'lat', 'height'], 'K']'\n",
      "N_Oplus : '['number density of atomic oxygen ion', 12, 'GDZ', 'sph', ['time', 'lon', 'lat', 'height'], '1/cm**3']'\n",
      "N_N2 : '['number density of molecular nitrogen', 13, 'GDZ', 'sph', ['time', 'lon', 'lat', 'height'], '1/cm**3']'\n",
      "v_neast : '['zonal neutral wind velocity (east)', 16, 'GDZ', 'sph', ['time', 'lon', 'lat', 'height'], 'cm/s']'\n",
      "v_nnorth : '['meridional neutral wind velocity (north)', 17, 'GDZ', 'sph', ['time', 'lon', 'lat', 'height'], 'cm/s']'\n",
      "sigma_P : '['Pedersen conductivity', 22, 'GDZ', 'sph', ['time', 'lon', 'lat', 'height'], 'S/m']'\n",
      "sigma_H : '['Hall conductivity', 23, 'GDZ', 'sph', ['time', 'lon', 'lat', 'height'], 'S/m']'\n",
      "Q_Joule : '['joule heating', 24, 'GDZ', 'sph', ['time', 'lon', 'lat', 'height'], 'erg/g/s']'\n",
      "OtoN2 : '['Oxygen/molecular nitrogen ratio', 25, 'GDZ', 'sph', ['time', 'lon', 'lat', 'height'], '']'\n",
      "N_O2 : '['number density of molecular oxygen', 27, 'GDZ', 'sph', ['time', 'lon', 'lat', 'height'], '1/cm**3']'\n",
      "rho : '['total mass density', 28, 'GDZ', 'sph', ['time', 'lon', 'lat', 'height'], 'g/cm**3']'\n"
     ]
    }
   ],
   "source": [
    "model = 'TIEGCM'\n",
    "file_dir = 'C:/Users/rringuet/Kamodo_Data/TIEGCM/Uriel_Ramirez_012517_IT_1/'\n",
    "import kamodo_ccmc.flythrough.model_wrapper as MW\n",
    "MW.Variable_Search('', model, file_dir)"
   ]
  },
  {
   "cell_type": "code",
   "execution_count": 13,
   "metadata": {},
   "outputs": [
    {
     "name": "stdout",
     "output_type": "stream",
     "text": [
      "Some requested variables are not available:  ['H_ilev']\n",
      "Retrieving the H_ilev1 variable instead.\n",
      "5.184732699999984\n"
     ]
    },
    {
     "data": {
      "text/latex": [
       "\\begin{equation}\\operatorname{H_{ilev1}}{\\left(\\vec{r}_{GDZsph4D} \\right)}[cm] = \\lambda{\\left(\\vec{r}_{GDZsph4D} \\right)}\\end{equation} \\begin{equation}\\operatorname{H_{ilev1 ijk}}(time[hr],lon[deg],lat[deg],ilev_{1}[1])[cm] = \\lambda{\\left(time,lon,lat,ilev_{1} \\right)}\\end{equation} \\begin{equation}\\operatorname{H_{ilev1km ijk}}{\\left(ilev_{1},lat,lon,time \\right)}[km] = \\frac{\\operatorname{H_{ilev1 ijk}}{\\left(time,lon,lat,ilev_{1} \\right)}}{100000}\\end{equation} \\begin{equation}\\operatorname{Plev_{1}}{\\left(\\vec{r}_{GDZsphkm4D} \\right)}[1] = \\lambda{\\left(\\vec{r}_{GDZsphkm4D} \\right)}\\end{equation} \\begin{equation}\\operatorname{Plev_{1 ijk}}(time[hr],lon[deg],lat[deg],height[km])[1] = \\lambda{\\left(time,lon,lat,height \\right)}\\end{equation} \\begin{equation}\\operatorname{T_{n ilev}}{\\left(\\vec{r}_{GDZsph4D} \\right)}[K] = \\lambda{\\left(\\vec{r}_{GDZsph4D} \\right)}\\end{equation} \\begin{equation}\\operatorname{T_{n ilev ijk}}(time[hr],lon[deg],lat[deg],ilev[1])[K] = \\lambda{\\left(time,lon,lat,ilev \\right)}\\end{equation} \\begin{equation}\\operatorname{T_{n}}{\\left(\\vec{r}_{GDZsphkm4D} \\right)}[K] = \\operatorname{T_{n ilev}}{\\left(\\operatorname{Plev_{1}}{\\left(\\vec{r}_{GDZsphkm4D} \\right)} \\right)}\\end{equation} \\begin{equation}\\operatorname{T_{n ijk}}(time[hr],lon[deg],lat[deg],height[km])[K] = \\lambda{\\left(time,lon,lat,height \\right)}\\end{equation} \\begin{equation}\\operatorname{mmr_{O2 ilev}}{\\left(\\vec{r}_{GDZsph4D} \\right)} = \\lambda{\\left(\\vec{r}_{GDZsph4D} \\right)}\\end{equation} \\begin{equation}\\operatorname{mmr_{O2 ilev ijk}}(time[hr],lon[deg],lat[deg],ilev[1]) = \\lambda{\\left(time,lon,lat,ilev \\right)}\\end{equation} \\begin{equation}\\operatorname{mmr_{O2}}{\\left(\\vec{r}_{GDZsphkm4D} \\right)} = \\operatorname{mmr_{O2 ilev}}{\\left(\\operatorname{Plev_{1}}{\\left(\\vec{r}_{GDZsphkm4D} \\right)} \\right)}\\end{equation} \\begin{equation}\\operatorname{mmr_{O2 ijk}}(time[hr],lon[deg],lat[deg],height[km]) = \\lambda{\\left(time,lon,lat,height \\right)}\\end{equation} \\begin{equation}\\operatorname{T_{e ilev}}{\\left(\\vec{r}_{GDZsph4D} \\right)}[K] = \\lambda{\\left(\\vec{r}_{GDZsph4D} \\right)}\\end{equation} \\begin{equation}\\operatorname{T_{e ilev ijk}}(time[hr],lon[deg],lat[deg],ilev[1])[K] = \\lambda{\\left(time,lon,lat,ilev \\right)}\\end{equation} \\begin{equation}\\operatorname{T_{e}}{\\left(\\vec{r}_{GDZsphkm4D} \\right)}[K] = \\operatorname{T_{e ilev}}{\\left(\\operatorname{Plev_{1}}{\\left(\\vec{r}_{GDZsphkm4D} \\right)} \\right)}\\end{equation} \\begin{equation}\\operatorname{T_{e ijk}}(time[hr],lon[deg],lat[deg],height[km])[K] = \\lambda{\\left(time,lon,lat,height \\right)}\\end{equation} \\begin{equation}\\operatorname{T_{i ilev}}{\\left(\\vec{r}_{GDZsph4D} \\right)}[K] = \\lambda{\\left(\\vec{r}_{GDZsph4D} \\right)}\\end{equation} \\begin{equation}\\operatorname{T_{i ilev ijk}}(time[hr],lon[deg],lat[deg],ilev[1])[K] = \\lambda{\\left(time,lon,lat,ilev \\right)}\\end{equation} \\begin{equation}\\operatorname{T_{i}}{\\left(\\vec{r}_{GDZsphkm4D} \\right)}[K] = \\operatorname{T_{i ilev}}{\\left(\\operatorname{Plev_{1}}{\\left(\\vec{r}_{GDZsphkm4D} \\right)} \\right)}\\end{equation} \\begin{equation}\\operatorname{T_{i ijk}}(time[hr],lon[deg],lat[deg],height[km])[K] = \\lambda{\\left(time,lon,lat,height \\right)}\\end{equation} \\begin{equation}\\operatorname{TEC}{\\left(\\vec{r}_{GDZsph3D} \\right)}[\\frac{1}{cm^{2}}] = \\lambda{\\left(\\vec{r}_{GDZsph3D} \\right)}\\end{equation} \\begin{equation}\\operatorname{TEC_{ijk}}(time[hr],lon[deg],lat[deg])[\\frac{1}{cm^{2}}] = \\lambda{\\left(time,lon,lat \\right)}\\end{equation} \\begin{equation}\\operatorname{W_{JouleH}}{\\left(\\vec{r}_{GDZsph3D} \\right)}[\\frac{erg}{cm^{2} s}] = \\lambda{\\left(\\vec{r}_{GDZsph3D} \\right)}\\end{equation} \\begin{equation}\\operatorname{W_{JouleH ijk}}(time[hr],lon[deg],lat[deg])[\\frac{erg}{cm^{2} s}] = \\lambda{\\left(time,lon,lat \\right)}\\end{equation} \\begin{equation}\\Phi_{E}{\\left(\\vec{r}_{GDZsph3D} \\right)}[\\frac{erg}{cm^{2} s}] = \\lambda{\\left(\\vec{r}_{GDZsph3D} \\right)}\\end{equation} \\begin{equation}\\Phi_{E ijk}(time[hr],lon[deg],lat[deg])[\\frac{erg}{cm^{2} s}] = \\lambda{\\left(time,lon,lat \\right)}\\end{equation} \\begin{equation}\\operatorname{HmF_{2}}{\\left(\\vec{r}_{GDZsph3D} \\right)}[km] = \\lambda{\\left(\\vec{r}_{GDZsph3D} \\right)}\\end{equation} \\begin{equation}\\operatorname{HmF_{2 ijk}}(time[hr],lon[deg],lat[deg])[km] = \\lambda{\\left(time,lon,lat \\right)}\\end{equation} \\begin{equation}\\operatorname{NmF_{2}}{\\left(\\vec{r}_{GDZsph3D} \\right)}[\\frac{1}{cm^{3}}] = \\lambda{\\left(\\vec{r}_{GDZsph3D} \\right)}\\end{equation} \\begin{equation}\\operatorname{NmF_{2 ijk}}(time[hr],lon[deg],lat[deg])[\\frac{1}{cm^{3}}] = \\lambda{\\left(time,lon,lat \\right)}\\end{equation}"
      ],
      "text/plain": [
       "{H_ilev1(rvec_GDZsph4D): <function multitime_interp.<locals>.interp at 0x000002D48FA95C18>, H_ilev1: <function multitime_interp.<locals>.interp at 0x000002D48FA95C18>, H_ilev1_ijk(time, lon, lat, ilev1): <function gridify.<locals>.decorator_gridify.<locals>.wrapped at 0x000002D48FA95DC8>, H_ilev1_ijk: <function gridify.<locals>.decorator_gridify.<locals>.wrapped at 0x000002D48FA95DC8>, H_ilev1km_ijk(ilev1, lat, lon, time): <function _lambdifygenerated at 0x000002D48FAB14C8>, H_ilev1km_ijk: <function _lambdifygenerated at 0x000002D48FAB14C8>, Plev1(rvec_GDZsphkm4D): <function PLevelInterp.<locals>.plevconvert at 0x000002D48FAB1D38>, Plev1: <function PLevelInterp.<locals>.plevconvert at 0x000002D48FAB1D38>, Plev1_ijk(time, lon, lat, height): <function gridify.<locals>.decorator_gridify.<locals>.wrapped at 0x000002D48FAB1F78>, Plev1_ijk: <function gridify.<locals>.decorator_gridify.<locals>.wrapped at 0x000002D48FAB1F78>, T_n_ilev(rvec_GDZsph4D): <function multitime_interp.<locals>.interp at 0x000002D48FAACCA8>, T_n_ilev: <function multitime_interp.<locals>.interp at 0x000002D48FAACCA8>, T_n_ilev_ijk(time, lon, lat, ilev): <function gridify.<locals>.decorator_gridify.<locals>.wrapped at 0x000002D48FAACB88>, T_n_ilev_ijk: <function gridify.<locals>.decorator_gridify.<locals>.wrapped at 0x000002D48FAACB88>, T_n(rvec_GDZsphkm4D): <function _lambdifygenerated at 0x000002D48FAAC708>, T_n: <function _lambdifygenerated at 0x000002D48FAAC708>, T_n_ijk(time, lon, lat, height): <function gridify.<locals>.decorator_gridify.<locals>.wrapped at 0x000002D48FAB3678>, T_n_ijk: <function gridify.<locals>.decorator_gridify.<locals>.wrapped at 0x000002D48FAB3678>, mmr_O2_ilev(rvec_GDZsph4D): <function multitime_interp.<locals>.interp at 0x000002D48FAB3CA8>, mmr_O2_ilev: <function multitime_interp.<locals>.interp at 0x000002D48FAB3CA8>, mmr_O2_ilev_ijk(time, lon, lat, ilev): <function gridify.<locals>.decorator_gridify.<locals>.wrapped at 0x000002D48FAB3E58>, mmr_O2_ilev_ijk: <function gridify.<locals>.decorator_gridify.<locals>.wrapped at 0x000002D48FAB3E58>, mmr_O2(rvec_GDZsphkm4D): <function _lambdifygenerated at 0x000002D48FACF558>, mmr_O2: <function _lambdifygenerated at 0x000002D48FACF558>, mmr_O2_ijk(time, lon, lat, height): <function gridify.<locals>.decorator_gridify.<locals>.wrapped at 0x000002D48FACF828>, mmr_O2_ijk: <function gridify.<locals>.decorator_gridify.<locals>.wrapped at 0x000002D48FACF828>, T_e_ilev(rvec_GDZsph4D): <function multitime_interp.<locals>.interp at 0x000002D48FAD9168>, T_e_ilev: <function multitime_interp.<locals>.interp at 0x000002D48FAD9168>, T_e_ilev_ijk(time, lon, lat, ilev): <function gridify.<locals>.decorator_gridify.<locals>.wrapped at 0x000002D48FAD93A8>, T_e_ilev_ijk: <function gridify.<locals>.decorator_gridify.<locals>.wrapped at 0x000002D48FAD93A8>, T_e(rvec_GDZsphkm4D): <function _lambdifygenerated at 0x000002D48FAD9318>, T_e: <function _lambdifygenerated at 0x000002D48FAD9318>, T_e_ijk(time, lon, lat, height): <function gridify.<locals>.decorator_gridify.<locals>.wrapped at 0x000002D48FAD9F78>, T_e_ijk: <function gridify.<locals>.decorator_gridify.<locals>.wrapped at 0x000002D48FAD9F78>, T_i_ilev(rvec_GDZsph4D): <function multitime_interp.<locals>.interp at 0x000002D48FAE25E8>, T_i_ilev: <function multitime_interp.<locals>.interp at 0x000002D48FAE25E8>, T_i_ilev_ijk(time, lon, lat, ilev): <function gridify.<locals>.decorator_gridify.<locals>.wrapped at 0x000002D48FAE2828>, T_i_ilev_ijk: <function gridify.<locals>.decorator_gridify.<locals>.wrapped at 0x000002D48FAE2828>, T_i(rvec_GDZsphkm4D): <function _lambdifygenerated at 0x000002D48FACC048>, T_i: <function _lambdifygenerated at 0x000002D48FACC048>, T_i_ijk(time, lon, lat, height): <function gridify.<locals>.decorator_gridify.<locals>.wrapped at 0x000002D48FACC708>, T_i_ijk: <function gridify.<locals>.decorator_gridify.<locals>.wrapped at 0x000002D48FACC708>, TEC(rvec_GDZsph3D): <function multitime_interp.<locals>.interp at 0x000002D48FACCDC8>, TEC: <function multitime_interp.<locals>.interp at 0x000002D48FACCDC8>, TEC_ijk(time, lon, lat): <function gridify.<locals>.decorator_gridify.<locals>.wrapped at 0x000002D48FA51048>, TEC_ijk: <function gridify.<locals>.decorator_gridify.<locals>.wrapped at 0x000002D48FA51048>, W_JouleH(rvec_GDZsph3D): <function multitime_interp.<locals>.interp at 0x000002D48FA51948>, W_JouleH: <function multitime_interp.<locals>.interp at 0x000002D48FA51948>, W_JouleH_ijk(time, lon, lat): <function gridify.<locals>.decorator_gridify.<locals>.wrapped at 0x000002D48FA51AF8>, W_JouleH_ijk: <function gridify.<locals>.decorator_gridify.<locals>.wrapped at 0x000002D48FA51AF8>, Phi_E(rvec_GDZsph3D): <function multitime_interp.<locals>.interp at 0x000002D48FA574C8>, Phi_E: <function multitime_interp.<locals>.interp at 0x000002D48FA574C8>, Phi_E_ijk(time, lon, lat): <function gridify.<locals>.decorator_gridify.<locals>.wrapped at 0x000002D48FA57708>, Phi_E_ijk: <function gridify.<locals>.decorator_gridify.<locals>.wrapped at 0x000002D48FA57708>, HmF2(rvec_GDZsph3D): <function multitime_interp.<locals>.interp at 0x000002D48FADE048>, HmF2: <function multitime_interp.<locals>.interp at 0x000002D48FADE048>, HmF2_ijk(time, lon, lat): <function gridify.<locals>.decorator_gridify.<locals>.wrapped at 0x000002D48FADE288>, HmF2_ijk: <function gridify.<locals>.decorator_gridify.<locals>.wrapped at 0x000002D48FADE288>, NmF2(rvec_GDZsph3D): <function multitime_interp.<locals>.interp at 0x000002D48FADEAF8>, NmF2: <function multitime_interp.<locals>.interp at 0x000002D48FADEAF8>, NmF2_ijk(time, lon, lat): <function gridify.<locals>.decorator_gridify.<locals>.wrapped at 0x000002D48FADECA8>, NmF2_ijk: <function gridify.<locals>.decorator_gridify.<locals>.wrapped at 0x000002D48FADECA8>}"
      ]
     },
     "execution_count": 13,
     "metadata": {},
     "output_type": "execute_result"
    }
   ],
   "source": [
    "var_list = ['TEC', 'W_JouleH', 'Phi_E', 'HmF2', 'NmF2', 'H_ilev1', 'mmr_O2', 'T_n', 'T_e', 'T_i']\n",
    "from time import perf_counter\n",
    "reader = MW.Model_Reader(model)\n",
    "t0 = perf_counter()\n",
    "kamodo_object = reader(file_dir, variables_requested=var_list)\n",
    "t1 = perf_counter()\n",
    "print(t1-t0)\n",
    "kamodo_object"
   ]
  },
  {
   "cell_type": "code",
   "execution_count": null,
   "metadata": {},
   "outputs": [],
   "source": [
    "# Check that reading the time files works and that reader works for one variable,\n",
    "kamodo_object = reader(file_dir, variables_requested=['T_n'])\n",
    "kamodo_object"
   ]
  },
  {
   "cell_type": "code",
   "execution_count": null,
   "metadata": {},
   "outputs": [],
   "source": [
    "# Confirm that interpolation works\n",
    "print(kamodo_object.T_n([5.2, 10., 60., 350.]))\n",
    "print(kamodo_object.T_n_ijk(time=5.2, lon=10., lat=60., height=350.))\n",
    "print(kamodo_object.T_n_ijk(time=5.2, lon=10).shape)"
   ]
  },
  {
   "cell_type": "code",
   "execution_count": null,
   "metadata": {},
   "outputs": [],
   "source": [
    "# Check that reading the time files works, and that the reader works for all variables\n",
    "kamodo_object = reader(file_dir)\n",
    "kamodo_object"
   ]
  },
  {
   "cell_type": "code",
   "execution_count": null,
   "metadata": {},
   "outputs": [],
   "source": [
    "# Check that the kamodo object was built properly.\n",
    "print(kamodo_object.T_n([5.2, 10., 60., 350.]))"
   ]
  },
  {
   "cell_type": "code",
   "execution_count": null,
   "metadata": {},
   "outputs": [],
   "source": [
    "# Check that the reader works for the testing subset\n",
    "kamodo_object = reader(file_dir, variables_requested=variables_requested)\n",
    "kamodo_object"
   ]
  },
  {
   "cell_type": "code",
   "execution_count": null,
   "metadata": {},
   "outputs": [],
   "source": [
    "# Confirm that the interpolator works for each testing variable and type\n",
    "print(kamodo_object.T_n([5.2, 10., 60., 350.]))\n",
    "print(kamodo_object.T_n_ijk(time=5.2, lon=10., lat=60., height=350.))\n",
    "print(kamodo_object.T_n([5.2, 10., 60., 350.]) == kamodo_object.T_n_ijk(time=5.2, lon=10., lat=60., height=350.))\n",
    "print(kamodo_object.T_n_ijk(time=5.2, lon=10.).shape)\n",
    "print(kamodo_object.rho([5.2, 10., 60., 350.]))\n",
    "print(kamodo_object.rho_ijk(time=5.2, lon=10., lat=60., height=350.))\n",
    "print(kamodo_object.rho([5.2, 10., 60., 350.]) == kamodo_object.rho_ijk(time=5.2, lon=10., lat=60., height=350.))\n",
    "print(kamodo_object.rho_ijk(time=5.2, lon=10.).shape)\n",
    "print(kamodo_object.TEC([5.2, 10., 60.]))\n",
    "print(kamodo_object.TEC_ijk(time=5.2, lon=10., lat=60.))\n",
    "print(kamodo_object.TEC([5.2, 10., 60.]) == kamodo_object.TEC_ijk(time=5.2, lon=10., lat=60.))\n",
    "print(kamodo_object.TEC_ijk(time=5.2).shape)\n",
    "print(kamodo_object.H_milev([5.2, 10., 60., 5.2]))\n",
    "print(kamodo_object.H_milev_ijk(time=5.2, mlon=10., mlat=60., milev=5.2))\n",
    "print(kamodo_object.H_milev([5.2, 10., 60., 5.2]) == kamodo_object.H_milev_ijk(time=5.2, mlon=10., mlat=60., milev=5.2))\n",
    "print(kamodo_object.H_milev_ijk(time=5.2, mlon=10.).shape)"
   ]
  },
  {
   "cell_type": "code",
   "execution_count": null,
   "metadata": {},
   "outputs": [],
   "source": [
    "from kamodo import get_defaults\n",
    "for var in variables_requested:\n",
    "    print('\\n', var)\n",
    "    defaults = get_defaults(kamodo_object[var])\n",
    "    for key in defaults:\n",
    "        print(key, len(defaults[key]))\n",
    "        for item in defaults[key]:\n",
    "            print(item)\n",
    "    defaults_ijk = get_defaults(kamodo_object[var+'_ijk'])\n",
    "    for key in defaults_ijk:\n",
    "        print(key, len(defaults_ijk[key]), defaults_ijk[key].min(), defaults_ijk[key].max())\n",
    "kamodo_object.filedate"
   ]
  },
  {
   "cell_type": "code",
   "execution_count": null,
   "metadata": {},
   "outputs": [],
   "source": [
    "fig = kamodo_object.plot('T_n_ijk', plot_partial={'T_n_ijk': {'time': 40., 'height': 200.}})\n",
    "fig.update_traces(colorscale=\"Viridis\", ncontours=200, contours=dict(coloring=\"fill\", showlines=False))\n",
    "fig"
   ]
  },
  {
   "cell_type": "code",
   "execution_count": null,
   "metadata": {},
   "outputs": [],
   "source": [
    "fig = kamodo_object.plot('T_n_ijk', plot_partial={'T_n_ijk': {'lat': 10., 'lon': -20.}})\n",
    "fig.update_traces(colorscale=\"Viridis\", ncontours=200, contours=dict(coloring=\"fill\", showlines=False))\n",
    "fig"
   ]
  },
  {
   "cell_type": "code",
   "execution_count": null,
   "metadata": {},
   "outputs": [],
   "source": [
    "fig = kamodo_object.plot('TEC_ijk', plot_partial={'TEC_ijk': {'time': 30.1}})\n",
    "fig.update_traces(colorscale=\"Viridis\", ncontours=200, contours=dict(coloring=\"fill\", showlines=False))\n",
    "fig"
   ]
  },
  {
   "cell_type": "code",
   "execution_count": null,
   "metadata": {},
   "outputs": [],
   "source": [
    "fig = kamodo_object.plot('TEC_ijk', plot_partial={'TEC_ijk': {'lon': 30.1}})\n",
    "fig.update_traces(colorscale=\"Viridis\", ncontours=200, contours=dict(coloring=\"fill\", showlines=False))\n",
    "fig"
   ]
  },
  {
   "cell_type": "code",
   "execution_count": null,
   "metadata": {},
   "outputs": [],
   "source": [
    "fig = kamodo_object.plot('rho_ijk', plot_partial={'rho_ijk': {'time': 40., 'height': 200.}})\n",
    "fig.update_traces(colorscale=\"Viridis\", ncontours=200, contours=dict(coloring=\"fill\", showlines=False))\n",
    "fig"
   ]
  },
  {
   "cell_type": "code",
   "execution_count": null,
   "metadata": {},
   "outputs": [],
   "source": [
    "from kamodo_ccmc.readers.reader_utilities import toLog10\n",
    "fig = kamodo_object.plot('rho_ijk', plot_partial={'rho_ijk': {'lat': 10., 'lon': -20.}})\n",
    "fig.update_traces(colorscale=\"Viridis\", ncontours=200, contours=dict(coloring=\"fill\", showlines=False))\n",
    "fig = toLog10(fig)\n",
    "fig"
   ]
  },
  {
   "cell_type": "code",
   "execution_count": null,
   "metadata": {},
   "outputs": [],
   "source": [
    "fig = kamodo_object.plot('H_milev_ijk', plot_partial={'H_milev_ijk': {'time': 40., 'milev': 5.1}})\n",
    "fig.update_traces(colorscale=\"Viridis\", ncontours=200, contours=dict(coloring=\"fill\", showlines=False))\n",
    "fig"
   ]
  },
  {
   "cell_type": "code",
   "execution_count": null,
   "metadata": {},
   "outputs": [],
   "source": [
    "fig = kamodo_object.plot('H_milev_ijk', plot_partial={'H_milev_ijk': {'mlon': 40., 'mlat': 10.1}})\n",
    "fig.update_traces(colorscale=\"Viridis\", ncontours=200, contours=dict(coloring=\"fill\", showlines=False))\n",
    "fig"
   ]
  },
  {
   "cell_type": "code",
   "execution_count": null,
   "metadata": {},
   "outputs": [],
   "source": [
    "MW.Variable_Search('density')"
   ]
  },
  {
   "cell_type": "code",
   "execution_count": null,
   "metadata": {},
   "outputs": [],
   "source": [
    "MW.Variable_Search('density', model)"
   ]
  },
  {
   "cell_type": "code",
   "execution_count": null,
   "metadata": {},
   "outputs": [],
   "source": [
    "MW.Variable_Search('density', model, file_dir)"
   ]
  },
  {
   "cell_type": "code",
   "execution_count": null,
   "metadata": {},
   "outputs": [],
   "source": [
    "from kamodo_ccmc.flythrough import SatelliteFlythrough as SF\n",
    "import datetime as dt\n",
    "start_utcts = dt.datetime(2015, 3, 18, 10).replace(tzinfo=dt.timezone.utc).timestamp()\n",
    "end_utcts = dt.datetime(2015, 3, 19, 2).replace(tzinfo=dt.timezone.utc).timestamp()-1\n",
    "results = SF.ModelFlythrough(model, file_dir, ['T_n'], [start_utcts, end_utcts], [0., 180.], [60., -60.],\n",
    "                             [400., 400.], 'GDZ-sph')\n",
    "results['T_n']"
   ]
  },
  {
   "cell_type": "code",
   "execution_count": null,
   "metadata": {},
   "outputs": [],
   "source": [
    "results = SF.ModelFlythrough(model, file_dir, ['T_n'], [start_utcts], [0.], [60.],\n",
    "                             [400.], 'GDZ-sph')\n",
    "results['T_n']"
   ]
  },
  {
   "cell_type": "code",
   "execution_count": null,
   "metadata": {},
   "outputs": [],
   "source": []
  }
 ],
 "metadata": {
  "kernelspec": {
   "display_name": "Python 3 (ipykernel)",
   "language": "python",
   "name": "python3"
  },
  "language_info": {
   "codemirror_mode": {
    "name": "ipython",
    "version": 3
   },
   "file_extension": ".py",
   "mimetype": "text/x-python",
   "name": "python",
   "nbconvert_exporter": "python",
   "pygments_lexer": "ipython3",
   "version": "3.7.13"
  }
 },
 "nbformat": 4,
 "nbformat_minor": 2
}
